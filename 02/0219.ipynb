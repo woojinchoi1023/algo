{
 "cells": [
  {
   "cell_type": "code",
   "execution_count": 1,
   "metadata": {},
   "outputs": [],
   "source": [
    "# 2578 빙고\n",
    "bingo = {}\n",
    "ls = [list(map(int,input().split())) for _ in range(5)]\n",
    "\n",
    "for i in range(25):\n",
    "    bingo[i+1] = False\n",
    "\n",
    "calling = ''\n",
    "for i in range(5):\n",
    "    calling += input()\n",
    "calling = list(map(int,calling.split()))\n",
    "def find(a):\n",
    "    for i in ls:\n",
    "        for j in i:\n",
    "            if j == a:\n",
    "                bingo[a] = True\n",
    "                return\n",
    "def check(ls):\n",
    "    cnt = 0\n",
    "    for i in ls:\n",
    "        for j in i:\n",
    "            if not bingo[j]:\n",
    "                break\n",
    "        else:\n",
    "            cnt+=1\n",
    "    for i in range(5):\n",
    "        for j in range(5):\n",
    "            if not bingo[ls[j][i]]:\n",
    "                break\n",
    "        else:\n",
    "            cnt+=1\n",
    "    for i in range(5):\n",
    "        if not bingo[ls[i][i]]:\n",
    "            break\n",
    "    else:\n",
    "        cnt+=1\n",
    "    for i in range(5):\n",
    "        if not bingo[ls[i][4-i]]:\n",
    "            break\n",
    "    else:\n",
    "        cnt+=1\n",
    "    return cnt\n",
    "\n",
    "for i, v in enumerate(calling):\n",
    "    v = int(v)\n",
    "    bingo[v] = True\n",
    "    res = check(ls)\n",
    "    if res >2:\n",
    "        print(i+1)\n",
    "        break\n",
    "\n"
   ]
  }
 ],
 "metadata": {
  "kernelspec": {
   "display_name": "Python 3",
   "language": "python",
   "name": "python3"
  },
  "language_info": {
   "codemirror_mode": {
    "name": "ipython",
    "version": 3
   },
   "file_extension": ".py",
   "mimetype": "text/x-python",
   "name": "python",
   "nbconvert_exporter": "python",
   "pygments_lexer": "ipython3",
   "version": "3.12.2"
  }
 },
 "nbformat": 4,
 "nbformat_minor": 2
}
