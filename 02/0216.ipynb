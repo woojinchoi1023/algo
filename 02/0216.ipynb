{
 "cells": [
  {
   "cell_type": "code",
   "execution_count": 37,
   "metadata": {},
   "outputs": [
    {
     "name": "stdout",
     "output_type": "stream",
     "text": [
      "1\n",
      "2\n",
      "3\n",
      "4\n",
      "10\n",
      "30\n",
      "50\n",
      "1\n"
     ]
    }
   ],
   "source": [
    "# 2309 일곱 난쟁이\n",
    "def dfs(temp:list,i):\n",
    "    if sum(temp)>100:\n",
    "        return\n",
    "    if i == 9:\n",
    "        if len(temp) == 7 and sum(temp)== 100:\n",
    "            temp.sort()\n",
    "            ans.extend(temp)\n",
    "        return\n",
    "    \n",
    "    temp.append(ls[i])\n",
    "    dfs(temp,i+1)\n",
    "    temp.pop()\n",
    "    dfs(temp,i+1)\n",
    "\n",
    "ls = []\n",
    "# ls = [20, 7, 23, 19, 10, 15, 25, 8, 13]\n",
    "for i in range(9):\n",
    "    ls.append(int(input()))\n",
    "\n",
    "ans = []\n",
    "dfs([], 0)\n",
    "print(*ans[0:7],sep='\\n')"
   ]
  },
  {
   "cell_type": "code",
   "execution_count": 43,
   "metadata": {},
   "outputs": [
    {
     "name": "stdout",
     "output_type": "stream",
     "text": [
      "7\n",
      "8\n",
      "10\n",
      "13\n",
      "19\n",
      "20\n",
      "23\n"
     ]
    }
   ],
   "source": [
    "# 2309 일곱 난쟁이 ver.2\n",
    "import itertools\n",
    "\n",
    "ls = []\n",
    "\n",
    "for i in range(9):\n",
    "    ls.append(int(input()))\n",
    "\n",
    "for i in itertools.combinations(ls,7):\n",
    "    if sum(i) == 100:\n",
    "        i = list(i)\n",
    "        i.sort()\n",
    "        print(*i, sep='\\n')\n",
    "        break\n"
   ]
  },
  {
   "cell_type": "code",
   "execution_count": 23,
   "metadata": {},
   "outputs": [
    {
     "name": "stdout",
     "output_type": "stream",
     "text": [
      "[['a', 'b'], ['a', 'c'], ['a', 'd'], ['b', 'c'], ['b', 'd'], ['c', 'd']]\n"
     ]
    }
   ],
   "source": [
    "l = ['a', 'b', 'c', 'd']\n",
    "n = len(l)\n",
    "r = 2\n",
    "answer = []\n",
    "\n",
    "def dfs(idx, list):\n",
    "    # 전체를 돌았을 때\n",
    "    if idx == n:\n",
    "        # 해당 경우의 수의 요소 개수가 r개와 같다면\n",
    "        if len(list) == r:\n",
    "            # 답이다\n",
    "            answer.append(list[:])\n",
    "        #모두 돌았으니 정답이든 아니든 리턴해줌\n",
    "        return\n",
    "    # 자기 자신을 포함시킬 경우\n",
    "    list.append(l[idx])\n",
    "    dfs(idx+1, list)\n",
    "    # 자기 자신을 포함시키지 않을 경우\n",
    "    list.pop()\n",
    "    dfs(idx+1, list)\n",
    "\n",
    "dfs(0, [])\n",
    "print(answer)"
   ]
  },
  {
   "cell_type": "code",
   "execution_count": null,
   "metadata": {},
   "outputs": [],
   "source": [
    "# dfs\n",
    "def dfs(ls, start):\n",
    "    need_visited, visited = list(), list()\n",
    "    need_visited.append(start)\n",
    "    while need_visited:\n",
    "        node = need_visited.pop()\n",
    "        if node not in visited:\n",
    "            visited.append(node)\n",
    "            need_visited.extend(ls[node]) # 인접한 node\n",
    "    return visited"
   ]
  },
  {
   "cell_type": "code",
   "execution_count": null,
   "metadata": {},
   "outputs": [],
   "source": [
    "# recursive dfs\n",
    "def dfs(ls, s, visited=[]):\n",
    "    visited.append(s)\n",
    "    for node in ls[s]:\n",
    "        if node not in visited:\n",
    "            dfs(ls, node, visited)\n",
    "    return visited\n",
    "dfs(ls,'A')\n",
    "\n"
   ]
  },
  {
   "cell_type": "code",
   "execution_count": 13,
   "metadata": {},
   "outputs": [
    {
     "ename": "TypeError",
     "evalue": "list indices must be integers or slices, not str",
     "output_type": "error",
     "traceback": [
      "\u001b[1;31m---------------------------------------------------------------------------\u001b[0m",
      "\u001b[1;31mTypeError\u001b[0m                                 Traceback (most recent call last)",
      "Cell \u001b[1;32mIn[13], line 23\u001b[0m\n\u001b[0;32m     20\u001b[0m graph[\u001b[38;5;124m'\u001b[39m\u001b[38;5;124mI\u001b[39m\u001b[38;5;124m'\u001b[39m] \u001b[38;5;241m=\u001b[39m [\u001b[38;5;124m'\u001b[39m\u001b[38;5;124mC\u001b[39m\u001b[38;5;124m'\u001b[39m, \u001b[38;5;124m'\u001b[39m\u001b[38;5;124mJ\u001b[39m\u001b[38;5;124m'\u001b[39m]\n\u001b[0;32m     21\u001b[0m graph[\u001b[38;5;124m'\u001b[39m\u001b[38;5;124mJ\u001b[39m\u001b[38;5;124m'\u001b[39m] \u001b[38;5;241m=\u001b[39m [\u001b[38;5;124m'\u001b[39m\u001b[38;5;124mI\u001b[39m\u001b[38;5;124m'\u001b[39m]\n\u001b[1;32m---> 23\u001b[0m \u001b[43mdfs\u001b[49m\u001b[43m(\u001b[49m\u001b[43mgraph\u001b[49m\u001b[43m,\u001b[49m\u001b[38;5;124;43m'\u001b[39;49m\u001b[38;5;124;43mA\u001b[39;49m\u001b[38;5;124;43m'\u001b[39;49m\u001b[43m,\u001b[49m\u001b[43m[\u001b[49m\u001b[38;5;28;43;01mFalse\u001b[39;49;00m\u001b[43m]\u001b[49m\u001b[38;5;241;43m*\u001b[39;49m\u001b[43mN\u001b[49m\u001b[43m)\u001b[49m\n",
      "Cell \u001b[1;32mIn[13], line 3\u001b[0m, in \u001b[0;36mdfs\u001b[1;34m(ls, s, visited)\u001b[0m\n\u001b[0;32m      2\u001b[0m \u001b[38;5;28;01mdef\u001b[39;00m \u001b[38;5;21mdfs\u001b[39m(ls, s, visited):\n\u001b[1;32m----> 3\u001b[0m     \u001b[43mvisited\u001b[49m\u001b[43m[\u001b[49m\u001b[43ms\u001b[49m\u001b[43m]\u001b[49m \u001b[38;5;241m=\u001b[39m \u001b[38;5;28;01mTrue\u001b[39;00m\n\u001b[0;32m      4\u001b[0m     \u001b[38;5;28;01mfor\u001b[39;00m node \u001b[38;5;129;01min\u001b[39;00m ls[s]:\n\u001b[0;32m      5\u001b[0m         \u001b[38;5;28;01mif\u001b[39;00m \u001b[38;5;129;01mnot\u001b[39;00m visited[node]:\n",
      "\u001b[1;31mTypeError\u001b[0m: list indices must be integers or slices, not str"
     ]
    }
   ],
   "source": [
    "# recursive dfs\n",
    "def dfs(ls, s, visited):\n",
    "    visited[s] = True # error\n",
    "    for node in ls[s]:\n",
    "        if not visited[node]:\n",
    "            dfs(ls, node, visited)\n",
    "    return visited\n",
    "\n",
    "N = 10 # num of nodes\n",
    "\n",
    "graph = dict()\n",
    "graph['A'] = ['B', 'C']\n",
    "graph['B'] = ['A', 'D']\n",
    "graph['C'] = ['A', 'G', 'H', 'I']\n",
    "graph['D'] = ['B', 'E', 'F']\n",
    "graph['E'] = ['D']\n",
    "graph['F'] = ['D']\n",
    "graph['G'] = ['C']\n",
    "graph['H'] = ['C']\n",
    "graph['I'] = ['C', 'J']\n",
    "graph['J'] = ['I']\n",
    "\n",
    "dfs(graph,'A',[False]*N)\n",
    "\n"
   ]
  },
  {
   "cell_type": "code",
   "execution_count": 45,
   "metadata": {},
   "outputs": [
    {
     "name": "stdout",
     "output_type": "stream",
     "text": [
      "3\n"
     ]
    }
   ],
   "source": [
    "# 13300 방배정\n",
    "\n",
    "# import sys\n",
    "# input = sys.stdin.readline\n",
    "\n",
    "N,K=map(int,input().split())\n",
    "ls = [0] * 12 # 1st f,m 2nd f,m ....\n",
    "for i in range(N):\n",
    "    s, y = map(int,input().split())\n",
    "    ls[(y-1)*2+s] += 1\n",
    "cnt = 0\n",
    "for i in ls:\n",
    "    a,b = divmod(i,K)\n",
    "    if b > 0:\n",
    "        cnt += 1\n",
    "    cnt += a\n",
    "print(cnt)"
   ]
  },
  {
   "cell_type": "code",
   "execution_count": 64,
   "metadata": {},
   "outputs": [
    {
     "name": "stdout",
     "output_type": "stream",
     "text": [
      "64\n",
      "36\n"
     ]
    }
   ],
   "source": [
    "# 10163 색종이\n",
    "board = [[0]*1001 for _ in range(1001)]\n",
    "N = int(input())\n",
    "for i in range(1,N+1):\n",
    "    r,c,w,h= map(int,input().split())\n",
    "    for row in range(r,r+w):\n",
    "        # for col in range(c,c+h):\n",
    "        board[row][c:c+h] = [i] * h\n",
    "ans = [0] * N\n",
    "for i in board:\n",
    "    for j in i:\n",
    "        if j:\n",
    "            ans[j-1] += 1\n",
    "print(*ans, sep='\\n')"
   ]
  },
  {
   "cell_type": "code",
   "execution_count": 63,
   "metadata": {},
   "outputs": [
    {
     "ename": "ValueError",
     "evalue": "invalid literal for int() with base 10: ''",
     "output_type": "error",
     "traceback": [
      "\u001b[1;31m---------------------------------------------------------------------------\u001b[0m",
      "\u001b[1;31mValueError\u001b[0m                                Traceback (most recent call last)",
      "Cell \u001b[1;32mIn[63], line 6\u001b[0m\n\u001b[0;32m      4\u001b[0m start \u001b[38;5;241m=\u001b[39m time\u001b[38;5;241m.\u001b[39mtime()\n\u001b[0;32m      5\u001b[0m board \u001b[38;5;241m=\u001b[39m [\u001b[38;5;28mset\u001b[39m() \u001b[38;5;28;01mfor\u001b[39;00m _ \u001b[38;5;129;01min\u001b[39;00m \u001b[38;5;28mrange\u001b[39m(\u001b[38;5;241m1001\u001b[39m)]\n\u001b[1;32m----> 6\u001b[0m N \u001b[38;5;241m=\u001b[39m \u001b[38;5;28;43mint\u001b[39;49m\u001b[43m(\u001b[49m\u001b[38;5;28;43minput\u001b[39;49m\u001b[43m(\u001b[49m\u001b[43m)\u001b[49m\u001b[43m)\u001b[49m\n\u001b[0;32m      7\u001b[0m papers \u001b[38;5;241m=\u001b[39m []\n\u001b[0;32m      8\u001b[0m s \u001b[38;5;241m=\u001b[39m \u001b[38;5;28mset\u001b[39m() \u001b[38;5;66;03m# cumulative\u001b[39;00m\n",
      "\u001b[1;31mValueError\u001b[0m: invalid literal for int() with base 10: ''"
     ]
    }
   ],
   "source": [
    "# 10163 색종이\n",
    "from collections import deque\n",
    "import sys\n",
    "input = sys.stdin.readline\n",
    "board = [set() for _ in range(1001)]\n",
    "N = int(input())\n",
    "papers = deque()\n",
    "ans = deque()\n",
    "for i in range(1,N+1):\n",
    "    papers.appendleft(tuple(map(int,input().split())))\n",
    "for r,c,w,h in papers:\n",
    "    temp = 0\n",
    "    for row in range(r,r+w):\n",
    "        for col in range(c,c+h):\n",
    "            if col not in board[row]:\n",
    "                temp += 1\n",
    "                board[row].add(col)\n",
    "    ans.appendleft(temp)\n",
    "print(*ans, sep='\\n')\n"
   ]
  },
  {
   "cell_type": "code",
   "execution_count": 56,
   "metadata": {},
   "outputs": [
    {
     "name": "stdout",
     "output_type": "stream",
     "text": [
      "1 2 3 4\n"
     ]
    }
   ],
   "source": [
    "papers = []\n",
    "papers.append(tuple(map(int,input().split())))\n",
    "for r,c,w,h in papers[::-1]:\n",
    "    print(r,c,w,h)"
   ]
  },
  {
   "cell_type": "code",
   "execution_count": 74,
   "metadata": {},
   "outputs": [
    {
     "name": "stdout",
     "output_type": "stream",
     "text": [
      "D\n"
     ]
    }
   ],
   "source": [
    "# 14696 딱지놀이\n",
    "from collections import Counter\n",
    "d = {\n",
    "    1: 1,          #tri\n",
    "    2: 1000,       #sq\n",
    "    3: 1000000,    #cir\n",
    "    4: 1000000000, #star\n",
    "}\n",
    "N = int(input())\n",
    "for i in range(N):\n",
    "    num, *data = map(int,input().split())\n",
    "    c = Counter(data)\n",
    "    a = 0 # score\n",
    "    for i in c:\n",
    "        a += d[i] * c[i]\n",
    "\n",
    "    num, *data = map(int,input().split())\n",
    "    c = Counter(data)\n",
    "    b = 0 # score\n",
    "    for i in c:\n",
    "        b += d[i] * c[i]\n",
    "        \n",
    "    if a>b: print('A')\n",
    "    elif a<b: print('B')\n",
    "    else: print('D')"
   ]
  },
  {
   "cell_type": "code",
   "execution_count": 68,
   "metadata": {},
   "outputs": [
    {
     "data": {
      "text/plain": [
       "Counter({5: 5, 3: 3, 4: 3, 2: 1})"
      ]
     },
     "execution_count": 68,
     "metadata": {},
     "output_type": "execute_result"
    }
   ],
   "source": [
    "from collections import Counter\n",
    "\n",
    "s, *b = map(int,input().split())\n",
    "s, b\n",
    "\n",
    "c = Counter(b)\n",
    "c"
   ]
  },
  {
   "cell_type": "code",
   "execution_count": 75,
   "metadata": {},
   "outputs": [
    {
     "data": {
      "text/plain": [
       "[0, 'a', 1, 2, 3, 4]"
      ]
     },
     "execution_count": 75,
     "metadata": {},
     "output_type": "execute_result"
    }
   ],
   "source": [
    "ls = [0,1,2,3,4]\n",
    "ls.insert(1,'a')\n",
    "ls"
   ]
  },
  {
   "cell_type": "code",
   "execution_count": 83,
   "metadata": {},
   "outputs": [
    {
     "name": "stdout",
     "output_type": "stream",
     "text": [
      "4 2 5 3 1\n"
     ]
    }
   ],
   "source": [
    "# 2605 줄세우기\n",
    "N = int(input())\n",
    "ls = list(map(int,input().split()))\n",
    "order = []\n",
    "for i in range(N):\n",
    "    order.insert(i-ls[i], i+1)\n",
    "print(*order)\n",
    "\n"
   ]
  },
  {
   "cell_type": "code",
   "execution_count": null,
   "metadata": {},
   "outputs": [],
   "source": []
  }
 ],
 "metadata": {
  "kernelspec": {
   "display_name": "Python 3",
   "language": "python",
   "name": "python3"
  },
  "language_info": {
   "codemirror_mode": {
    "name": "ipython",
    "version": 3
   },
   "file_extension": ".py",
   "mimetype": "text/x-python",
   "name": "python",
   "nbconvert_exporter": "python",
   "pygments_lexer": "ipython3",
   "version": "3.12.2"
  }
 },
 "nbformat": 4,
 "nbformat_minor": 2
}
