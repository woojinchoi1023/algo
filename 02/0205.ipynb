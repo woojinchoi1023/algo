{
 "cells": [
  {
   "cell_type": "code",
   "execution_count": 1,
   "metadata": {},
   "outputs": [
    {
     "ename": "KeyError",
     "evalue": "5",
     "output_type": "error",
     "traceback": [
      "\u001b[1;31m---------------------------------------------------------------------------\u001b[0m",
      "\u001b[1;31mKeyError\u001b[0m                                  Traceback (most recent call last)",
      "Cell \u001b[1;32mIn[1], line 24\u001b[0m\n\u001b[0;32m     22\u001b[0m \u001b[38;5;28;01mfor\u001b[39;00m i \u001b[38;5;129;01min\u001b[39;00m \u001b[38;5;28mrange\u001b[39m(N):\n\u001b[0;32m     23\u001b[0m     ls\u001b[38;5;241m.\u001b[39mappend(\u001b[38;5;28mint\u001b[39m(\u001b[38;5;28minput\u001b[39m()))\n\u001b[1;32m---> 24\u001b[0m \u001b[38;5;28mprint\u001b[39m(\u001b[38;5;241m*\u001b[39m\u001b[43mcountSort\u001b[49m\u001b[43m(\u001b[49m\u001b[43mls\u001b[49m\u001b[43m,\u001b[49m\u001b[43m \u001b[49m\u001b[43mN\u001b[49m\u001b[43m)\u001b[49m,sep\u001b[38;5;241m=\u001b[39m\u001b[38;5;124m'\u001b[39m\u001b[38;5;130;01m\\n\u001b[39;00m\u001b[38;5;124m'\u001b[39m)\n",
      "Cell \u001b[1;32mIn[1], line 6\u001b[0m, in \u001b[0;36mcountSort\u001b[1;34m(ls, N)\u001b[0m\n\u001b[0;32m      4\u001b[0m ans \u001b[38;5;241m=\u001b[39m [\u001b[38;5;241m0\u001b[39m] \u001b[38;5;241m*\u001b[39m N\n\u001b[0;32m      5\u001b[0m \u001b[38;5;28;01mfor\u001b[39;00m i \u001b[38;5;129;01min\u001b[39;00m ls:\n\u001b[1;32m----> 6\u001b[0m     \u001b[43mcnt\u001b[49m\u001b[43m[\u001b[49m\u001b[43mi\u001b[49m\u001b[43m]\u001b[49m \u001b[38;5;241m+\u001b[39m\u001b[38;5;241m=\u001b[39m \u001b[38;5;241m1\u001b[39m\n\u001b[0;32m      7\u001b[0m \u001b[38;5;28;01mfor\u001b[39;00m i \u001b[38;5;129;01min\u001b[39;00m \u001b[38;5;28mrange\u001b[39m(\u001b[38;5;241m1\u001b[39m,\u001b[38;5;241m10001\u001b[39m):\n\u001b[0;32m      8\u001b[0m     cnt[i] \u001b[38;5;241m+\u001b[39m\u001b[38;5;241m=\u001b[39m cnt[i\u001b[38;5;241m-\u001b[39m\u001b[38;5;241m1\u001b[39m]\n",
      "\u001b[1;31mKeyError\u001b[0m: 5"
     ]
    }
   ],
   "source": [
    "# 10989 수 정렬하기 3\n",
    "def countSort(ls, N):\n",
    "    cnt = [0] * 10001\n",
    "    ans = [0] * N\n",
    "    for i in ls:\n",
    "        cnt[i] += 1\n",
    "    for i in range(1,10001):\n",
    "        cnt[i] += cnt[i-1]\n",
    "    for i in range(N-1,-1,-1):\n",
    "        cnt[ls[i]] -= 1\n",
    "        ans[cnt[ls[i]]] = ls[i]\n",
    "    return ans\n",
    "\n",
    "# ls=[5,4,3,2,2,1]\n",
    "# print(countSort(ls,6))\n",
    "\n",
    "import sys\n",
    "input = sys.stdin.readline\n",
    "\n",
    "N = int(input())\n",
    "ls = []\n",
    "for i in range(N):\n",
    "    ls.append(int(input()))\n",
    "print(*countSort(ls, N),sep='\\n')\n",
    "\n"
   ]
  },
  {
   "cell_type": "code",
   "execution_count": 5,
   "metadata": {},
   "outputs": [
    {
     "name": "stdout",
     "output_type": "stream",
     "text": [
      "None\n"
     ]
    }
   ],
   "source": [
    "\n",
    "\n",
    "N = int(input())\n",
    "dic = {}\n",
    "for i in range(N):\n",
    "    k = int(input())\n",
    "    if dic.get(k):\n",
    "        dic[k] += 1\n",
    "    else:\n",
    "        dic[k] = 1\n",
    "print(list(dic.items()).sort(key=lambda x: x[0]))\n",
    "\n",
    "# print(*sorting(ls, N),sep='\\n')\n"
   ]
  },
  {
   "cell_type": "code",
   "execution_count": 13,
   "metadata": {},
   "outputs": [
    {
     "name": "stdout",
     "output_type": "stream",
     "text": [
      "[2, 4, 6, 8, 10, 3, 9]\n",
      "9\n"
     ]
    }
   ],
   "source": [
    "#2960 에라토스테네스의 체?\n",
    "N, K = map(int,input().split())\n",
    "ls = [i for i in range(2,N+1)]\n",
    "res = []\n",
    "while len(res) < K:\n",
    "    P = ls.pop(0)\n",
    "    res.append(P)\n",
    "    for i in ls:\n",
    "        if i%P == 0:\n",
    "            ls.remove(i)\n",
    "            res.append(i)\n",
    "\n",
    "# print(res)\n",
    "print(res[K-1])"
   ]
  },
  {
   "cell_type": "code",
   "execution_count": 35,
   "metadata": {},
   "outputs": [
    {
     "name": "stdout",
     "output_type": "stream",
     "text": [
      "2\n",
      "[8, 10]\n"
     ]
    }
   ],
   "source": [
    "# 1016 제곱 ㄴㄴ 수\n",
    "N, M = map(int,input().split())\n",
    "ls = [i for i in range(N,M+1)]\n",
    "\n",
    "for i in ls:\n",
    "    if i == 1:\n",
    "        continue\n",
    "    p = i**0.5\n",
    "    if p == int(p):\n",
    "        ls.remove(i)\n",
    "        for j in ls:\n",
    "            if j%i == 0:\n",
    "                ls.remove(j)\n",
    "print(len(ls))\n",
    "print(ls)\n"
   ]
  },
  {
   "cell_type": "code",
   "execution_count": 21,
   "metadata": {},
   "outputs": [
    {
     "data": {
      "text/plain": [
       "True"
      ]
     },
     "execution_count": 21,
     "metadata": {},
     "output_type": "execute_result"
    }
   ],
   "source": [
    "p = 4\n",
    "p**0.5 == int(p**0.5)"
   ]
  },
  {
   "cell_type": "code",
   "execution_count": 43,
   "metadata": {},
   "outputs": [
    {
     "name": "stdout",
     "output_type": "stream",
     "text": [
      "[7, 10, 11]\n",
      "3\n"
     ]
    }
   ],
   "source": [
    "# 1016 제곱 ㄴㄴ 수\n",
    "\n",
    "N, M = map(int,input().split())\n",
    "ls = [i for i in range(N,M+1)]\n",
    "\n",
    "for i in range(2,int(M**0.5)+1):\n",
    "    for j in ls:\n",
    "        if j%(i**2) == 0:\n",
    "            ls.remove(j)\n",
    "# print(ls)\n",
    "print(len(ls))"
   ]
  },
  {
   "cell_type": "code",
   "execution_count": 78,
   "metadata": {},
   "outputs": [
    {
     "name": "stdout",
     "output_type": "stream",
     "text": [
      "608\n"
     ]
    }
   ],
   "source": [
    "# 1016 제곱 ㄴㄴ 수\n",
    "\n",
    "N, M = map(int,input().split())\n",
    "ls = [i+1 for i in range(M)]\n",
    "blackList = set()\n",
    "cnt = 0\n",
    "for i in ls:\n",
    "    if i in blackList:\n",
    "        continue\n",
    "    p = i\n",
    "    if N <= i <= M:\n",
    "        cnt+=1\n",
    "    if p == 1:\n",
    "        continue\n",
    "    for j in ls:\n",
    "            if p != j and j%(p**2)==0:\n",
    "                # ls.remove(j)\n",
    "                blackList.add(j)\n",
    "    if p != 1 and p ** 0.5 == int(p**0.5):\n",
    "        # ls.remove(p)\n",
    "        blackList.add(p)\n",
    "\n",
    "# print(res)\n",
    "# print(len(res))\n",
    "print(cnt)\n"
   ]
  },
  {
   "cell_type": "code",
   "execution_count": 75,
   "metadata": {},
   "outputs": [
    {
     "ename": "TypeError",
     "evalue": "'set' object is not subscriptable",
     "output_type": "error",
     "traceback": [
      "\u001b[1;31m---------------------------------------------------------------------------\u001b[0m",
      "\u001b[1;31mTypeError\u001b[0m                                 Traceback (most recent call last)",
      "Cell \u001b[1;32mIn[75], line 2\u001b[0m\n\u001b[0;32m      1\u001b[0m a \u001b[38;5;241m=\u001b[39m {\u001b[38;5;241m1\u001b[39m,\u001b[38;5;241m2\u001b[39m,\u001b[38;5;241m3\u001b[39m}\n\u001b[1;32m----> 2\u001b[0m \u001b[43ma\u001b[49m\u001b[43m[\u001b[49m\u001b[38;5;241;43m1\u001b[39;49m\u001b[43m]\u001b[49m\n",
      "\u001b[1;31mTypeError\u001b[0m: 'set' object is not subscriptable"
     ]
    }
   ],
   "source": [
    "a = {1,2,3}\n"
   ]
  },
  {
   "cell_type": "code",
   "execution_count": 79,
   "metadata": {},
   "outputs": [
    {
     "name": "stdout",
     "output_type": "stream",
     "text": [
      "608\n"
     ]
    }
   ],
   "source": [
    "\n",
    "N, M = map(int, input().split())\n",
    "is_blacklist = [False] * (M + 1)\n",
    "cnt = 0\n",
    "\n",
    "for i in range(2, int(M**0.5) + 1):\n",
    "    if is_blacklist[i]:\n",
    "        continue\n",
    "    for j in range(i**2, M + 1, i**2):\n",
    "        is_blacklist[j] = True\n",
    "\n",
    "for i in range(N, M + 1):\n",
    "    if not is_blacklist[i]:\n",
    "        cnt += 1\n",
    "\n",
    "print(cnt)"
   ]
  },
  {
   "cell_type": "code",
   "execution_count": 81,
   "metadata": {},
   "outputs": [
    {
     "name": "stdout",
     "output_type": "stream",
     "text": [
      "2 3 5 7 11 13 17 19 23 29 31 37 41 43 47 53 59 61 67 71 73 79 83 89 97 101 103 107 109 113 127 131 137 139 149 151 157 163 167 173 179 181 191 193 197 199 211 223 227 229 233 239 241 251 257 263 269 271 277 281 283 293 307 311 313 317 331 337 347 349 353 359 367 373 379 383 389 397 401 409 419 421 431 433 439 443 449 457 461 463 467 479 487 491 499 503 509 521 523 541 547 557 563 569 571 577 587 593 599 601 607 613 617 619 631 641 643 647 653 659 661 673 677 683 691 701 709 719 727 733 739 743 751 757 761 769 773 787 797 809 811 821 823 827 829 839 853 857 859 863 877 881 883 887 907 911 919 929 937 941 947 953 967 971 977 983 991 997\n"
     ]
    }
   ],
   "source": [
    "n=1000\n",
    "a = [0,0] + [1]*(n-1)\n",
    "primes=[]\n",
    "\n",
    "for i in range(2,n+1):\n",
    "  if a[i]:\n",
    "    primes.append(i)\n",
    "    for j in range(2*i, n+1, i):\n",
    "        a[j] = 0\n",
    "print(* primes)\n"
   ]
  },
  {
   "cell_type": "code",
   "execution_count": null,
   "metadata": {},
   "outputs": [],
   "source": [
    "N, M = map(int, input().split())\n",
    "ls = [False] + [True] * (N-M)\n",
    "for i in range(2,int(M**0.5) + 1):\n",
    "    "
   ]
  },
  {
   "cell_type": "code",
   "execution_count": 86,
   "metadata": {},
   "outputs": [
    {
     "name": "stdout",
     "output_type": "stream",
     "text": [
      "1\n",
      "2\n"
     ]
    }
   ],
   "source": [
    "# 10989 수 정렬하기3\n",
    "\n",
    "import sys\n",
    "input = sys.stdin.readline\n",
    "\n",
    "N = int(input())\n",
    "dt = {}\n",
    "for i in range(10000+1):\n",
    "    dt[i] = 0\n",
    "for i in range(N):\n",
    "    k = int(input())\n",
    "    dt[k] += 1\n",
    "for i in range(10000+1):\n",
    "    for j in range(dt[i]):\n",
    "        print(i)\n"
   ]
  },
  {
   "cell_type": "code",
   "execution_count": 93,
   "metadata": {},
   "outputs": [
    {
     "name": "stdout",
     "output_type": "stream",
     "text": [
      "5\n"
     ]
    }
   ],
   "source": [
    "# 이항 계수 1\n",
    "def fac(n):\n",
    "    if n == 0:\n",
    "        return 1\n",
    "    return n * fac(n-1)\n",
    "\n",
    "N, K = map(int,input().split())\n",
    "print(fac(N)//(fac(N-K)*fac(K)))"
   ]
  },
  {
   "cell_type": "code",
   "execution_count": 94,
   "metadata": {},
   "outputs": [
    {
     "name": "stdout",
     "output_type": "stream",
     "text": [
      "1 -1\n",
      "1 1\n",
      "2 2\n",
      "3 3\n",
      "3 4\n"
     ]
    }
   ],
   "source": [
    "# 11650 좌표 정렬하기 \n",
    "N = int(input())\n",
    "ls = []\n",
    "for _ in range(N):\n",
    "    a,b = map(int,input().split())\n",
    "    ls.append([a,b])\n",
    "\n",
    "ls.sort(key=lambda x: (x[0], x[1]))\n",
    "for i in ls:\n",
    "    print(*i)\n"
   ]
  },
  {
   "cell_type": "code",
   "execution_count": 95,
   "metadata": {},
   "outputs": [
    {
     "name": "stdout",
     "output_type": "stream",
     "text": [
      "1 -1\n",
      "1 2\n",
      "2 2\n",
      "3 3\n",
      "0 4\n"
     ]
    }
   ],
   "source": [
    "# 11651 좌표 정렬하기 2\n",
    "N = int(input())\n",
    "ls = []\n",
    "for _ in range(N):\n",
    "    a,b = map(int,input().split())\n",
    "    ls.append([a,b])\n",
    "\n",
    "ls.sort(key=lambda x: (x[1], x[0]))\n",
    "for i in ls:\n",
    "    print(*i)\n"
   ]
  },
  {
   "cell_type": "code",
   "execution_count": 101,
   "metadata": {},
   "outputs": [
    {
     "name": "stdout",
     "output_type": "stream",
     "text": [
      "True\n",
      "True\n",
      "True\n",
      "True\n",
      "False\n",
      "True\n"
     ]
    }
   ],
   "source": [
    "s1 = 'abc'\n",
    "s2 = 'abc'\n",
    "print(s1 is s2)\n",
    "print(s1 == s2)\n",
    "s4 = s1\n",
    "print(s4 is s1)\n",
    "print(s4 == s1)\n",
    "s5 = s1[:-1] + 'c' \n",
    "print(s5 is s1) # FALSE\n",
    "print(s5 == s1) # TRUE"
   ]
  },
  {
   "cell_type": "code",
   "execution_count": 102,
   "metadata": {},
   "outputs": [
    {
     "ename": "IndexError",
     "evalue": "list index out of range",
     "output_type": "error",
     "traceback": [
      "\u001b[1;31m---------------------------------------------------------------------------\u001b[0m",
      "\u001b[1;31mIndexError\u001b[0m                                Traceback (most recent call last)",
      "Cell \u001b[1;32mIn[102], line 7\u001b[0m\n\u001b[0;32m      5\u001b[0m ans \u001b[38;5;241m=\u001b[39m []\n\u001b[0;32m      6\u001b[0m \u001b[38;5;28;01mwhile\u001b[39;00m \u001b[38;5;28mlen\u001b[39m(ans) \u001b[38;5;241m<\u001b[39m N:\n\u001b[1;32m----> 7\u001b[0m     p \u001b[38;5;241m=\u001b[39m \u001b[43mls\u001b[49m\u001b[43m[\u001b[49m\u001b[43m(\u001b[49m\u001b[43mprev\u001b[49m\u001b[38;5;241;43m+\u001b[39;49m\u001b[43mK\u001b[49m\u001b[43m)\u001b[49m\u001b[38;5;241;43m%\u001b[39;49m\u001b[43mN\u001b[49m\u001b[43m]\u001b[49m\n\u001b[0;32m      8\u001b[0m     ans\u001b[38;5;241m.\u001b[39mappend(p)\n\u001b[0;32m      9\u001b[0m     ls\u001b[38;5;241m.\u001b[39mremove(p)\n",
      "\u001b[1;31mIndexError\u001b[0m: list index out of range"
     ]
    }
   ],
   "source": [
    "# 11866 요세푸스 순열 0\n",
    "N, K = map(int,input().split())\n",
    "ls = [i for i in range(N)]\n",
    "prev = 0\n",
    "ans = []\n",
    "while len(ans) < N:\n",
    "    p = ls[(prev+K)%N]\n",
    "    ans.append(p)\n",
    "    ls.remove(p)\n",
    "    prev = (prev+K)%N\n",
    "print(ans)"
   ]
  },
  {
   "cell_type": "code",
   "execution_count": 113,
   "metadata": {},
   "outputs": [
    {
     "name": "stdout",
     "output_type": "stream",
     "text": [
      "0 2\n",
      "1 1\n",
      "2 0\n",
      "2 3\n",
      "3 3\n",
      "4 2\n",
      "5 1\n",
      "6 0\n",
      "6 3\n",
      "7 3\n",
      "1 2\n",
      "2 1\n",
      "3 1\n",
      "4 0\n",
      "4 3\n",
      "5 3\n",
      "6 2\n",
      "7 2\n",
      "1 1\n",
      "2 0\n",
      "2 3\n",
      "3 3\n",
      "4 2\n",
      "5 2\n",
      "6 1\n",
      "7 1\n",
      "1 0\n",
      "1 3\n",
      "2 3\n",
      "3 3\n",
      "4 2\n",
      "5 2\n",
      "6 1\n",
      "7 1\n",
      "1 0\n",
      "1 3\n",
      "2 3\n",
      "3 3\n",
      "4 2\n",
      "5 2\n",
      "6 1\n",
      "7 1\n",
      "1 0\n",
      "[2, 6, 4, 2, 1, 1, 1]\n"
     ]
    }
   ],
   "source": [
    "# 11866 요세푸스 순열 0\n",
    "N, K = map(int,input().split())\n",
    "ls = [1 for i in range(N)]\n",
    "move = K-1\n",
    "pos = 0\n",
    "ans = []\n",
    "while len(ans) < N:\n",
    "    print(pos, move)\n",
    "    if pos > N-1:\n",
    "        pos -= N\n",
    "    if move == 0:\n",
    "        ans.append(pos)\n",
    "        ls[pos] = 0\n",
    "        move = K\n",
    "    else:\n",
    "        if ls[pos]:\n",
    "            move -= 1\n",
    "            pos += 1\n",
    "        else:\n",
    "            pos += 1\n",
    "\n",
    "\n",
    "\n",
    "print(ans)"
   ]
  },
  {
   "cell_type": "code",
   "execution_count": null,
   "metadata": {},
   "outputs": [],
   "source": []
  }
 ],
 "metadata": {
  "kernelspec": {
   "display_name": "Python 3",
   "language": "python",
   "name": "python3"
  },
  "language_info": {
   "codemirror_mode": {
    "name": "ipython",
    "version": 3
   },
   "file_extension": ".py",
   "mimetype": "text/x-python",
   "name": "python",
   "nbconvert_exporter": "python",
   "pygments_lexer": "ipython3",
   "version": "3.12.1"
  }
 },
 "nbformat": 4,
 "nbformat_minor": 2
}
