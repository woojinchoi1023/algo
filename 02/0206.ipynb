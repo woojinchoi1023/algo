{
 "cells": [
  {
   "cell_type": "code",
   "execution_count": 1,
   "metadata": {},
   "outputs": [
    {
     "name": "stdout",
     "output_type": "stream",
     "text": [
      "2\n"
     ]
    }
   ],
   "source": [
    "# 1016 제곱 ㄴㄴ 수\n",
    "\n",
    "N, M = map(int,input().split())\n",
    "ls = [i+1 for i in range(M)]\n",
    "blackList = set()\n",
    "cnt = 0\n",
    "for i in ls:\n",
    "    if i in blackList:\n",
    "        continue\n",
    "    p = i\n",
    "    if N <= i <= M:\n",
    "        cnt+=1\n",
    "    if p == 1:\n",
    "        continue\n",
    "    for j in ls:\n",
    "            if p != j and j%(p**2)==0:\n",
    "                # ls.remove(j)\n",
    "                blackList.add(j)\n",
    "    if p != 1 and p ** 0.5 == int(p**0.5):\n",
    "        # ls.remove(p)\n",
    "        blackList.add(p)\n",
    "\n",
    "# print(res)\n",
    "# print(len(res))\n",
    "print(cnt)\n"
   ]
  },
  {
   "cell_type": "code",
   "execution_count": 17,
   "metadata": {},
   "outputs": [
    {
     "name": "stdout",
     "output_type": "stream",
     "text": [
      "1 1\n",
      "1 2\n",
      "1 3\n",
      "1 4\n",
      "1 5\n",
      "1 6\n",
      "1 7\n",
      "1 8\n",
      "1 9\n",
      "1 10\n",
      "1 11\n",
      "1 12\n",
      "1 13\n",
      "1 14\n",
      "1 15\n",
      "1 16\n",
      "1 17\n",
      "1 18\n",
      "1 19\n",
      "1 20\n",
      "1 21\n",
      "1 22\n",
      "1 23\n",
      "1 24\n",
      "1 25\n",
      "1 26\n",
      "1 27\n",
      "1 28\n",
      "1 29\n",
      "1 30\n",
      "1 31\n",
      "1 32\n",
      "1 33\n",
      "1 34\n",
      "1 35\n",
      "1 36\n",
      "1 37\n",
      "1 38\n",
      "1 39\n",
      "1 40\n",
      "1 41\n",
      "1 42\n",
      "1 43\n",
      "1 44\n",
      "1 45\n",
      "1 46\n",
      "1 47\n",
      "1 48\n",
      "1 49\n",
      "1 50\n",
      "1 51\n",
      "1 52\n",
      "1 53\n",
      "1 54\n",
      "1 55\n",
      "1 56\n",
      "1 57\n",
      "1 58\n",
      "1 59\n",
      "1 60\n",
      "1 61\n",
      "1 62\n",
      "1 63\n",
      "1 64\n",
      "1 65\n",
      "1 66\n",
      "1 67\n",
      "1 68\n",
      "1 69\n",
      "1 70\n",
      "1 71\n",
      "1 72\n",
      "1 73\n",
      "1 74\n",
      "1 75\n",
      "1 76\n",
      "1 77\n",
      "1 78\n",
      "1 79\n",
      "1 80\n",
      "1 81\n",
      "1 82\n",
      "1 83\n",
      "1 84\n",
      "1 85\n",
      "1 86\n",
      "1 87\n",
      "1 88\n",
      "1 89\n",
      "1 90\n",
      "1 91\n",
      "1 92\n",
      "1 93\n",
      "1 94\n",
      "1 95\n",
      "1 96\n",
      "1 97\n",
      "1 98\n",
      "1 99\n",
      "1 100\n",
      "2 4\n",
      "2 8\n",
      "2 12\n",
      "2 16\n",
      "2 20\n",
      "2 24\n",
      "2 28\n",
      "2 32\n",
      "2 36\n",
      "2 40\n",
      "2 44\n",
      "2 48\n",
      "2 52\n",
      "2 56\n",
      "2 60\n",
      "2 64\n",
      "2 68\n",
      "2 72\n",
      "2 76\n",
      "2 80\n",
      "2 84\n",
      "2 88\n",
      "2 92\n",
      "2 96\n",
      "2 100\n",
      "3 9\n",
      "3 18\n",
      "3 27\n",
      "3 36\n",
      "3 45\n",
      "3 54\n",
      "3 63\n",
      "3 72\n",
      "3 81\n",
      "3 90\n",
      "3 99\n",
      "4 16\n",
      "4 32\n",
      "4 48\n",
      "4 64\n",
      "4 80\n",
      "4 96\n",
      "5 25\n",
      "5 50\n",
      "5 75\n",
      "5 100\n",
      "6 36\n",
      "6 72\n",
      "7 49\n",
      "7 98\n",
      "8 64\n",
      "9 81\n",
      "10 100\n"
     ]
    }
   ],
   "source": [
    "# 1016 제곱 ㄴㄴ 수\n",
    "\n",
    "N, M = map(int,input().split())\n",
    "# ls = [i+1 for i in range(int(M**0.5))]\n",
    "a = {i+1 for i in range(int(M**0.5))}\n",
    "a\n",
    "k = M-N+1\n",
    "# 25 24 23 22 21 20\n",
    "# 5 4\n",
    "# 23 22 21\n",
    "blk = set()\n",
    "ls = []\n",
    "for i in range(int(N**0.5), int(M**0.5)+1):\n",
    "    for j in range(i**2, M+1, i**2):\n",
    "        print(i, j)\n",
    "        # ls.append(j)\n",
    "# ls\n"
   ]
  },
  {
   "cell_type": "code",
   "execution_count": 31,
   "metadata": {},
   "outputs": [
    {
     "name": "stdout",
     "output_type": "stream",
     "text": [
      "1\n"
     ]
    }
   ],
   "source": [
    "\n",
    "N, M = map(int, input().split())\n",
    "# is_blacklist = [False] * (M + 1)\n",
    "is_blacklist = {}\n",
    "for i in range(M-N+1):\n",
    "    is_blacklist[i] = False\n",
    "cnt = 0\n",
    "for i in range(2, int(M**0.5) + 1):\n",
    "    if N <= i <= M and is_blacklist[i-N]:\n",
    "        continue\n",
    "    for j in range(i**2, M + 1, i**2):\n",
    "        # print(i,j)\n",
    "        if N<=j<=M:\n",
    "            is_blacklist[j-N] = True\n",
    "\n",
    "for i in range(M-N+1):\n",
    "    if not is_blacklist[i]:\n",
    "        cnt += 1\n",
    "# print(is_blacklist)\n",
    "print(cnt)"
   ]
  },
  {
   "cell_type": "code",
   "execution_count": 40,
   "metadata": {},
   "outputs": [
    {
     "name": "stdout",
     "output_type": "stream",
     "text": [
      "{0: False, 1: False, 2: False, 3: False, 4: False, 5: False, 6: True, 7: False, 8: True, 9: False, 10: False}\n",
      "9\n"
     ]
    }
   ],
   "source": [
    "N, M = map(int, input().split())\n",
    "# is_blacklist = [False] * (M + 1)\n",
    "is_blacklist = {}\n",
    "for i in range(M-N+1):\n",
    "    is_blacklist[i] = False\n",
    "cnt = 0\n",
    "for i in range(2, int(M**0.5) + 1):\n",
    "    # print(i)\n",
    "    if N <= i <= M and is_blacklist[i-N]:\n",
    "        continue\n",
    "    for j in range(i**2, M + 1, i**2):\n",
    "        # print(i,j)\n",
    "        if N<=j<=M:\n",
    "            is_blacklist[j-N] = True\n",
    "\n",
    "for i in range(M-N+1):\n",
    "    if not is_blacklist[i]:\n",
    "        cnt += 1\n",
    "# print(is_blacklist)\n",
    "print(cnt)"
   ]
  },
  {
   "cell_type": "code",
   "execution_count": null,
   "metadata": {},
   "outputs": [],
   "source": [
    "N, M = map(int, input().split())\n",
    "is_blacklist = {}\n",
    "for i in range(M-N+1):\n",
    "    is_blacklist[i] = False\n",
    "cnt = 0\n",
    "for i in range(2, int(M**0.5) + 1):\n",
    "    if N <= i <= M and is_blacklist[i-N]:\n",
    "        continue\n",
    "    for j in range(i**2, M + 1, i**2):\n",
    "        if N<=j<=M:\n",
    "            is_blacklist[j-N] = True\n",
    "\n",
    "for i in range(M-N+1):\n",
    "    if not is_blacklist[i]:\n",
    "        cnt += 1\n",
    "print(cnt)"
   ]
  },
  {
   "cell_type": "code",
   "execution_count": 52,
   "metadata": {},
   "outputs": [
    {
     "name": "stdout",
     "output_type": "stream",
     "text": [
      "2 4\n",
      "2 8\n",
      "3 9\n",
      "[False, True, True, False]\n",
      "2\n"
     ]
    }
   ],
   "source": [
    "def count_non_squarefree_numbers(min_value, max_value):\n",
    "    max_sqrt = int(max_value**0.5) + 1\n",
    "    is_blacklist = [False] * (max_value - min_value + 1)\n",
    "\n",
    "    for i in range(2, max_sqrt):\n",
    "        square = i**2\n",
    "        start = max(square * (min_value // square), square)\n",
    "        for j in range(start, max_value + 1, square):\n",
    "            # print(i,j)\n",
    "            is_blacklist[j - min_value] = True\n",
    "    # print(is_blacklist)\n",
    "    count = sum(1 for is_black in is_blacklist if not is_black)\n",
    "    return count\n",
    "\n",
    "N, M = map(int, input().split())\n",
    "result = count_non_squarefree_numbers(N, M)\n",
    "print(result)"
   ]
  },
  {
   "cell_type": "code",
   "execution_count": 54,
   "metadata": {},
   "outputs": [
    {
     "name": "stdout",
     "output_type": "stream",
     "text": [
      "11 코딩 공부\n",
      "12 파이썬 좋아\n",
      "13 독학 코딩\n",
      "14 공부 하자\n"
     ]
    }
   ],
   "source": [
    "list_a = [\"코딩\", \"파이썬\", \"독학\", \"공부\"]\n",
    "list_b = [\"공부\", \"좋아\", \"코딩\", \"하자\"]\n",
    "for z, (i, j) in enumerate(zip(list_a, list_b), 11):\n",
    "    print(z, i, j)"
   ]
  },
  {
   "cell_type": "code",
   "execution_count": 55,
   "metadata": {},
   "outputs": [
    {
     "name": "stdout",
     "output_type": "stream",
     "text": [
      "[0, 1, 2, 3, 0, 1, 2, 3, 0, 1, 2, 3, 0, 1, 2, 3]\n"
     ]
    }
   ],
   "source": [
    "list_a = [ j for i in range(4) for j in range(4)]\n",
    "print(list_a)"
   ]
  },
  {
   "cell_type": "code",
   "execution_count": 80,
   "metadata": {},
   "outputs": [
    {
     "name": "stdout",
     "output_type": "stream",
     "text": [
      "<3, 6, 2, 7, 5, 1, 4>\n"
     ]
    }
   ],
   "source": [
    "# 11866 요세푸스 문제0\n",
    "N, K = map(int,input().split())\n",
    "ls = [i+1 for i in range(N)]\n",
    "isIn = [True] * N\n",
    "res = []\n",
    "idx = 0\n",
    "move = K\n",
    "while sum(isIn) != 0:\n",
    "    while move > 0:\n",
    "        if idx > N-1: idx %= N\n",
    "        if isIn[idx]:move -= 1\n",
    "        idx += 1\n",
    "    isIn[idx-1] = False\n",
    "    res.append(idx)\n",
    "    move = K\n",
    "print('<', end='')\n",
    "print(*res,sep=', ',end='')\n",
    "print('>')\n",
    "    "
   ]
  },
  {
   "cell_type": "code",
   "execution_count": 57,
   "metadata": {},
   "outputs": [
    {
     "data": {
      "text/plain": [
       "0"
      ]
     },
     "execution_count": 57,
     "metadata": {},
     "output_type": "execute_result"
    }
   ],
   "source": [
    "ls = [False, False, False]\n",
    "sum(ls)"
   ]
  },
  {
   "cell_type": "code",
   "execution_count": 82,
   "metadata": {},
   "outputs": [
    {
     "data": {
      "text/plain": [
       "[1, 2, 3, 4, 5, 6, 7, 8, 9, 10]"
      ]
     },
     "execution_count": 82,
     "metadata": {},
     "output_type": "execute_result"
    }
   ],
   "source": [
    "n = 10\n",
    "c,*a=range(n+1)\n",
    "a"
   ]
  },
  {
   "cell_type": "code",
   "execution_count": 85,
   "metadata": {},
   "outputs": [
    {
     "name": "stdout",
     "output_type": "stream",
     "text": [
      "<3, 6, 2, 7, 5, 1, 4>\n"
     ]
    }
   ],
   "source": [
    "n,k=map(int,input().split())\n",
    "c,*a=range(n+1)\n",
    "print(f'<{str([a.pop(c:=(c+k-1)%b)for b in a[::-1]])[1:-1]}>')"
   ]
  },
  {
   "cell_type": "code",
   "execution_count": 86,
   "metadata": {},
   "outputs": [
    {
     "data": {
      "text/plain": [
       "'[1, 2, 3, 4]'"
      ]
     },
     "execution_count": 86,
     "metadata": {},
     "output_type": "execute_result"
    }
   ],
   "source": [
    "str([1,2,3,4])"
   ]
  },
  {
   "cell_type": "code",
   "execution_count": null,
   "metadata": {},
   "outputs": [],
   "source": [
    "n,k=map(int,input().split())\n",
    "c,*a=range(n+1)\n",
    "print(f'<{str([a.pop(c:=(c+k-1)%b)for b in a[::-1]])[1:-1]}>')"
   ]
  },
  {
   "cell_type": "code",
   "execution_count": 88,
   "metadata": {},
   "outputs": [
    {
     "data": {
      "text/plain": [
       "[4, 3, 2, 1, 0]"
      ]
     },
     "execution_count": 88,
     "metadata": {},
     "output_type": "execute_result"
    }
   ],
   "source": [
    "a = [0,1,2,3,4]\n",
    "[a.pop(b) for b in a[::-1]]"
   ]
  },
  {
   "cell_type": "code",
   "execution_count": 89,
   "metadata": {},
   "outputs": [
    {
     "name": "stdout",
     "output_type": "stream",
     "text": [
      "[0, 1, 2, 3, 4, 5, 6, 7, 8, 9]\n",
      "0 9\n"
     ]
    }
   ],
   "source": [
    "## 리스트를 만듬과 동시에 i가 0일때 start에 0을 넣어주고, end에 값을 계속 넣어 마지막값역시 end에 할당\n",
    "li = [(end:=i) if i else (start:=i) for i in range(10)]\n",
    "print(li) # 리스트 출력\n",
    "print(start, end) # start, end 출력"
   ]
  },
  {
   "cell_type": "code",
   "execution_count": 100,
   "metadata": {},
   "outputs": [
    {
     "name": "stdout",
     "output_type": "stream",
     "text": [
      "4739715\n"
     ]
    }
   ],
   "source": [
    "# 15829 Hashing\n",
    "def hash(L, s, r, M):\n",
    "    temp = 0\n",
    "    for i, v in enumerate(s):\n",
    "        number = ord(v) - ord('a') + 1\n",
    "        temp += number * r ** i\n",
    "        # print(number, i, number * r ** i)\n",
    "    return temp % M\n",
    "L = int(input())\n",
    "s = input() \n",
    "r = 31\n",
    "M = 1234567891\n",
    "print(hash(L, s, r, M))"
   ]
  },
  {
   "cell_type": "code",
   "execution_count": 91,
   "metadata": {},
   "outputs": [
    {
     "data": {
      "text/plain": [
       "-1"
      ]
     },
     "execution_count": 91,
     "metadata": {},
     "output_type": "execute_result"
    }
   ],
   "source": [
    "ord('a') - ord('b')"
   ]
  },
  {
   "cell_type": "code",
   "execution_count": 113,
   "metadata": {},
   "outputs": [
    {
     "name": "stdout",
     "output_type": "stream",
     "text": [
      "6\n"
     ]
    }
   ],
   "source": [
    "# 18110 solved ac\n",
    "N = int(input())\n",
    "if N == 0:\n",
    "    print(0)\n",
    "else:\n",
    "    ls = [int(input()) for _ in range(N)]\n",
    "    ls.sort()\n",
    "    outlyer = round(N * 0.15)\n",
    "    ls = ls[outlyer: N-outlyer]\n",
    "    # print(ls)\n",
    "    ans = round(sum(ls)/len(ls))\n",
    "    print(ans)"
   ]
  },
  {
   "cell_type": "code",
   "execution_count": 118,
   "metadata": {},
   "outputs": [
    {
     "name": "stdout",
     "output_type": "stream",
     "text": [
      "2\n"
     ]
    },
    {
     "data": {
      "text/plain": [
       "6"
      ]
     },
     "execution_count": 118,
     "metadata": {},
     "output_type": "execute_result"
    }
   ],
   "source": [
    "N = 10\n",
    "ls = [i+1 for i in range(10)]\n",
    "outlyer = round(N * 0.15)\n",
    "print(outlyer)\n",
    "ls = ls[outlyer: N-outlyer]\n",
    "ans = round(sum(ls)/len(ls))\n",
    "ans"
   ]
  },
  {
   "cell_type": "code",
   "execution_count": null,
   "metadata": {},
   "outputs": [],
   "source": []
  }
 ],
 "metadata": {
  "kernelspec": {
   "display_name": "Python 3",
   "language": "python",
   "name": "python3"
  },
  "language_info": {
   "codemirror_mode": {
    "name": "ipython",
    "version": 3
   },
   "file_extension": ".py",
   "mimetype": "text/x-python",
   "name": "python",
   "nbconvert_exporter": "python",
   "pygments_lexer": "ipython3",
   "version": "3.12.1"
  }
 },
 "nbformat": 4,
 "nbformat_minor": 2
}
