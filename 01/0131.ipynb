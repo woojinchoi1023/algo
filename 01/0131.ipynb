{
 "cells": [
  {
   "cell_type": "code",
   "execution_count": 1,
   "metadata": {},
   "outputs": [
    {
     "ename": "IndexError",
     "evalue": "list index out of range",
     "output_type": "error",
     "traceback": [
      "\u001b[1;31m---------------------------------------------------------------------------\u001b[0m",
      "\u001b[1;31mIndexError\u001b[0m                                Traceback (most recent call last)",
      "Cell \u001b[1;32mIn[1], line 11\u001b[0m\n\u001b[0;32m      9\u001b[0m     tar\u001b[38;5;241m.\u001b[39mappend(\u001b[38;5;28mint\u001b[39m(\u001b[38;5;28minput\u001b[39m()))\n\u001b[0;32m     10\u001b[0m \u001b[38;5;28;01mfor\u001b[39;00m i \u001b[38;5;129;01min\u001b[39;00m tar:\n\u001b[1;32m---> 11\u001b[0m     \u001b[38;5;28;01mif\u001b[39;00m \u001b[43mst\u001b[49m\u001b[43m[\u001b[49m\u001b[38;5;241;43m-\u001b[39;49m\u001b[38;5;241;43m1\u001b[39;49m\u001b[43m]\u001b[49m \u001b[38;5;241m==\u001b[39m i:\n\u001b[0;32m     12\u001b[0m         res\u001b[38;5;241m.\u001b[39mappend(\u001b[38;5;124m'\u001b[39m\u001b[38;5;124m-\u001b[39m\u001b[38;5;124m'\u001b[39m)\n\u001b[0;32m     13\u001b[0m         st\u001b[38;5;241m.\u001b[39mpop()\n",
      "\u001b[1;31mIndexError\u001b[0m: list index out of range"
     ]
    }
   ],
   "source": [
    "# 1874\n",
    "st = []\n",
    "tar = []\n",
    "N = int(input())\n",
    "ls = [x+1 for x in range(N)]\n",
    "res = []\n",
    "able = True\n",
    "for i in range(N):\n",
    "    tar.append(int(input()))\n",
    "for i in tar:\n",
    "    if len(st) == 0:\n",
    "        res.append('+')\n",
    "        st.append(ls.pop(0))\n",
    "    if st[-1] == i:\n",
    "        res.append('-')\n",
    "        st.pop()\n",
    "    elif st[-1] > i:\n",
    "        able = False\n",
    "    else:\n",
    "        while st[-1] == i:\n",
    "            st.append(ls.pop(0))\n",
    "            res.append('+')\n",
    "        res.append('-')\n",
    "        st.pop()\n",
    "        \n",
    "\n",
    "if able:\n",
    "    print(*res, sep='\\n')\n",
    "else:\n",
    "    print('NO')"
   ]
  },
  {
   "cell_type": "code",
   "execution_count": 7,
   "metadata": {},
   "outputs": [
    {
     "name": "stdout",
     "output_type": "stream",
     "text": [
      "+\n",
      "+\n",
      "+\n",
      "+\n",
      "-\n",
      "-\n",
      "+\n",
      "+\n",
      "-\n",
      "+\n",
      "+\n",
      "-\n",
      "-\n",
      "-\n",
      "-\n",
      "-\n"
     ]
    }
   ],
   "source": [
    "# 1874\n",
    "st = []\n",
    "tar = []\n",
    "# N = int(input())\n",
    "N = 8\n",
    "ls = [x+1 for x in range(N)]\n",
    "res = []\n",
    "able = True\n",
    "# for i in range(N):\n",
    "#     tar.append(int(input()))\n",
    "tar = [4,3,6,8,7,5,2,1]\n",
    "for i in tar:\n",
    "    if len(st) == 0:\n",
    "        res.append('+')\n",
    "        st.append(ls.pop(0))\n",
    "    if st[-1] == i:\n",
    "        res.append('-')\n",
    "        st.pop()\n",
    "    elif st[-1] > i:\n",
    "        able = False\n",
    "    else:\n",
    "        while st[-1] < i:\n",
    "            st.append(ls.pop(0))\n",
    "            res.append('+')\n",
    "        res.append('-')\n",
    "        st.pop()\n",
    "        \n",
    "\n",
    "if able:\n",
    "    print(*res, sep='\\n')\n",
    "else:\n",
    "    print('NO')"
   ]
  },
  {
   "cell_type": "code",
   "execution_count": null,
   "metadata": {},
   "outputs": [],
   "source": [
    "# 1874 스택 수열\n",
    "st = []\n",
    "tar = []\n",
    "N = int(input())\n",
    "# N = 8\n",
    "ls = [x+1 for x in range(N)]\n",
    "res = []\n",
    "able = True\n",
    "for i in range(N):\n",
    "    tar.append(int(input()))\n",
    "# tar = [4,3,6,8,7,5,2,1]\n",
    "for i in tar:\n",
    "    if len(st) == 0:\n",
    "        res.append('+')\n",
    "        st.append(ls.pop(0))\n",
    "    if st[-1] == i:\n",
    "        res.append('-')\n",
    "        st.pop()\n",
    "    elif st[-1] > i:\n",
    "        able = False\n",
    "    else:\n",
    "        while st[-1] < i:\n",
    "            st.append(ls.pop(0))\n",
    "            res.append('+')\n",
    "        res.append('-')\n",
    "        st.pop()\n",
    "        \n",
    "\n",
    "if able:\n",
    "    print(*res, sep='\\n')\n",
    "else:\n",
    "    print('NO')"
   ]
  }
 ],
 "metadata": {
  "kernelspec": {
   "display_name": "Python 3",
   "language": "python",
   "name": "python3"
  },
  "language_info": {
   "codemirror_mode": {
    "name": "ipython",
    "version": 3
   },
   "file_extension": ".py",
   "mimetype": "text/x-python",
   "name": "python",
   "nbconvert_exporter": "python",
   "pygments_lexer": "ipython3",
   "version": "3.12.1"
  }
 },
 "nbformat": 4,
 "nbformat_minor": 2
}
