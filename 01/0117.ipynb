{
 "cells": [
  {
   "cell_type": "code",
   "execution_count": 5,
   "metadata": {},
   "outputs": [
    {
     "name": "stdout",
     "output_type": "stream",
     "text": [
      "260\n"
     ]
    }
   ],
   "source": [
    "ls = [[0 for i in range(100)] for j in range(100)]\n",
    "\n",
    "k = int(input())\n",
    "for i in range(k):\n",
    "    x, y = map(int, input().split())\n",
    "    for row in range(y, y+10):\n",
    "        for col in range(x, x+10):\n",
    "            ls[row][col] = 1\n",
    "#print(*ls, sep='\\n')\n",
    "ans = 0\n",
    "for i in range(100):\n",
    "    ans += sum(ls[i])\n",
    "print(ans)"
   ]
  },
  {
   "cell_type": "code",
   "execution_count": 8,
   "metadata": {},
   "outputs": [
    {
     "ename": "ValueError",
     "evalue": "invalid literal for int() with base 10: 'A'",
     "output_type": "error",
     "traceback": [
      "\u001b[1;31m---------------------------------------------------------------------------\u001b[0m",
      "\u001b[1;31mValueError\u001b[0m                                Traceback (most recent call last)",
      "Cell \u001b[1;32mIn[8], line 2\u001b[0m\n\u001b[0;32m      1\u001b[0m N, B \u001b[38;5;241m=\u001b[39m \u001b[38;5;28mmap\u001b[39m(\u001b[38;5;28mint\u001b[39m, \u001b[38;5;28minput\u001b[39m()\u001b[38;5;241m.\u001b[39msplit())\n\u001b[1;32m----> 2\u001b[0m \u001b[38;5;28;43mint\u001b[39;49m\u001b[43m(\u001b[49m\u001b[38;5;124;43m'\u001b[39;49m\u001b[38;5;124;43mA\u001b[39;49m\u001b[38;5;124;43m'\u001b[39;49m\u001b[43m)\u001b[49m\n",
      "\u001b[1;31mValueError\u001b[0m: invalid literal for int() with base 10: 'A'"
     ]
    }
   ],
   "source": [
    "N, B = map(int, input().split())\n"
   ]
  },
  {
   "cell_type": "code",
   "execution_count": 10,
   "metadata": {},
   "outputs": [
    {
     "data": {
      "text/plain": [
       "66"
      ]
     },
     "execution_count": 10,
     "metadata": {},
     "output_type": "execute_result"
    }
   ],
   "source": [
    "ord('B')"
   ]
  },
  {
   "cell_type": "code",
   "execution_count": 13,
   "metadata": {},
   "outputs": [
    {
     "name": "stdout",
     "output_type": "stream",
     "text": [
      "1 2 3 (4, 5) {}\n",
      "1 2 3 () {'a': 100, 'b': 200}\n"
     ]
    }
   ],
   "source": [
    "def func(pos1, pos2, age=30, *args, **kwargs):\n",
    "    print(pos1, pos2, age, args, kwargs)\n",
    "\n",
    "func(1,2,3,4,5)\n",
    "func(1,2,3,a=100,b=200)"
   ]
  },
  {
   "cell_type": "code",
   "execution_count": 14,
   "metadata": {},
   "outputs": [
    {
     "name": "stdout",
     "output_type": "stream",
     "text": [
      "10 2 500\n",
      "10 2 3\n",
      "1 2\n"
     ]
    }
   ],
   "source": [
    "a = 1\n",
    "b = 2\n",
    "def enclosed():\n",
    "    a = 10\n",
    "    c =3\n",
    "    def local(c):\n",
    "        print(a,b,c) #10, 2, 500\n",
    "    local(500)\n",
    "    print(a,b,c) #10, 2, 3\n",
    "\n",
    "enclosed()\n",
    "print(a,b) #1, 2"
   ]
  },
  {
   "cell_type": "code",
   "execution_count": 15,
   "metadata": {},
   "outputs": [
    {
     "name": "stdout",
     "output_type": "stream",
     "text": [
      "0\n",
      "1\n"
     ]
    }
   ],
   "source": [
    "num = 0\n",
    "def increment():\n",
    "    global num\n",
    "    num += 1\n",
    "\n",
    "print(num) #0\n",
    "increment()\n",
    "print(num) #1"
   ]
  },
  {
   "cell_type": "code",
   "execution_count": null,
   "metadata": {},
   "outputs": [],
   "source": [
    "def factorial(n):\n",
    "    if n == 1 or n == 0:\n",
    "        return 1\n",
    "    return n * factorial(n-1)"
   ]
  },
  {
   "cell_type": "code",
   "execution_count": 2,
   "metadata": {},
   "outputs": [
    {
     "data": {
      "text/plain": [
       "60466175"
      ]
     },
     "execution_count": 2,
     "metadata": {},
     "output_type": "execute_result"
    }
   ],
   "source": [
    "N, B = input().split()\n",
    "B = int(B)\n",
    "ans = int(N, B)\n",
    "print(ans)\n",
    "\n",
    "\n"
   ]
  },
  {
   "cell_type": "code",
   "execution_count": 6,
   "metadata": {},
   "outputs": [
    {
     "ename": "ValueError",
     "evalue": "not enough values to unpack (expected 2, got 0)",
     "output_type": "error",
     "traceback": [
      "\u001b[1;31m---------------------------------------------------------------------------\u001b[0m",
      "\u001b[1;31mValueError\u001b[0m                                Traceback (most recent call last)",
      "Cell \u001b[1;32mIn[6], line 1\u001b[0m\n\u001b[1;32m----> 1\u001b[0m N, B \u001b[38;5;241m=\u001b[39m \u001b[38;5;28minput\u001b[39m()\u001b[38;5;241m.\u001b[39msplit()\n\u001b[0;32m      2\u001b[0m N \u001b[38;5;241m=\u001b[39m \u001b[38;5;28mstr\u001b[39m(N)\n\u001b[0;32m      3\u001b[0m B \u001b[38;5;241m=\u001b[39m \u001b[38;5;28mint\u001b[39m(B)\n",
      "\u001b[1;31mValueError\u001b[0m: not enough values to unpack (expected 2, got 0)"
     ]
    }
   ],
   "source": [
    "N, B = input().split()\n",
    "N = str(N)\n",
    "B = int(B)\n",
    "ls = list(N)\n",
    "ls\n",
    "\n",
    "\n"
   ]
  },
  {
   "cell_type": "code",
   "execution_count": 7,
   "metadata": {},
   "outputs": [
    {
     "data": {
      "text/plain": [
       "{'a': 1}"
      ]
     },
     "execution_count": 7,
     "metadata": {},
     "output_type": "execute_result"
    }
   ],
   "source": [
    "dict = {\n",
    "\n",
    "}\n",
    "dict['a'] = 1\n"
   ]
  },
  {
   "cell_type": "code",
   "execution_count": 35,
   "metadata": {},
   "outputs": [
    {
     "name": "stdout",
     "output_type": "stream",
     "text": [
      "35\n",
      "Z\n",
      "35\n",
      "Z\n",
      "35\n",
      "Z\n",
      "35\n",
      "Z\n",
      "35\n",
      "Z\n",
      "ZZZZZ\n"
     ]
    }
   ],
   "source": [
    "N, B = map(int, input().split())\n",
    "ls = []\n",
    "temp = N\n",
    "power = 1\n",
    "while temp > 0:\n",
    "    ls.append(temp%(B**power))\n",
    "    temp = temp//(B**power)\n",
    "\n",
    "ls = ls[::-1]\n",
    "for i in range(len(ls)):\n",
    "    if ls[i] > 9:\n",
    "        # print(ls[i])\n",
    "        # print(chr(ord('A') + ls[i] - 10))\n",
    "        ls[i] = chr(ord('A') + ls[i] - 10)\n",
    "\n",
    "print(*ls,sep='')"
   ]
  },
  {
   "cell_type": "code",
   "execution_count": 21,
   "metadata": {},
   "outputs": [
    {
     "name": "stdout",
     "output_type": "stream",
     "text": [
      "B\n"
     ]
    }
   ],
   "source": [
    "ord('A')\n",
    "print(chr(66))"
   ]
  },
  {
   "cell_type": "code",
   "execution_count": 11,
   "metadata": {},
   "outputs": [
    {
     "name": "stdout",
     "output_type": "stream",
     "text": [
      "*        *\n",
      "**      **\n",
      "***    ***\n",
      "****  ****\n",
      "**********\n",
      "****  ****\n",
      "***    ***\n",
      "**      **\n",
      "*        *\n"
     ]
    }
   ],
   "source": [
    "n = int(input())\n",
    "for i in range(n):\n",
    "    print('*' * (i+1) + ' ' * (2*n-2-i*2) + '*' * (i+1))\n",
    "for i in range(n-1,0,-1):\n",
    "    print('*' * (i) + ' ' * (2*n-i*2) + '*' * (i))"
   ]
  },
  {
   "cell_type": "code",
   "execution_count": 18,
   "metadata": {},
   "outputs": [
    {
     "name": "stdout",
     "output_type": "stream",
     "text": [
      "*********\n",
      " *******\n",
      "  *****\n",
      "   ***\n",
      "    *\n",
      "   ***\n",
      "  *****\n",
      " *******\n",
      "*********\n"
     ]
    }
   ],
   "source": [
    "n = int(input())\n",
    "for i in range(n):\n",
    "    print(' ' * i + '*' * (2*n-1 - 2*i))\n",
    "for i in range(n-2, -1, -1):\n",
    "    print(' ' * i + '*' * (2*n-1 - 2*i))"
   ]
  },
  {
   "cell_type": "code",
   "execution_count": null,
   "metadata": {},
   "outputs": [],
   "source": [
    "*********\n",
    " *******\n",
    "  *****\n",
    "   ***\n",
    "    *\n",
    "   ***\n",
    "  *****\n",
    " *******\n",
    "*********\n",
    "\n",
    "*********\n",
    " ******* \n",
    "  *****  \n",
    "   ***   \n",
    "    *    \n",
    "   ***   \n",
    "  *****  \n",
    " ******* \n",
    "*********"
   ]
  },
  {
   "cell_type": "code",
   "execution_count": 33,
   "metadata": {},
   "outputs": [
    {
     "ename": "IndexError",
     "evalue": "list index out of range",
     "output_type": "error",
     "traceback": [
      "\u001b[1;31m---------------------------------------------------------------------------\u001b[0m",
      "\u001b[1;31mIndexError\u001b[0m                                Traceback (most recent call last)",
      "Cell \u001b[1;32mIn[33], line 13\u001b[0m\n\u001b[0;32m     10\u001b[0m     remove_star(ls_mid_upper, k\u001b[38;5;241m/\u001b[39m\u001b[38;5;241m/\u001b[39m\u001b[38;5;241m3\u001b[39m)\n\u001b[0;32m     11\u001b[0m     remove_star(ls, k\u001b[38;5;241m/\u001b[39m\u001b[38;5;241m/\u001b[39m\u001b[38;5;241m3\u001b[39m)\n\u001b[1;32m---> 13\u001b[0m \u001b[43mremove_star\u001b[49m\u001b[43m(\u001b[49m\u001b[43mls\u001b[49m\u001b[43m,\u001b[49m\u001b[43m \u001b[49m\u001b[43mN\u001b[49m\u001b[43m)\u001b[49m\n\u001b[0;32m     14\u001b[0m \u001b[38;5;28;01mfor\u001b[39;00m i \u001b[38;5;129;01min\u001b[39;00m ls:\n\u001b[0;32m     15\u001b[0m     \u001b[38;5;28mprint\u001b[39m(\u001b[38;5;241m*\u001b[39mi, sep\u001b[38;5;241m=\u001b[39m\u001b[38;5;124m'\u001b[39m\u001b[38;5;124m'\u001b[39m ,end\u001b[38;5;241m=\u001b[39m\u001b[38;5;124m'\u001b[39m\u001b[38;5;130;01m\\n\u001b[39;00m\u001b[38;5;124m'\u001b[39m)\n",
      "Cell \u001b[1;32mIn[33], line 10\u001b[0m, in \u001b[0;36mremove_star\u001b[1;34m(ls, k)\u001b[0m\n\u001b[0;32m      8\u001b[0m         ls[k\u001b[38;5;241m/\u001b[39m\u001b[38;5;241m/\u001b[39m\u001b[38;5;241m3\u001b[39m \u001b[38;5;241m+\u001b[39m i][k\u001b[38;5;241m/\u001b[39m\u001b[38;5;241m/\u001b[39m\u001b[38;5;241m3\u001b[39m \u001b[38;5;241m+\u001b[39m j] \u001b[38;5;241m=\u001b[39m \u001b[38;5;124m'\u001b[39m\u001b[38;5;124m \u001b[39m\u001b[38;5;124m'\u001b[39m\n\u001b[0;32m      9\u001b[0m ls_mid_upper \u001b[38;5;241m=\u001b[39m ls[\u001b[38;5;241m0\u001b[39m:k\u001b[38;5;241m/\u001b[39m\u001b[38;5;241m/\u001b[39m\u001b[38;5;241m3\u001b[39m][k\u001b[38;5;241m/\u001b[39m\u001b[38;5;241m/\u001b[39m\u001b[38;5;241m3\u001b[39m:\u001b[38;5;241m2\u001b[39m\u001b[38;5;241m*\u001b[39m(k\u001b[38;5;241m/\u001b[39m\u001b[38;5;241m/\u001b[39m\u001b[38;5;241m3\u001b[39m)]\n\u001b[1;32m---> 10\u001b[0m \u001b[43mremove_star\u001b[49m\u001b[43m(\u001b[49m\u001b[43mls_mid_upper\u001b[49m\u001b[43m,\u001b[49m\u001b[43m \u001b[49m\u001b[43mk\u001b[49m\u001b[38;5;241;43m/\u001b[39;49m\u001b[38;5;241;43m/\u001b[39;49m\u001b[38;5;241;43m3\u001b[39;49m\u001b[43m)\u001b[49m\n\u001b[0;32m     11\u001b[0m remove_star(ls, k\u001b[38;5;241m/\u001b[39m\u001b[38;5;241m/\u001b[39m\u001b[38;5;241m3\u001b[39m)\n",
      "Cell \u001b[1;32mIn[33], line 8\u001b[0m, in \u001b[0;36mremove_star\u001b[1;34m(ls, k)\u001b[0m\n\u001b[0;32m      6\u001b[0m \u001b[38;5;28;01mfor\u001b[39;00m i \u001b[38;5;129;01min\u001b[39;00m \u001b[38;5;28mrange\u001b[39m(k\u001b[38;5;241m/\u001b[39m\u001b[38;5;241m/\u001b[39m\u001b[38;5;241m3\u001b[39m):\n\u001b[0;32m      7\u001b[0m     \u001b[38;5;28;01mfor\u001b[39;00m j \u001b[38;5;129;01min\u001b[39;00m \u001b[38;5;28mrange\u001b[39m(k\u001b[38;5;241m/\u001b[39m\u001b[38;5;241m/\u001b[39m\u001b[38;5;241m3\u001b[39m):\n\u001b[1;32m----> 8\u001b[0m         \u001b[43mls\u001b[49m\u001b[43m[\u001b[49m\u001b[43mk\u001b[49m\u001b[38;5;241;43m/\u001b[39;49m\u001b[38;5;241;43m/\u001b[39;49m\u001b[38;5;241;43m3\u001b[39;49m\u001b[43m \u001b[49m\u001b[38;5;241;43m+\u001b[39;49m\u001b[43m \u001b[49m\u001b[43mi\u001b[49m\u001b[43m]\u001b[49m[k\u001b[38;5;241m/\u001b[39m\u001b[38;5;241m/\u001b[39m\u001b[38;5;241m3\u001b[39m \u001b[38;5;241m+\u001b[39m j] \u001b[38;5;241m=\u001b[39m \u001b[38;5;124m'\u001b[39m\u001b[38;5;124m \u001b[39m\u001b[38;5;124m'\u001b[39m\n\u001b[0;32m      9\u001b[0m ls_mid_upper \u001b[38;5;241m=\u001b[39m ls[\u001b[38;5;241m0\u001b[39m:k\u001b[38;5;241m/\u001b[39m\u001b[38;5;241m/\u001b[39m\u001b[38;5;241m3\u001b[39m][k\u001b[38;5;241m/\u001b[39m\u001b[38;5;241m/\u001b[39m\u001b[38;5;241m3\u001b[39m:\u001b[38;5;241m2\u001b[39m\u001b[38;5;241m*\u001b[39m(k\u001b[38;5;241m/\u001b[39m\u001b[38;5;241m/\u001b[39m\u001b[38;5;241m3\u001b[39m)]\n\u001b[0;32m     10\u001b[0m remove_star(ls_mid_upper, k\u001b[38;5;241m/\u001b[39m\u001b[38;5;241m/\u001b[39m\u001b[38;5;241m3\u001b[39m)\n",
      "\u001b[1;31mIndexError\u001b[0m: list index out of range"
     ]
    }
   ],
   "source": [
    "N = int(input())\n",
    "ls = [['*' for _ in range(N)] for _ in range(N)]\n",
    "def remove_star(ls, k):\n",
    "    if k == 1:\n",
    "        return\n",
    "    for i in range(k//3):\n",
    "        for j in range(k//3):\n",
    "            ls[k//3 + i][k//3 + j] = ' '\n",
    "    \n",
    "    ls_mid_upper = ls[0:k//3][k//3:2*(k//3)]\n",
    "\n",
    "    remove_star(ls_mid_upper, k//3)\n",
    "    remove_star(ls, k//3)\n",
    "\n",
    "remove_star(ls, N)\n",
    "for i in ls:\n",
    "    print(*i, sep='' ,end='\\n')\n"
   ]
  },
  {
   "cell_type": "code",
   "execution_count": 38,
   "metadata": {},
   "outputs": [
    {
     "ename": "SyntaxError",
     "evalue": "invalid syntax (2317624933.py, line 5)",
     "output_type": "error",
     "traceback": [
      "\u001b[1;36m  Cell \u001b[1;32mIn[38], line 5\u001b[1;36m\u001b[0m\n\u001b[1;33m    res = ls[0:2][i for i in ls[i] if i<2]\u001b[0m\n\u001b[1;37m                    ^\u001b[0m\n\u001b[1;31mSyntaxError\u001b[0m\u001b[1;31m:\u001b[0m invalid syntax\n"
     ]
    }
   ],
   "source": [
    "ls = [[1,2,3],[1,2,3],[1,2,3]]\n",
    "\n",
    "res = [ls[i] for i in range(3) if i < 2]\n",
    "\n",
    "res"
   ]
  },
  {
   "cell_type": "code",
   "execution_count": 39,
   "metadata": {},
   "outputs": [
    {
     "ename": "TypeError",
     "evalue": "myFunc() got an unexpected keyword argument 'a'",
     "output_type": "error",
     "traceback": [
      "\u001b[1;31m---------------------------------------------------------------------------\u001b[0m",
      "\u001b[1;31mTypeError\u001b[0m                                 Traceback (most recent call last)",
      "Cell \u001b[1;32mIn[39], line 5\u001b[0m\n\u001b[0;32m      2\u001b[0m     \u001b[38;5;28mprint\u001b[39m(x,y,z)\n\u001b[0;32m      4\u001b[0m my_dict \u001b[38;5;241m=\u001b[39m {\u001b[38;5;124m'\u001b[39m\u001b[38;5;124ma\u001b[39m\u001b[38;5;124m'\u001b[39m:\u001b[38;5;241m1\u001b[39m, \u001b[38;5;124m'\u001b[39m\u001b[38;5;124mb\u001b[39m\u001b[38;5;124m'\u001b[39m:\u001b[38;5;241m2\u001b[39m, \u001b[38;5;124m'\u001b[39m\u001b[38;5;124mc\u001b[39m\u001b[38;5;124m'\u001b[39m:\u001b[38;5;241m3\u001b[39m}\n\u001b[1;32m----> 5\u001b[0m myFunc(\u001b[38;5;241m*\u001b[39m\u001b[38;5;241m*\u001b[39mmy_dict) \u001b[38;5;66;03m#1 2 3\u001b[39;00m\n",
      "\u001b[1;31mTypeError\u001b[0m: myFunc() got an unexpected keyword argument 'a'"
     ]
    }
   ],
   "source": [
    "def myFunc(x,y,z):\n",
    "    print(x,y,z)\n",
    "\n",
    "my_dict = {'a':1, 'b':2, 'c':3}\n",
    "myFunc(**my_dict) #1 2 3"
   ]
  },
  {
   "cell_type": "markdown",
   "metadata": {},
   "source": [
    "# 별찍기"
   ]
  },
  {
   "cell_type": "code",
   "execution_count": 41,
   "metadata": {},
   "outputs": [
    {
     "name": "stdout",
     "output_type": "stream",
     "text": [
      "                          *\n",
      "                          *\n",
      "                          *\n",
      "                          *\n",
      "                          *\n",
      "                          *\n",
      "                          *\n",
      "                          *\n",
      "                          *\n",
      "                          *\n",
      "                          *\n",
      "                          *\n",
      "                          *\n",
      "                          *\n",
      "                          *\n",
      "                          *\n",
      "                          *\n",
      "                          *\n",
      "                          *\n",
      "                          *\n",
      "                          *\n",
      "                          *\n",
      "                          *\n",
      "                          *\n",
      "                          *\n",
      "                          *\n",
      "***************************\n"
     ]
    }
   ],
   "source": [
    "N = int(input())\n",
    "ls = [['*' for _ in range(N)] for _ in range(N)]\n",
    "\n",
    "def remove_star(ls, row_start, row_end, col_start, col_end):\n",
    "    if row_end - row_start < 2:\n",
    "        return\n",
    "    for i in range(row_start, row_end):\n",
    "        for j in range(col_start, col_end):\n",
    "            ls[i][j] = ' '\n",
    "    remove_star(ls, 0, row_end//3, 0, col_end//3)\n",
    "    # remove_star(ls, 0, row_end//3, col_end//3, 2*col_end//3)\n",
    "\n",
    "\n",
    "remove_star(ls, 0, N-1, 0, N-1)\n",
    "\n",
    "for i in ls:\n",
    "    print(*i, sep='' ,end='\\n')"
   ]
  },
  {
   "cell_type": "code",
   "execution_count": 42,
   "metadata": {},
   "outputs": [
    {
     "data": {
      "text/plain": [
       "'b'"
      ]
     },
     "execution_count": 42,
     "metadata": {},
     "output_type": "execute_result"
    }
   ],
   "source": [
    "'a' and 'b'"
   ]
  },
  {
   "cell_type": "code",
   "execution_count": 43,
   "metadata": {},
   "outputs": [
    {
     "data": {
      "text/plain": [
       "0"
      ]
     },
     "execution_count": 43,
     "metadata": {},
     "output_type": "execute_result"
    }
   ],
   "source": [
    "0 and 3"
   ]
  },
  {
   "cell_type": "code",
   "execution_count": 45,
   "metadata": {},
   "outputs": [
    {
     "data": {
      "text/plain": [
       "-4"
      ]
     },
     "execution_count": 45,
     "metadata": {},
     "output_type": "execute_result"
    }
   ],
   "source": [
    "- 2 * 2"
   ]
  },
  {
   "cell_type": "markdown",
   "metadata": {},
   "source": [
    "# SWEA"
   ]
  },
  {
   "cell_type": "code",
   "execution_count": null,
   "metadata": {},
   "outputs": [],
   "source": [
    "test = int(input())\n",
    "N, M = map(int, input().split())\n",
    "tar = []\n",
    "\n",
    "def t(row, col):\n",
    "    ls = [[row, col]]\n",
    "    for i in range(M):\n",
    "        ls.append([row+i, col])\n",
    "        ls.append([row-i, col])\n",
    "        ls.append([row, col+i])\n",
    "        ls.append([row, col-i])\n",
    "    return ls\n",
    "\n",
    "def x(row, col):\n",
    "    ls = [[row, col]]\n",
    "    for i in range(M):\n",
    "        ls.append([row+i, col])\n",
    "        ls.append([row-i, col])\n",
    "        ls.append([row, col+i])\n",
    "        ls.append([row, col-i])\n",
    "    return ls\n",
    "\n",
    "def spray(ls):\n",
    "    for i in range(N):\n",
    "        for j in range(N):\n",
    "            t(i,j)\n",
    "            x(i,j)\n",
    "        \n",
    "for test_case in range(test):\n",
    "    for row in range(N):\n",
    "        ls.append(list(map(int, input().split())))\n",
    "    \n"
   ]
  },
  {
   "cell_type": "code",
   "execution_count": 48,
   "metadata": {},
   "outputs": [
    {
     "data": {
      "text/plain": [
       "['a', 'b']"
      ]
     },
     "execution_count": 48,
     "metadata": {},
     "output_type": "execute_result"
    }
   ],
   "source": [
    "dict = {\n",
    "    'a': 1,\n",
    "    'b': 2\n",
    "}\n",
    "\n",
    "a = list(map(str, dict))\n",
    "a"
   ]
  },
  {
   "cell_type": "code",
   "execution_count": null,
   "metadata": {},
   "outputs": [],
   "source": [
    "n = int(input())\n",
    "for i in range(n):\n",
    "    tar = int(input())\n",
    "    qu = 0\n",
    "    di = 0\n",
    "    ni = 0\n",
    "    pe = 0\n",
    "    \n",
    "    "
   ]
  }
 ],
 "metadata": {
  "kernelspec": {
   "display_name": "Python 3",
   "language": "python",
   "name": "python3"
  },
  "language_info": {
   "codemirror_mode": {
    "name": "ipython",
    "version": 3
   },
   "file_extension": ".py",
   "mimetype": "text/x-python",
   "name": "python",
   "nbconvert_exporter": "python",
   "pygments_lexer": "ipython3",
   "version": "3.9.13"
  }
 },
 "nbformat": 4,
 "nbformat_minor": 2
}
