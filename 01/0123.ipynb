{
 "cells": [
  {
   "cell_type": "code",
   "execution_count": 1,
   "metadata": {},
   "outputs": [
    {
     "name": "stdout",
     "output_type": "stream",
     "text": [
      "3\n"
     ]
    }
   ],
   "source": [
    "a = int(input())\n",
    "b = int(input())\n",
    "print(a+b)"
   ]
  },
  {
   "cell_type": "code",
   "execution_count": 2,
   "metadata": {},
   "outputs": [
    {
     "name": "stdout",
     "output_type": "stream",
     "text": [
      "19\n"
     ]
    }
   ],
   "source": [
    "r1, s = map(int, input().split())\n",
    "print(2*s-r1)"
   ]
  },
  {
   "cell_type": "code",
   "execution_count": 7,
   "metadata": {},
   "outputs": [
    {
     "name": "stdout",
     "output_type": "stream",
     "text": [
      "8\n"
     ]
    }
   ],
   "source": [
    "m, n = map(int, input().split())\n",
    "print(m-1 + (n -1)*m )"
   ]
  },
  {
   "cell_type": "code",
   "execution_count": 15,
   "metadata": {},
   "outputs": [
    {
     "name": "stdout",
     "output_type": "stream",
     "text": [
      "2024-01-23\n"
     ]
    }
   ],
   "source": [
    "import datetime as dt\n",
    "year = dt.datetime.now().year\n",
    "month = dt.datetime.now().month\n",
    "day = dt.datetime.now().day\n",
    "print(f'{year}-0{month}-{day}')"
   ]
  },
  {
   "cell_type": "code",
   "execution_count": 91,
   "metadata": {},
   "outputs": [
    {
     "name": "stdout",
     "output_type": "stream",
     "text": [
      "*****************************\n",
      " *            *            *\n",
      "  *          * *          *\n",
      "   *        *   *        *\n",
      "    *      *******      *\n",
      "     *    *  ***  *    *\n",
      "      *  *    *    *  *\n",
      "       ***************\n",
      "        *           *\n",
      "         *         *\n",
      "          *       *\n",
      "           *     *\n",
      "            *   *\n",
      "             * *\n",
      "              *\n"
     ]
    }
   ],
   "source": [
    "def make_star(N):\n",
    "    if N==1:\n",
    "        return ['*']\n",
    "    if N==2:\n",
    "        return [\n",
    "            '*****',\n",
    "            ' ***',\n",
    "            '  *',\n",
    "        ]\n",
    "    prev = make_star(N-1)\n",
    "    new = []\n",
    "    # 정삼각형\n",
    "    if N%2 == 1:\n",
    "        # 상단\n",
    "        new.append(' ' * (len(prev[0]) + 1) + '*')\n",
    "        for i in range(len(prev)-1):\n",
    "            new.append(' ' * (len(prev[0])-i) + '*' + ' ' * (2*i+1) + '*' )\n",
    "        # 하단 (이전)\n",
    "        for i in range(len(prev)):\n",
    "            new.append(' ' * (len(prev[0])-len(prev)+1-i) + '*' + ' ' * i +  prev[i]+ ' ' * 2*i + '*')\n",
    "        # new.append('*' * (3 * len(prev[0]) - 2))\n",
    "        new.append('*' * (len(prev[0]) * 2 + 3))\n",
    "    # 역삼각형\n",
    "    else:\n",
    "        new.append('*' * (2 * len(prev) + 2 + len(prev[-1])))\n",
    "        for i in range(len(prev)):\n",
    "            new.append(' ' * (i+1) + '*' + ' ' * (len(prev)-1-i) + prev[i] + ' ' * (2 *((len(prev)-1)) - 2*i) + '*')\n",
    "        for i in range(len(prev)-1):\n",
    "            new.append(' ' * (len(prev)+i+1) + '*' + ' ' * ((2 * len(prev) - 2*i -3)) + '*')\n",
    "        new.append(' ' * (len(prev)+len(prev)) + '*')\n",
    "    return new\n",
    "\n",
    "N = int(input())\n",
    "print(*make_star(N),sep='\\n')"
   ]
  },
  {
   "cell_type": "code",
   "execution_count": 96,
   "metadata": {},
   "outputs": [
    {
     "name": "stdout",
     "output_type": "stream",
     "text": [
      "*****************\n",
      "*               *\n",
      "* ************* *\n",
      "* *           * *\n",
      "* * ********* * *\n",
      "* * *       * * *\n",
      "* * * ***** * * *\n",
      "* * * *   * * * *\n",
      "* * * * * * * * *\n",
      "* * * *   * * * *\n",
      "* * * ***** * * *\n",
      "* * *       * * *\n",
      "* * ********* * *\n",
      "* *           * *\n",
      "* ************* *\n",
      "*               *\n",
      "*****************\n"
     ]
    }
   ],
   "source": [
    "def make_star(N):\n",
    "    if N == 1:\n",
    "        return ['*']\n",
    "    prev = make_star(N-1)\n",
    "    new = []\n",
    "    # 맨 위 \n",
    "    new.append('*' * (len(prev[0]) + 4))\n",
    "    # 그 아래\n",
    "    new.append('*' + ' '* (len(prev[0]) + 2) + '*')\n",
    "    # 이전\n",
    "    for i in range(len(prev)):\n",
    "        new.append('*' + ' ' + prev[i] + ' ' + '*')\n",
    "    # 아래\n",
    "    new.append('*' + ' '*(len(prev[0]) + 2) + '*')\n",
    "    new.append('*' * (len(prev[0]) + 4))\n",
    "    \n",
    "    return new\n",
    "\n",
    "\n",
    "N = int(input())\n",
    "print(*make_star(N), sep='\\n')"
   ]
  },
  {
   "cell_type": "code",
   "execution_count": 98,
   "metadata": {},
   "outputs": [
    {
     "name": "stdout",
     "output_type": "stream",
     "text": [
      "* * * *\n",
      " * * * *\n",
      "* * * *\n",
      " * * * *\n"
     ]
    }
   ],
   "source": [
    "N = int(input())\n",
    "if N == 1:\n",
    "    print('*')\n",
    "else:\n",
    "    for i in range(N):\n",
    "        if i%2 == 0:\n",
    "            print('*' + ' *' * (N-1))\n",
    "        else:\n",
    "            print(' *' + ' *' * (N-1))"
   ]
  },
  {
   "cell_type": "code",
   "execution_count": 115,
   "metadata": {},
   "outputs": [
    {
     "name": "stdout",
     "output_type": "stream",
     "text": [
      "* * *\n",
      " * *\n",
      "* * *\n",
      " * *\n",
      "* * *\n",
      " * *\n",
      "* * *\n",
      " * *\n",
      "* * *\n",
      " * *\n"
     ]
    }
   ],
   "source": [
    "N = int(input())\n",
    "if N == 1:\n",
    "    print('*')\n",
    "else:\n",
    "    odd = '*' + ' *' * ((N-1)//2)\n",
    "    even = ' *' + ' *' * (N//2-1)\n",
    "    for i in range(N):\n",
    "        print(odd)\n",
    "        print(even)"
   ]
  },
  {
   "cell_type": "code",
   "execution_count": 132,
   "metadata": {},
   "outputs": [
    {
     "name": "stdout",
     "output_type": "stream",
     "text": [
      "*************\n",
      "*\n",
      "* ***********\n",
      "* *         *\n",
      "* * ******* *\n",
      "* * *     * *\n",
      "* * * *** * *\n",
      "* * * * * * *\n",
      "* * * * * * *\n",
      "* * *   * * *\n",
      "* * ***** * *\n",
      "* *       * *\n",
      "* ********* *\n",
      "*           *\n",
      "*************\n"
     ]
    }
   ],
   "source": [
    "def make_star(N):\n",
    "    if N == 1:\n",
    "        return ['*']\n",
    "    if N == 2:\n",
    "        return [\n",
    "            '*****',\n",
    "            '*',\n",
    "            '* ***',\n",
    "            '* * *',\n",
    "            '* * *',\n",
    "            '*   *',\n",
    "            '*****',\n",
    "        ]\n",
    "    prev = make_star(N-1)\n",
    "    new = []\n",
    "    # 맨 위\n",
    "    new.append('*' * (len(prev[0]) + 4))\n",
    "    new.append('*')\n",
    "    # 중간\n",
    "    new.append('* ' + prev[0] + '**')\n",
    "    new.append('* ' + prev[1] + ' ' * len(prev[0]) + '*')\n",
    "    for i in range(2, len(prev)):\n",
    "        new.append('* ' + prev[i] + ' *')\n",
    "    # 아래\n",
    "    new.append('*' + ' ' * (len(prev[0]) + 2) + '*' )\n",
    "    new.append('*' * (len(prev[0]) + 4))\n",
    "    return new\n",
    "\n",
    "N = int(input())\n",
    "print(*make_star(N), sep='\\n')"
   ]
  },
  {
   "cell_type": "code",
   "execution_count": 161,
   "metadata": {},
   "outputs": [
    {
     "name": "stdout",
     "output_type": "stream",
     "text": [
      "***   ***\n",
      " * * * *\n",
      "  * * *\n",
      " * * * *\n",
      "***   ***\n"
     ]
    }
   ],
   "source": [
    "N = int(input())\n",
    "\n",
    "# top\n",
    "print('*' * N + ' ' * (2*N-3) + '*' * N)\n",
    "for i in range(N-2):\n",
    "    print(' ' * (i+1) + '*' + ' ' * (N-2) + '*' + ' ' * (2*N-5-2*i) + '*' + ' ' * (N-2) + '*')\n",
    "# mid\n",
    "print(' ' * (N-1) + '*' + ' ' * (N-2) + '*' + ' ' * (N-2) + '*')\n",
    "for i in range(N-3, -1, -1):\n",
    "    print(' ' * (i+1) + '*' + ' ' * (N-2) + '*' + ' ' * (2*N-5-2*i) + '*' + ' ' * (N-2) + '*')\n",
    "# bot\n",
    "print('*' * N + ' ' * (2*N-3) + '*' * N)\n"
   ]
  },
  {
   "cell_type": "code",
   "execution_count": 168,
   "metadata": {},
   "outputs": [
    {
     "name": "stdout",
     "output_type": "stream",
     "text": [
      "***************************\n",
      "* ** ** ** ** ** ** ** ** *\n",
      "***************************\n",
      "***   ******   ******   ***\n",
      "* *   * ** *   * ** *   * *\n",
      "***   ******   ******   ***\n",
      "***************************\n",
      "* ** ** ** ** ** ** ** ** *\n",
      "***************************\n",
      "*********         *********\n",
      "* ** ** *         * ** ** *\n",
      "*********         *********\n",
      "***   ***         ***   ***\n",
      "* *   * *         * *   * *\n",
      "***   ***         ***   ***\n",
      "*********         *********\n",
      "* ** ** *         * ** ** *\n",
      "*********         *********\n",
      "***************************\n",
      "* ** ** ** ** ** ** ** ** *\n",
      "***************************\n",
      "***   ******   ******   ***\n",
      "* *   * ** *   * ** *   * *\n",
      "***   ******   ******   ***\n",
      "***************************\n",
      "* ** ** ** ** ** ** ** ** *\n",
      "***************************\n"
     ]
    }
   ],
   "source": [
    "\n",
    "def make_star(N):\n",
    "    if N==3:\n",
    "        return [\n",
    "            '***',\n",
    "            '* *',\n",
    "            '***',\n",
    "        ]\n",
    "    \n",
    "    prev = make_star(N//3)\n",
    "    new = []\n",
    "    # top\n",
    "    for i in range(len(prev)):\n",
    "        new.append(prev[i]*3)\n",
    "    # mid\n",
    "    for i in range(len(prev)):\n",
    "        new.append(prev[i] + ' ' * len(prev[i]) + prev[i])\n",
    "    # bot\n",
    "    for i in range(len(prev)):\n",
    "        new.append(prev[i]*3)\n",
    "\n",
    "    return new\n",
    "\n",
    "N = int(input())\n",
    "print(*make_star(N), sep='\\n')\n"
   ]
  },
  {
   "cell_type": "code",
   "execution_count": 171,
   "metadata": {},
   "outputs": [
    {
     "name": "stdout",
     "output_type": "stream",
     "text": [
      "1 1\n",
      "1 2\n",
      "1 3\n",
      "1 4\n",
      "2 1\n",
      "2 2\n",
      "2 3\n",
      "2 4\n",
      "3 1\n",
      "3 2\n",
      "3 3\n",
      "3 4\n",
      "4 1\n",
      "4 2\n",
      "4 3\n",
      "4 4\n"
     ]
    }
   ],
   "source": [
    "N, M = map(int,input().split())\n",
    "\n",
    "ls = [i for i in range(1,N+1)]\n",
    "\n",
    "for i in range(N):\n",
    "    for j in range(N):\n",
    "        print(ls[i], ls[j])"
   ]
  },
  {
   "cell_type": "code",
   "execution_count": null,
   "metadata": {},
   "outputs": [],
   "source": []
  }
 ],
 "metadata": {
  "kernelspec": {
   "display_name": "Python 3",
   "language": "python",
   "name": "python3"
  },
  "language_info": {
   "codemirror_mode": {
    "name": "ipython",
    "version": 3
   },
   "file_extension": ".py",
   "mimetype": "text/x-python",
   "name": "python",
   "nbconvert_exporter": "python",
   "pygments_lexer": "ipython3",
   "version": "3.9.13"
  }
 },
 "nbformat": 4,
 "nbformat_minor": 2
}
