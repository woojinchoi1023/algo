{
 "cells": [
  {
   "cell_type": "code",
   "execution_count": 50,
   "metadata": {},
   "outputs": [
    {
     "name": "stdout",
     "output_type": "stream",
     "text": [
      "Aa0FfBb1GgCc2HhDd3IiEe4Jj"
     ]
    }
   ],
   "source": [
    "ls = []\n",
    "for i in range(5):\n",
    "    ls.append(list(str(input())))\n",
    "\n",
    "while True:\n",
    "    for i in range(5):\n",
    "        if len(ls[i]) != 0:\n",
    "            print(ls[i].pop(0), end='')\n",
    "            # print(ls[i])\n",
    "    # print(temp)\n",
    "    if not (ls[0] or ls[1] or ls[2] or ls[3] or ls[4]):\n",
    "        break\n",
    "\n"
   ]
  },
  {
   "cell_type": "code",
   "execution_count": 49,
   "metadata": {},
   "outputs": [
    {
     "name": "stdout",
     "output_type": "stream",
     "text": [
      "False\n"
     ]
    }
   ],
   "source": [
    "a = "
   ]
  },
  {
   "cell_type": "code",
   "execution_count": 7,
   "metadata": {},
   "outputs": [
    {
     "data": {
      "text/plain": [
       "[2, 3]"
      ]
     },
     "execution_count": 7,
     "metadata": {},
     "output_type": "execute_result"
    }
   ],
   "source": [
    "ls = [1, 2, 3]\n",
    "ls.pop(0)\n",
    "ls"
   ]
  },
  {
   "cell_type": "code",
   "execution_count": 13,
   "metadata": {},
   "outputs": [
    {
     "name": "stdout",
     "output_type": "stream",
     "text": [
      "[0]\n",
      "250000\n",
      "[1, 2, 3, 4, 5, 6, 7, 8, 9, 10]\n",
      "[4, 5, 6, 7, 8, 9, 10]\n"
     ]
    }
   ],
   "source": [
    "zero_list = [0]\n",
    "print(zero_list)\n",
    "many_zero_list = [0] * 250000\n",
    "print(len(many_zero_list))\n",
    "numbers = [i for i in range(1,11)]\n",
    "print(numbers)\n",
    "print(numbers[3:])"
   ]
  },
  {
   "cell_type": "code",
   "execution_count": 16,
   "metadata": {},
   "outputs": [
    {
     "name": "stdout",
     "output_type": "stream",
     "text": [
      "현재 보유 중인 총 책의 수는 다음과 같습니다.\n",
      "10\n",
      "그 중, 대여중인 책을 제외한 책의 수는 다음과 같습니다.\n",
      "7\n"
     ]
    }
   ],
   "source": [
    "book = '1'\n",
    "total = 10\n",
    "guide = '현재 보유 중인 총 책의 수는 다음과 같습니다.'\n",
    "print(guide)\n",
    "print(int(book) * total)\n",
    "\n",
    "changes = '그 중, 대여중인 책을 제외한 책의 수는 다음과 같습니다.'\n",
    "rental = 3.0\n",
    "print(changes)\n",
    "print(total - int(rental))\n"
   ]
  },
  {
   "cell_type": "code",
   "execution_count": 19,
   "metadata": {},
   "outputs": [
    {
     "name": "stdout",
     "output_type": "stream",
     "text": [
      "['작자 미상', '허균', '남영로', '조성기', '박지원', '이항복', '임제']\n"
     ]
    }
   ],
   "source": [
    "authors = [\n",
    "    '작자 미상',\n",
    "    '이항복',\n",
    "    '임제',\n",
    "    '임제',\n",
    "    '조성기',\n",
    "    '조성기',\n",
    "    '조성기',\n",
    "    '임제',\n",
    "    '허균',\n",
    "    '허균',\n",
    "    '허균',\n",
    "    '임제',\n",
    "    '임제',\n",
    "    '임제',\n",
    "    '임제',\n",
    "    '임제',\n",
    "    '임제',\n",
    "    '임제',\n",
    "    '임제',\n",
    "    '임제',\n",
    "    '임제',\n",
    "    '박지원',\n",
    "    '이항복',\n",
    "    '남영로',\n",
    "    '남영로',\n",
    "    '남영로',\n",
    "    '이항복',\n",
    "    '임제',\n",
    "    '임제',\n",
    "]\n",
    "authors = list(set(authors))\n",
    "print(authors)"
   ]
  },
  {
   "cell_type": "code",
   "execution_count": 21,
   "metadata": {},
   "outputs": [
    {
     "name": "stdout",
     "output_type": "stream",
     "text": [
      "주생전의 작가는 권필이고,\n",
      "허균은 홍길동전을 집필하였다.\n"
     ]
    }
   ],
   "source": [
    "# 책 한 권당 print문을 한 번씩만 사용한다.\n",
    "author_1 = '권필'\n",
    "author_2 = '허균'\n",
    "book_1 = '주생전'\n",
    "book_2 = '홍길동전'\n",
    "\n",
    "print(f'{book_1}의 작가는 {author_1}이고,')\n",
    "print(f'{author_2}은 {book_2}을 집필하였다.')"
   ]
  },
  {
   "cell_type": "code",
   "execution_count": 23,
   "metadata": {},
   "outputs": [
    {
     "name": "stdout",
     "output_type": "stream",
     "text": [
      "{'과목': 'Python', '구분': '실습', '단계': 2, '문제번호': 3251, '이름': None, '일차': 22}\n",
      "{'과목': 'Python', '구분': '실습', '단계': '2단계', '문제번호': 3251, '이름': '딕셔너리 활용하기', '일차': 2}\n"
     ]
    }
   ],
   "source": [
    "title = '딕셔너리 활용하기'\n",
    "# 아래에 코드를 작성하시오.\n",
    "data = {\n",
    "    '과목': 'Python',\n",
    "    '구분': '실습',\n",
    "    '단계': 2,\n",
    "    '문제번호': 3251,\n",
    "    '이름': None,\n",
    "    '일차': 22,\n",
    "}\n",
    "print(data)\n",
    "data['단계'] = str(data['단계']) + '단계'\n",
    "data['이름'] = title \n",
    "data['일차'] -= 20\n",
    "print(data)\n"
   ]
  },
  {
   "cell_type": "code",
   "execution_count": 25,
   "metadata": {},
   "outputs": [
    {
     "name": "stdout",
     "output_type": "stream",
     "text": [
      "허균 : 홍길동전\n",
      "이항복 : 유연전\n",
      "작자 미상 : 심청전\n",
      "박지원 : 광문자전\n",
      "임제 : 수성지\n"
     ]
    }
   ],
   "source": [
    "books = ['광문자전', '유연전', '심청전', '홍길동전', '수성지']\n",
    "authors = ['작자 미상', '허균', '박지원', '이항복', '임제']\n",
    "\n",
    "print(f'{authors[1]} : {books[3]}')\n",
    "print(f'{authors[3]} : {books[1]}')\n",
    "print(f'{authors[0]} : {books[2]}')\n",
    "print(f'{authors[2]} : {books[0]}')\n",
    "print(f'{authors[-1]} : {books[-1]}')"
   ]
  },
  {
   "cell_type": "code",
   "execution_count": 29,
   "metadata": {},
   "outputs": [
    {
     "name": "stdout",
     "output_type": "stream",
     "text": [
      "{'제목': '복잡한 자료구조', '일차': 2, '단계': '3단계', '과목': 'Python'}\n"
     ]
    }
   ],
   "source": [
    "data = [{'has_more': False,\n",
    "  'next_cursor': None,\n",
    "  'object': 'list',\n",
    "  'page_or_database': {},\n",
    "  'request_id': 'a5163fff-758f-45ea-b6fb',\n",
    "  'results': [{'archived': False,\n",
    "               'cover': None,\n",
    "               'created_by': {'object': 'user'},\n",
    "               'created_time': '2023-06-15T04:29:00.000Z',\n",
    "               'icon': None,\n",
    "               'last_edited_by': {'object': 'user'},\n",
    "               'last_edited_time': '2023-12-12T09:19:00.000Z',\n",
    "               'object': 'page',\n",
    "               'parent': {'type': 'database_id'},\n",
    "               'properties': {'setNum': {'id': '%7DK%40%5C',\n",
    "                                         'number': 1,\n",
    "                                         'type': 'number'},\n",
    "                              '과목': {'id': 'YuIE',\n",
    "                                     'multi_select': [{'color': 'default',\n",
    "                                                       'name': 'Python'}],\n",
    "                                     'type': 'multi_select'},\n",
    "                              '구분': {'id': '%40%3EmR',\n",
    "                                     'select': {'color': 'purple',\n",
    "                                                'name': '실습'},\n",
    "                                     'type': 'select'},\n",
    "                              '단계': {'id': 'T%7B%7BP',\n",
    "                                     'select': {'color': 'default',\n",
    "                                                'name': '3'},\n",
    "                                     'type': 'select'},\n",
    "                              '문제번호': {'id': 'uEBt',\n",
    "                                       'number': 1431,\n",
    "                                       'type': 'number'},\n",
    "                              '제목': {'id': 'title',\n",
    "                                     'title': [{'annotations': {'bold': False,\n",
    "                                                                'code': False,\n",
    "                                                                'color': 'default',\n",
    "                                                                'italic': False,\n",
    "                                                                'strikethrough': False,\n",
    "                                                                'underline': False},\n",
    "                                                'href': None,\n",
    "                                                'plain_text': '복잡한 자료구조',\n",
    "                                                'text': {'content': '복잡한 자료구조',\n",
    "                                                         'link': None},\n",
    "                                                'type': 'text'}],\n",
    "                                     'type': 'title'},\n",
    "                              '일차': {'id': 'nWnH',\n",
    "                                     'number': '2',\n",
    "                                     'type': 'number'},\n",
    "                              '커리큘럼': {'id': 'T%3AR_',\n",
    "                                       'multi_select': [{'color': 'default',\n",
    "                                                         'name': 'fundamentals-of-python'}],\n",
    "                                       'type': 'multi_select'}},\n",
    "               'public_url': None\n",
    "            }],\n",
    "  'type': 'page_or_database'}]\n",
    "\n",
    "# 아래에 코드를 작성하시오.\n",
    "first_data = {}\n",
    "first_data['제목'] = data[0]['results'][0]['properties']['제목']['title'][0]['plain_text']\n",
    "first_data['일차'] = int(data[0]['results'][0]['properties']['일차']['number'])\n",
    "first_data['단계'] = data[0]['results'][0]['properties']['단계']['select']['name'] + '단계'\n",
    "first_data['과목'] = data[0]['results'][0]['properties']['과목']['multi_select'][0]['name']\n",
    "\n",
    "print(first_data)\n"
   ]
  },
  {
   "cell_type": "code",
   "execution_count": 34,
   "metadata": {},
   "outputs": [
    {
     "name": "stdout",
     "output_type": "stream",
     "text": [
      "김시습 : ['금오신화', '이생규장전', '만복자서포기']\n",
      "허균 : ['홍길동전', '장생전', '도문대작']\n",
      "남영로 : ['옥루몽', '옥련몽']\n",
      "작자 미상 : ['장화홍련전', '가락국 신화', '온달 설화']\n",
      "임제 : ['수성지', '백호집', '원생몽유록']\n"
     ]
    }
   ],
   "source": [
    "information = dict()\n",
    "authors = ['김시습', '허균', '남영로', '작자 미상', '임제', '박지원']\n",
    "books = [\n",
    "    ['장화홍련전', '가락국 신화', '온달 설화'],\n",
    "    ['금오신화', '이생규장전', '만복자서포기'],\n",
    "    ['수성지', '백호집', '원생몽유록'],\n",
    "    ['홍길동전', '장생전', '도문대작'],\n",
    "    ['옥루몽', '옥련몽'],\n",
    "]\n",
    "\n",
    "information[authors[0]] = books[1]\n",
    "information[authors[1]] = books[3]\n",
    "information[authors[2]] = books[-1]\n",
    "information[authors[3]] = books[0]\n",
    "information[authors[4]] = books[2]\n",
    "\n",
    "# print(information)\n",
    "print(f'{authors[0]} : {information[authors[0]]}')\n",
    "print(f'{authors[1]} : {information[authors[1]]}')\n",
    "print(f'{authors[2]} : {information[authors[2]]}')\n",
    "print(f'{authors[3]} : {information[authors[3]]}')\n",
    "print(f'{authors[4]} : {information[authors[4]]}')\n"
   ]
  },
  {
   "cell_type": "code",
   "execution_count": 1,
   "metadata": {},
   "outputs": [
    {
     "name": "stdout",
     "output_type": "stream",
     "text": [
      "catalog와 backup_catalog를 비교한 결과\n",
      "False\n",
      "backup_catalog : \n",
      "[['시간의 틈', '반짝임의 어둠', '망각의 경계'], ['연기의 수수께끼', '장면의 고백', '드라마의 그림자'], ['황금의 칼날', '비열한 간신', '무명의 영웅'], ['성공의 열쇠', '내면의 변화', '목표의 달성']]\n",
      "\n",
      "catalog : \n",
      "[['시간의 틈', '반짝임의 어둠', '망각의 경계'], ['연기의 수수께끼', '장면의 고백', '드라마의 그림자'], ['황금의 칼날', '비열한 간신', '무명의 영웅'], ['성공을 향한 한 걸음', '내 삶의 변화', '목표 달성의 비밀']]\n"
     ]
    }
   ],
   "source": [
    "catalog = [\n",
    "    ['시간의 틈', '반짝임의 어둠', '망각의 경계'],\n",
    "    ['연기의 수수께끼', '장면의 고백', '드라마의 그림자'],\n",
    "    ['황금의 칼날', '비열한 간신', '무명의 영웅'],\n",
    "    ['성공의 열쇠', '내면의 변화', '목표의 달성'],\n",
    "]\n",
    "\n",
    "backup_catalog = catalog[:]\n",
    "\n",
    "''' \n",
    "도서 제목 '성공의 열쇠', '내면의 변화', '목표의 달성' 을 각각\n",
    "'성공을 향한 한 걸음', '내 삶의 변화', '목표 달성의 비밀' 가 되도록 변경하시오.\n",
    "'''\n",
    "catalog[-1] = ['성공을 향한 한 걸음', '내 삶의 변화', '목표 달성의 비밀']\n",
    "\n",
    "print('catalog와 backup_catalog를 비교한 결과')\n",
    "# 식별 연산자로 catalog와 backup_catalog를 비교한 결과를 출력하시오.\n",
    "print(catalog == backup_catalog)\n",
    "\n",
    "print('backup_catalog : ')\n",
    "print(backup_catalog)\n",
    "print()\n",
    "\n",
    "print('catalog : ')\n",
    "print(catalog)\n"
   ]
  },
  {
   "cell_type": "code",
   "execution_count": 6,
   "metadata": {},
   "outputs": [
    {
     "name": "stdout",
     "output_type": "stream",
     "text": [
      "2197176091456\n",
      "2197176091456\n",
      "catalog와 backup_catalog를 비교한 결과\n",
      "False\n",
      "backup_catalog : \n",
      "[['시간의 틈', '반짝임의 어둠', '망각의 경계'], ['연기의 수수께끼', '장면의 고백', '드라마의 그림자'], ['황금의 칼날', '비열한 간신', '무명의 영웅'], ['성공의 열쇠', '내면의 변화', '목표의 달성']]\n",
      "\n",
      "catalog : \n",
      "[['시간의 틈', '반짝임의 어둠', '망각의 경계'], ['연기의 수수께끼', '장면의 고백', '드라마의 그림자'], ['황금의 칼날', '비열한 간신', '무명의 영웅'], ['성공을 향한 한 걸음', '내 삶의 변화', '목표 달성의 비밀']]\n",
      "2197176072768\n",
      "2197176091456\n"
     ]
    },
    {
     "ename": "TypeError",
     "evalue": "unhashable type: 'list'",
     "output_type": "error",
     "traceback": [
      "\u001b[1;31m---------------------------------------------------------------------------\u001b[0m",
      "\u001b[1;31mTypeError\u001b[0m                                 Traceback (most recent call last)",
      "Cell \u001b[1;32mIn[6], line 34\u001b[0m\n\u001b[0;32m     30\u001b[0m \u001b[38;5;28mprint\u001b[39m(\u001b[38;5;28mid\u001b[39m(catalog[\u001b[38;5;241m-\u001b[39m\u001b[38;5;241m1\u001b[39m]))\n\u001b[0;32m     31\u001b[0m \u001b[38;5;28mprint\u001b[39m(\u001b[38;5;28mid\u001b[39m(backup_catalog[\u001b[38;5;241m-\u001b[39m\u001b[38;5;241m1\u001b[39m]))\n\u001b[1;32m---> 34\u001b[0m new \u001b[38;5;241m=\u001b[39m \u001b[38;5;28;43mset\u001b[39;49m\u001b[43m(\u001b[49m\u001b[43mcatalog\u001b[49m\u001b[43m)\u001b[49m\n\u001b[0;32m     35\u001b[0m \u001b[38;5;28mprint\u001b[39m(new)\n",
      "\u001b[1;31mTypeError\u001b[0m: unhashable type: 'list'"
     ]
    }
   ],
   "source": [
    "catalog = [\n",
    "    ['시간의 틈', '반짝임의 어둠', '망각의 경계'],\n",
    "    ['연기의 수수께끼', '장면의 고백', '드라마의 그림자'],\n",
    "    ['황금의 칼날', '비열한 간신', '무명의 영웅'],\n",
    "    ['성공의 열쇠', '내면의 변화', '목표의 달성'],\n",
    "]\n",
    "\n",
    "backup_catalog = catalog[:]\n",
    "\n",
    "print(id(catalog[-1]))\n",
    "print(id(backup_catalog[-1]))\n",
    "\n",
    "''' \n",
    "도서 제목 '성공의 열쇠', '내면의 변화', '목표의 달성' 을 각각\n",
    "'성공을 향한 한 걸음', '내 삶의 변화', '목표 달성의 비밀' 가 되도록 변경하시오.\n",
    "'''\n",
    "catalog[-1] = ['성공을 향한 한 걸음', '내 삶의 변화', '목표 달성의 비밀']\n",
    "\n",
    "print('catalog와 backup_catalog를 비교한 결과')\n",
    "# 식별 연산자로 catalog와 backup_catalog를 비교한 결과를 출력하시오.\n",
    "print(catalog == backup_catalog)\n",
    "\n",
    "print('backup_catalog : ')\n",
    "print(backup_catalog)\n",
    "print()\n",
    "\n",
    "print('catalog : ')\n",
    "print(catalog)\n",
    "\n",
    "print(id(catalog[-1]))\n",
    "print(id(backup_catalog[-1]))\n",
    "\n"
   ]
  },
  {
   "cell_type": "code",
   "execution_count": null,
   "metadata": {},
   "outputs": [],
   "source": []
  }
 ],
 "metadata": {
  "kernelspec": {
   "display_name": "Python 3",
   "language": "python",
   "name": "python3"
  },
  "language_info": {
   "codemirror_mode": {
    "name": "ipython",
    "version": 3
   },
   "file_extension": ".py",
   "mimetype": "text/x-python",
   "name": "python",
   "nbconvert_exporter": "python",
   "pygments_lexer": "ipython3",
   "version": "3.9.13"
  }
 },
 "nbformat": 4,
 "nbformat_minor": 2
}
