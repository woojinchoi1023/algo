{
 "cells": [
  {
   "cell_type": "markdown",
   "metadata": {},
   "source": [
    "# 파이썬 소개"
   ]
  },
  {
   "cell_type": "code",
   "execution_count": 1,
   "metadata": {},
   "outputs": [
    {
     "data": {
      "text/plain": [
       "'a'"
      ]
     },
     "execution_count": 1,
     "metadata": {},
     "output_type": "execute_result"
    }
   ],
   "source": [
    "myStr= 'abcdef'\n",
    "#big step\n",
    "myStr[::100]"
   ]
  },
  {
   "cell_type": "code",
   "execution_count": 14,
   "metadata": {},
   "outputs": [
    {
     "name": "stdout",
     "output_type": "stream",
     "text": [
      "        *        \n",
      "\n",
      "      * * *      \n",
      "\n",
      "    * * * * *    \n",
      "\n",
      "  * * * * * * *  \n",
      "\n",
      "* * * * * * * * *\n",
      "\n"
     ]
    }
   ],
   "source": [
    "N = int(input())\n",
    "\n",
    "row = ' ' * (N-1) + '*' + ' ' * (N-1)\n",
    "row = list(row)\n",
    "ans = []\n",
    "for i in range(N):\n",
    "    row[N+i-1] = '*'\n",
    "    row[N-i-1] = '*'\n",
    "    ans.append(row[:])\n",
    "\n",
    "for i in range(N):\n",
    "    print(*ans[i], end='')\n",
    "    print('\\n')\n"
   ]
  },
  {
   "cell_type": "code",
   "execution_count": 27,
   "metadata": {},
   "outputs": [
    {
     "name": "stdout",
     "output_type": "stream",
     "text": [
      "    *\n",
      "   ***\n",
      "  *****\n",
      " *******\n",
      "*********\n",
      " *******\n",
      "  *****\n",
      "   ***\n",
      "    *\n",
      "     \n"
     ]
    }
   ],
   "source": [
    "N = int(input())\n",
    "\n",
    "for i in range(N):\n",
    "    ans = ' ' * (N-i-1) + '*' * (i*2+1)\n",
    "    print(ans)\n",
    "for i in range(N):\n",
    "    ans = ' ' * (i+1) + '*' * (2*N-3 - i*2)\n",
    "    print(ans)"
   ]
  },
  {
   "cell_type": "code",
   "execution_count": 16,
   "metadata": {},
   "outputs": [
    {
     "name": "stdout",
     "output_type": "stream",
     "text": [
      "12\n"
     ]
    }
   ],
   "source": [
    "a = 1\n",
    "b = 2\n",
    "print(a,b,sep=\"\")"
   ]
  },
  {
   "cell_type": "code",
   "execution_count": null,
   "metadata": {},
   "outputs": [],
   "source": [
    "for i in str:\n",
    "    print(i)\n"
   ]
  },
  {
   "cell_type": "code",
   "execution_count": 33,
   "metadata": {},
   "outputs": [
    {
     "name": "stdout",
     "output_type": "stream",
     "text": [
      "0\n"
     ]
    }
   ],
   "source": [
    "tar = str(input())\n",
    "res = 1\n",
    "for i in range(len(tar)):\n",
    "    if tar[i] != tar[-i-1]:\n",
    "        res = 0\n",
    "        break\n",
    "print(res)"
   ]
  },
  {
   "cell_type": "code",
   "execution_count": null,
   "metadata": {},
   "outputs": [],
   "source": [
    "def a(a,b,c):\n",
    "    \n",
    "    print('')\n",
    "    return answer\n",
    "\n",
    "\n",
    "s = int(s)\n",
    "a, b, c = input()\n",
    "\n",
    "solution(a,b,c)"
   ]
  },
  {
   "cell_type": "code",
   "execution_count": 5,
   "metadata": {},
   "outputs": [
    {
     "name": "stdout",
     "output_type": "stream",
     "text": [
      "4.5\n"
     ]
    }
   ],
   "source": [
    "class_sum = 0.0\n",
    "grade_sum = 0.0\n",
    "grade = {\n",
    "    'A+': 4.5,\n",
    "    'A0': 4.0,\n",
    "    'B+': 3.5,\n",
    "    'B0': 3.0,\n",
    "    'C+': 2.5,\n",
    "    'C0': 2.0,\n",
    "    'D+': 1.5,\n",
    "    'D0': 1.0,\n",
    "    'F': 0.0,\n",
    "}\n",
    "\n",
    "for _ in range(20):\n",
    "    _, class_num, grade_letter = input().split()\n",
    "    class_num = float(class_num)\n",
    "    if grade_letter not in ['P']:\n",
    "        class_sum += class_num\n",
    "        grade_sum += grade[grade_letter] * class_num\n",
    "\n",
    "\n",
    "print(grade_sum/class_sum)\n"
   ]
  },
  {
   "cell_type": "code",
   "execution_count": 7,
   "metadata": {},
   "outputs": [
    {
     "name": "stdout",
     "output_type": "stream",
     "text": [
      "Your GPA is: 3.284483\n"
     ]
    }
   ],
   "source": [
    "class_sum = 0.0\n",
    "grade_sum = 0.0\n",
    "grade = {\n",
    "    'A+': 4.5,\n",
    "    'A0': 4.0,\n",
    "    'B+': 3.5,\n",
    "    'B0': 3.0,\n",
    "    'C+': 2.5,\n",
    "    'C0': 2.0,\n",
    "    'D+': 1.5,\n",
    "    'D0': 1.0,\n",
    "    'F0': 0.0,\n",
    "}\n",
    "\n",
    "course_data = [\n",
    "    \"ObjectOrientedProgramming1 3.0 A+\",\n",
    "    \"IntroductiontoComputerEngineering 3.0 A+\",\n",
    "    \"ObjectOrientedProgramming2 3.0 A0\",\n",
    "    \"CreativeComputerEngineeringDesign 3.0 A+\",\n",
    "    \"AssemblyLanguage 3.0 A+\",\n",
    "    \"InternetProgramming 3.0 B0\",\n",
    "    \"ApplicationProgramminginJava 3.0 A0\",\n",
    "    \"SystemProgramming 3.0 B0\",\n",
    "    \"OperatingSystem 3.0 B0\",\n",
    "    \"WirelessCommunicationsandNetworking 3.0 C+\",\n",
    "    \"LogicCircuits 3.0 B0\",\n",
    "    \"DataStructure 4.0 A+\",\n",
    "    \"MicroprocessorApplication 3.0 B+\",\n",
    "    \"EmbeddedSoftware 3.0 C0\",\n",
    "    \"ComputerSecurity 3.0 D+\",\n",
    "    \"Database 3.0 C+\",\n",
    "    \"Algorithm 3.0 B0\",\n",
    "    \"CapstoneDesigninCSE 3.0 B+\",\n",
    "    \"CompilerDesign 3.0 D0\",\n",
    "    \"ProblemSolving 4.0 P\",\n",
    "]\n",
    "\n",
    "for data in course_data:\n",
    "    _, class_num, grade_letter = data.split()\n",
    "    class_num = float(class_num)\n",
    "    if grade_letter not in ['P']:\n",
    "        class_sum += class_num\n",
    "        grade_sum += grade[grade_letter] * class_num\n",
    "\n",
    "if class_sum != 0:\n",
    "    gpa = grade_sum / class_sum\n",
    "    print(f'Your GPA is: {gpa:.6f}')\n",
    "else:\n",
    "    print('No valid courses with grades entered.')\n"
   ]
  },
  {
   "cell_type": "code",
   "execution_count": 8,
   "metadata": {},
   "outputs": [
    {
     "name": "stdout",
     "output_type": "stream",
     "text": [
      "반짝 반짝 작은별 아름답게 비치네\n",
      "동쪽 하늘에서도 서쪽 하늘에서도\n",
      "반짝 반짝 작은별 아름답게 비치네\n"
     ]
    }
   ],
   "source": [
    "a1 = '반짝 반짝'\n",
    "b2 = '에서도'\n",
    "a2 = '작은별'\n",
    "a3 ='아름답게 비치네'\n",
    "b1 = '동쪽 하늘'\n",
    "c1 ='서쪽 하늘'\n",
    "\n",
    "print(a1, a2, a3)\n",
    "print(b1+b2, c1+b2)\n",
    "print(a1, a2, a3)\n"
   ]
  },
  {
   "cell_type": "code",
   "execution_count": 9,
   "metadata": {},
   "outputs": [
    {
     "name": "stdout",
     "output_type": "stream",
     "text": [
      "반짝 반짝 작은 별 아름답게 비치네\n",
      "동쪽 하늘에서도 서쪽 하늘에서도\n",
      "반짝 반짝 작은 별 아름답게 비치네\n"
     ]
    }
   ],
   "source": [
    "a1 = '반짝 반짝'\n",
    "b2 = '에서도'\n",
    "a2 = '작은 별'\n",
    "a3 ='아름답게 비치네'\n",
    "b1 = '동쪽 하늘'\n",
    "c1 ='서쪽 하늘'\n",
    "\n",
    "print(a1, a2, a3)\n",
    "print(b1+b2, c1+b2)\n",
    "print(a1, a2, a3)\n"
   ]
  },
  {
   "cell_type": "code",
   "execution_count": 10,
   "metadata": {},
   "outputs": [
    {
     "name": "stdout",
     "output_type": "stream",
     "text": [
      "4 4 4\n",
      "6 6 6\n",
      "5 6 100\n"
     ]
    }
   ],
   "source": [
    "N, M = map(int, input().split())\n",
    "ls_1 = [[] for j in range(N)]\n",
    "ls_2 = [[] for j in range(N)]\n",
    "for row in range(N):\n",
    "        ls_1[row] += map(int, input().split())\n",
    "for row in range(N):\n",
    "        ls_2[row] += map(int, input().split())\n",
    "ans = [[0 for i in range(M)] for j in range(N)]\n",
    "for i in range(N):\n",
    "        for j in range(M):\n",
    "                ans[i][j] = ls_1[i][j] + ls_2[i][j]\n",
    "\n",
    "for i in ans:\n",
    "        print(*i)\n"
   ]
  },
  {
   "cell_type": "code",
   "execution_count": 14,
   "metadata": {},
   "outputs": [
    {
     "name": "stdout",
     "output_type": "stream",
     "text": [
      "9\n",
      "0 8\n"
     ]
    }
   ],
   "source": [
    "mat = []\n",
    "for i in range(9):\n",
    "    mat.append(list(map(int, input().split())))\n",
    "max_val = mat[0][0]\n",
    "max_index = [1,1]\n",
    "for i in range(9):\n",
    "    for j in range(9):\n",
    "        if mat[i][j] > max_val:\n",
    "            max_val = mat[i][j]\n",
    "            max_index = [i+1, j+1]\n",
    "print(max_val)\n",
    "print(*max_index)\n"
   ]
  },
  {
   "cell_type": "code",
   "execution_count": null,
   "metadata": {},
   "outputs": [],
   "source": [
    "ls = []\n",
    "for i in range(5):\n",
    "    row = list(str(input()))\n",
    "    ls.append(row)\n",
    "while True:\n",
    "    for i in range(5):\n",
    "        ls[i]"
   ]
  },
  {
   "cell_type": "code",
   "execution_count": 19,
   "metadata": {},
   "outputs": [
    {
     "ename": "IndexError",
     "evalue": "pop from empty list",
     "output_type": "error",
     "traceback": [
      "\u001b[1;31m---------------------------------------------------------------------------\u001b[0m",
      "\u001b[1;31mIndexError\u001b[0m                                Traceback (most recent call last)",
      "Cell \u001b[1;32mIn[19], line 2\u001b[0m\n\u001b[0;32m      1\u001b[0m a \u001b[38;5;241m=\u001b[39m []\n\u001b[1;32m----> 2\u001b[0m \u001b[43ma\u001b[49m\u001b[38;5;241;43m.\u001b[39;49m\u001b[43mpop\u001b[49m\u001b[43m(\u001b[49m\u001b[38;5;241;43m0\u001b[39;49m\u001b[43m)\u001b[49m\n",
      "\u001b[1;31mIndexError\u001b[0m: pop from empty list"
     ]
    }
   ],
   "source": [
    "a = []\n",
    "a.pop(0)"
   ]
  },
  {
   "cell_type": "code",
   "execution_count": null,
   "metadata": {},
   "outputs": [],
   "source": []
  }
 ],
 "metadata": {
  "kernelspec": {
   "display_name": "Python 3",
   "language": "python",
   "name": "python3"
  },
  "language_info": {
   "codemirror_mode": {
    "name": "ipython",
    "version": 3
   },
   "file_extension": ".py",
   "mimetype": "text/x-python",
   "name": "python",
   "nbconvert_exporter": "python",
   "pygments_lexer": "ipython3",
   "version": "3.9.13"
  }
 },
 "nbformat": 4,
 "nbformat_minor": 2
}
