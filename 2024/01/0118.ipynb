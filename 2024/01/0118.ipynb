{
 "cells": [
  {
   "cell_type": "code",
   "execution_count": 1,
   "metadata": {},
   "outputs": [
    {
     "name": "stdout",
     "output_type": "stream",
     "text": [
      "4 2 0 4\n",
      "1 0 0 0\n",
      "7 1 1 4\n"
     ]
    }
   ],
   "source": [
    "n = int(input())\n",
    "for i in range(n):\n",
    "    tar = int(input())\n",
    "    qu = 0 #25\n",
    "    di = 0 #10\n",
    "    ni = 0 #5\n",
    "    pe = 0 #1\n",
    "\n",
    "    if tar//25 > 0:\n",
    "        qu = tar//25\n",
    "        tar = tar%25\n",
    "    if tar//10 > 0:\n",
    "        di = tar//10\n",
    "        tar = tar%10\n",
    "    if tar//5 > 0:\n",
    "        ni = tar//5\n",
    "        tar = tar%5\n",
    "    pe = tar\n",
    "    print(qu, di, ni, pe)"
   ]
  },
  {
   "cell_type": "code",
   "execution_count": 27,
   "metadata": {},
   "outputs": [
    {
     "name": "stdout",
     "output_type": "stream",
     "text": [
      "1089\n"
     ]
    }
   ],
   "source": [
    "N = int(input())\n",
    "\n",
    "def dot_num(n):\n",
    "    if n == 0:\n",
    "        return 2\n",
    "    return 2 * dot_num(n-1) - 1\n",
    "\n",
    "\n",
    "# for i in range(10):\n",
    "#     print(i, dot_num(i))\n",
    "# print(dot_num(N))\n",
    "print(dot_num(N) ** 2)"
   ]
  },
  {
   "cell_type": "code",
   "execution_count": 30,
   "metadata": {},
   "outputs": [
    {
     "name": "stdout",
     "output_type": "stream",
     "text": [
      "factor\n",
      "multiple\n",
      "neither\n",
      "neither\n"
     ]
    }
   ],
   "source": [
    "\n",
    "def cal(a,b):\n",
    "    stat = 'neither'\n",
    "    if a == 0 or b == 0:\n",
    "        return stat\n",
    "    if b%a == 0:\n",
    "        stat = 'factor'\n",
    "    if a%b == 0:\n",
    "        stat = 'multiple'\n",
    "    return stat\n",
    "\n",
    "# print(cal(a,b))\n",
    "\n",
    "while True:\n",
    "    a, b = map(int, input().split())\n",
    "    if a == 0 and b == 0:\n",
    "        break\n",
    "    print(cal(a,b))\n",
    "    "
   ]
  },
  {
   "cell_type": "code",
   "execution_count": null,
   "metadata": {},
   "outputs": [],
   "source": []
  }
 ],
 "metadata": {
  "kernelspec": {
   "display_name": "Python 3",
   "language": "python",
   "name": "python3"
  },
  "language_info": {
   "codemirror_mode": {
    "name": "ipython",
    "version": 3
   },
   "file_extension": ".py",
   "mimetype": "text/x-python",
   "name": "python",
   "nbconvert_exporter": "python",
   "pygments_lexer": "ipython3",
   "version": "3.9.13"
  }
 },
 "nbformat": 4,
 "nbformat_minor": 2
}
