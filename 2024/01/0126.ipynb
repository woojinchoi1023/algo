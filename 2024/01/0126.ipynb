{
 "cells": [
  {
   "cell_type": "markdown",
   "metadata": {},
   "source": [
    "# 백준 class2"
   ]
  },
  {
   "cell_type": "code",
   "execution_count": 35,
   "metadata": {},
   "outputs": [
    {
     "name": "stdout",
     "output_type": "stream",
     "text": [
      "12\n"
     ]
    }
   ],
   "source": [
    "#1018\n",
    "# 8 8\n",
    "# WBWBWBWB\n",
    "# BWBWBWBW\n",
    "# WBWBWBWB\n",
    "# BWBBBWBW\n",
    "# WBWBWBWB\n",
    "# BWBWBWBW\n",
    "# WBWBWBWB\n",
    "# BWBWBWBW\n",
    "\n",
    "# prev\n",
    "# BWBWBWBW\n",
    "# WWBWBWBW\n",
    "# WWBWBWBW\n",
    "# WWBWBWBW\n",
    "# WWBWBWBW\n",
    "# WWBWBWBW\n",
    "# WWBWBWBW\n",
    "# WWBWBWBW\n",
    "\n",
    "N,M = 10, 13\n",
    "ls = [\n",
    "    'BBBBBBBBWBWBW',\n",
    "    'BBBBBBBBBWBWB',\n",
    "    'BBBBBBBBWBWBW',\n",
    "    'BBBBBBBBBWBWB',\n",
    "    'BBBBBBBBWBWBW',\n",
    "    'BBBBBBBBBWBWB',\n",
    "    'BBBBBBBBWBWBW',\n",
    "    'BBBBBBBBBWBWB',\n",
    "    'WWWWWWWWWWBWB',\n",
    "    'WWWWWWWWWWBWB',\n",
    "\n",
    "]\n",
    "\n",
    "\n",
    "# N,M = map(int, input().split())\n",
    "# ls = []\n",
    "# for i in range(N):\n",
    "#     ls.append(str(input()))\n",
    "\n",
    "def change_num(ls, i, j):\n",
    "    tar = []\n",
    "    for col in range(i,i+8):\n",
    "        tar.append(ls[col][j:j+8])\n",
    "    oneLine = ''.join(tar)\n",
    "\n",
    "    # print(oneLine)\n",
    "    \n",
    "    w, b = 0, 0\n",
    "    # 1st white\n",
    "    prev = 'B'\n",
    "    for i in range(64):\n",
    "        if oneLine[i] == prev:\n",
    "            w += 1\n",
    "        if i != 0 and (i+1) % 8 == 0:\n",
    "            continue\n",
    "        if prev == 'B':\n",
    "            prev = 'W'\n",
    "        else:\n",
    "            prev = 'B'\n",
    "\n",
    "    # 1st black\n",
    "    prev = 'W'\n",
    "    for i in range(64):\n",
    "        if oneLine[i] == prev:\n",
    "            b += 1\n",
    "        if i != 0 and (i+1) % 8 == 0:\n",
    "            continue\n",
    "        if prev == 'B':\n",
    "            prev = 'W'\n",
    "        else:\n",
    "            prev = 'B'\n",
    "            \n",
    "    return min(w,b)\n",
    "\n",
    "# 잘라낸 체스판\n",
    "row = 0\n",
    "col = 0\n",
    "cand = []\n",
    "\n",
    "for i in range(N-8+1):\n",
    "    for j in range(M-8+1):\n",
    "        cand.append(change_num(ls,i,j))\n",
    "\n",
    "print(min(cand))"
   ]
  },
  {
   "cell_type": "code",
   "execution_count": 33,
   "metadata": {},
   "outputs": [
    {
     "name": "stdout",
     "output_type": "stream",
     "text": [
      "0 0\n",
      "0 1\n",
      "0 2\n",
      "1 0\n",
      "1 1\n",
      "1 2\n",
      "2 0\n",
      "2 1\n",
      "2 2\n",
      "3 0\n",
      "3 1\n",
      "3 2\n",
      "4 0\n",
      "4 1\n",
      "4 2\n",
      "5 0\n",
      "5 1\n",
      "5 2\n"
     ]
    }
   ],
   "source": [
    "N,M = 10, 13\n",
    "ls = [\n",
    "    'BBBBBBBBWBWBW',\n",
    "    'BBBBBBBBBWBWB',\n",
    "    'BBBBBBBBWBWBW',\n",
    "    'BBBBBBBBBWBWB',\n",
    "    'BBBBBBBBWBWBW',\n",
    "    'BBBBBBBBBWBWB',\n",
    "    'BBBBBBBBWBWBW',\n",
    "    'BBBBBBBBBWBWB',\n",
    "    'WWWWWWWWWWBWB',\n",
    "    'WWWWWWWWWWBWB',\n",
    "\n",
    "]\n",
    "\n",
    "for i in range(N-8+1):\n",
    "    for j in range(M-8+1):\n",
    "        print(i,j)"
   ]
  },
  {
   "cell_type": "code",
   "execution_count": null,
   "metadata": {},
   "outputs": [],
   "source": [
    "#1018\n",
    "\n",
    "N,M = map(int, input().split())\n",
    "ls = []\n",
    "for i in range(N):\n",
    "    ls.append(str(input()))\n",
    "\n",
    "def change_num(ls, i, j):\n",
    "    tar = []\n",
    "    for col in range(i,i+8):\n",
    "        tar.append(ls[col][j:j+8])\n",
    "    oneLine = ''.join(tar)\n",
    "\n",
    "    w, b = 0, 0\n",
    "    # 1st white\n",
    "    prev = 'B'\n",
    "    for i in range(64):\n",
    "        if oneLine[i] == prev:\n",
    "            w += 1\n",
    "        if i != 0 and (i+1) % 8 == 0:\n",
    "            continue\n",
    "        if prev == 'B':\n",
    "            prev = 'W'\n",
    "        else:\n",
    "            prev = 'B'\n",
    "\n",
    "    # 1st black\n",
    "    prev = 'W'\n",
    "    for i in range(64):\n",
    "        if oneLine[i] == prev:\n",
    "            b += 1\n",
    "        if i != 0 and (i+1) % 8 == 0:\n",
    "            continue\n",
    "        if prev == 'B':\n",
    "            prev = 'W'\n",
    "        else:\n",
    "            prev = 'B'\n",
    "            \n",
    "    return min(w,b)\n",
    "\n",
    "# 잘라낸 체스판\n",
    "row = 0\n",
    "col = 0\n",
    "cand = []\n",
    "\n",
    "for i in range(N-8+1):\n",
    "    for j in range(M-8+1):\n",
    "        cand.append(change_num(ls,i,j))\n",
    "\n",
    "print(min(cand))"
   ]
  },
  {
   "cell_type": "code",
   "execution_count": 45,
   "metadata": {},
   "outputs": [
    {
     "name": "stdout",
     "output_type": "stream",
     "text": [
      "i\n",
      "im\n",
      "it\n",
      "no\n",
      "but\n",
      "more\n",
      "wait\n",
      "wont\n",
      "yours\n",
      "cannot\n",
      "hesitate\n"
     ]
    }
   ],
   "source": [
    "# 1181\n",
    "\n",
    "# N = 13\n",
    "# ls = list('but i wont hesitate no more no more it cannot wait im yours'.split())\n",
    "# print(ls)\n",
    "\n",
    "N = int(input())\n",
    "ls = []\n",
    "for i in range(N):\n",
    "    ls.append(str(input()))\n",
    "ls = list(set(ls))\n",
    "ls.sort()\n",
    "ls.sort(key=lambda x: len(x))\n",
    "print(*ls, sep='\\n')"
   ]
  },
  {
   "cell_type": "code",
   "execution_count": 53,
   "metadata": {},
   "outputs": [
    {
     "name": "stdout",
     "output_type": "stream",
     "text": [
      "[1, 2, 1] [1, 2, 1]\n",
      "yes\n",
      "[1, 2, 3, 1] [1, 3, 2, 1]\n",
      "no\n",
      "[1, 2, 4, 2, 1] [1, 2, 4, 2, 1]\n",
      "yes\n"
     ]
    }
   ],
   "source": [
    "while True:\n",
    "    tar = str(input())\n",
    "    if int(tar) == 0:\n",
    "        break\n",
    "    tar = list(map(int, list(tar)))\n",
    "    tar_re = tar[::-1]\n",
    "    # print(tar, tar_re)\n",
    "    if tar == tar_re:\n",
    "        print('yes')\n",
    "    else:\n",
    "        print('no')"
   ]
  },
  {
   "cell_type": "code",
   "execution_count": 46,
   "metadata": {},
   "outputs": [
    {
     "data": {
      "text/plain": [
       "True"
      ]
     },
     "execution_count": 46,
     "metadata": {},
     "output_type": "execute_result"
    }
   ],
   "source": [
    "ls1 = [1,2,3]\n",
    "ls2 = [1,2,3]\n",
    "ls1 == ls2"
   ]
  },
  {
   "cell_type": "code",
   "execution_count": 50,
   "metadata": {},
   "outputs": [
    {
     "data": {
      "text/plain": [
       "[1, 2, 3]"
      ]
     },
     "execution_count": 50,
     "metadata": {},
     "output_type": "execute_result"
    }
   ],
   "source": [
    "test = list(map(int, list('123')))\n",
    "test"
   ]
  },
  {
   "cell_type": "code",
   "execution_count": 56,
   "metadata": {},
   "outputs": [
    {
     "name": "stdout",
     "output_type": "stream",
     "text": [
      "66666\n"
     ]
    }
   ],
   "source": [
    "# 1436\n",
    "N = int(input())\n",
    "ls = []\n",
    "temp = 0\n",
    "while len(ls) < N:\n",
    "    if '666' in str(temp):\n",
    "        ls.append(temp)\n",
    "    temp += 1\n",
    "print(ls[-1])"
   ]
  },
  {
   "cell_type": "code",
   "execution_count": null,
   "metadata": {},
   "outputs": [],
   "source": []
  }
 ],
 "metadata": {
  "kernelspec": {
   "display_name": "Python 3",
   "language": "python",
   "name": "python3"
  },
  "language_info": {
   "codemirror_mode": {
    "name": "ipython",
    "version": 3
   },
   "file_extension": ".py",
   "mimetype": "text/x-python",
   "name": "python",
   "nbconvert_exporter": "python",
   "pygments_lexer": "ipython3",
   "version": "3.9.13"
  }
 },
 "nbformat": 4,
 "nbformat_minor": 2
}
