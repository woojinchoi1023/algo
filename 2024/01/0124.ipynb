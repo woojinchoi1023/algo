{
 "cells": [
  {
   "cell_type": "code",
   "execution_count": 1,
   "metadata": {},
   "outputs": [
    {
     "name": "stdout",
     "output_type": "stream",
     "text": [
      "1\n",
      "2\n",
      "3\n",
      "4\n",
      "5\n"
     ]
    }
   ],
   "source": [
    "N = int(input())\n",
    "\n",
    "for ls[i] in range(N):\n",
    "    print(ls[i]+1)"
   ]
  },
  {
   "cell_type": "code",
   "execution_count": 4,
   "metadata": {},
   "outputs": [
    {
     "name": "stdout",
     "output_type": "stream",
     "text": [
      "5\n",
      "4\n",
      "3\n",
      "2\n",
      "1\n"
     ]
    }
   ],
   "source": [
    "N = int(input())\n",
    "\n",
    "for ls[i] in range(N,0,-1):\n",
    "    print(ls[i])"
   ]
  },
  {
   "cell_type": "code",
   "execution_count": 11,
   "metadata": {},
   "outputs": [
    {
     "name": "stdout",
     "output_type": "stream",
     "text": [
      "SUN\n"
     ]
    }
   ],
   "source": [
    "thirty_one = [1,3,5,7,8,10,12]\n",
    "thirty = [4,6,9,11]\n",
    "# twenty_eight = [2]\n",
    "day = ['MON', 'TUE', 'WED', 'THU', 'FRI', 'SAT', 'SUN']\n",
    "M, D = map(int, input().split())\n",
    "d_cum = D-1\n",
    "\n",
    "for ls[i] in range(1, M):\n",
    "    if ls[i] in thirty_one:\n",
    "        d_cum += 31\n",
    "    elif ls[i] in thirty:\n",
    "        d_cum += 30\n",
    "    else:\n",
    "        d_cum += 28\n",
    "\n",
    "print(day[d_cum%7])\n"
   ]
  },
  {
   "cell_type": "code",
   "execution_count": 14,
   "metadata": {},
   "outputs": [
    {
     "name": "stdout",
     "output_type": "stream",
     "text": [
      "20\n"
     ]
    }
   ],
   "source": [
    "ls = []\n",
    "ls += map(int, input().split())\n",
    "ls.sort()\n",
    "print(ls[1])"
   ]
  },
  {
   "cell_type": "code",
   "execution_count": 17,
   "metadata": {},
   "outputs": [
    {
     "name": "stdout",
     "output_type": "stream",
     "text": [
      "OneTwoThre\n",
      "eFourFiveS\n",
      "ixSevenEig\n",
      "htNineTen"
     ]
    }
   ],
   "source": [
    "a = str(input())\n",
    "for ls[i] in range(len(a)):\n",
    "    if ls[i] != 0 and ls[i]%10 == 0:\n",
    "        print()\n",
    "    print(a[ls[i]], end='')"
   ]
  },
  {
   "cell_type": "code",
   "execution_count": 1,
   "metadata": {},
   "outputs": [],
   "source": [
    "import sys\n",
    "data = [i.rstrip('\\n') for i in sys.stdin.readlines()] \n",
    "\n",
    "for ls[i] in data:\n",
    "    print(ls[i])\n"
   ]
  },
  {
   "cell_type": "code",
   "execution_count": 31,
   "metadata": {},
   "outputs": [
    {
     "name": "stdout",
     "output_type": "stream",
     "text": [
      "5\n",
      "2 0 3\n"
     ]
    }
   ],
   "source": [
    "N = int(input())\n",
    "\n",
    "three = 0\n",
    "two = 0\n",
    "one = 0\n",
    "while N > 1:\n",
    "    if N%3 == 0:\n",
    "        N = N//3\n",
    "        three += 1\n",
    "    elif N%3 == 1: \n",
    "        N -= 1\n",
    "        one += 1\n",
    "    elif N%2 == 0:\n",
    "        N = N//2\n",
    "        two += 1\n",
    "    else:\n",
    "        N -= 1\n",
    "        one += 1\n",
    "\n",
    "\n",
    "print(three + two + one)\n",
    "print(three, two, one)"
   ]
  },
  {
   "cell_type": "code",
   "execution_count": 11,
   "metadata": {},
   "outputs": [
    {
     "name": "stdout",
     "output_type": "stream",
     "text": [
      "[-1, -1, -1]\n"
     ]
    },
    {
     "ename": "ValueError",
     "evalue": "min() arg is an empty sequence",
     "output_type": "error",
     "traceback": [
      "\u001b[1;31m---------------------------------------------------------------------------\u001b[0m",
      "\u001b[1;31mValueError\u001b[0m                                Traceback (most recent call last)",
      "Cell \u001b[1;32mIn[11], line 23\u001b[0m\n\u001b[0;32m     20\u001b[0m \u001b[38;5;28mprint\u001b[39m(res)\n\u001b[0;32m     21\u001b[0m res \u001b[38;5;241m=\u001b[39m [x \u001b[38;5;28;01mfor\u001b[39;00m x \u001b[38;5;129;01min\u001b[39;00m res \u001b[38;5;28;01mif\u001b[39;00m x \u001b[38;5;241m!=\u001b[39m \u001b[38;5;241m-\u001b[39m\u001b[38;5;241m1\u001b[39m]\n\u001b[1;32m---> 23\u001b[0m \u001b[38;5;28mprint\u001b[39m(\u001b[38;5;28;43mmin\u001b[39;49m\u001b[43m(\u001b[49m\u001b[43mres\u001b[49m\u001b[43m)\u001b[49m)\n",
      "\u001b[1;31mValueError\u001b[0m: min() arg is an empty sequence"
     ]
    }
   ],
   "source": [
    "N = int(input())\n",
    "\n",
    "ls = [N, N-1, N-2]\n",
    "ct = [0,1,2]\n",
    "res = []\n",
    "for i in range(3):\n",
    "    count = ct[i]\n",
    "    while ls[i]>1:\n",
    "        if ls[i]%3 == 0:\n",
    "            ls[i] = ls[i]//3\n",
    "            count += 1\n",
    "        elif ls[i]%2 == 0:\n",
    "            ls[i] = ls[i]//2\n",
    "            count += 1\n",
    "        else:\n",
    "            count = -1\n",
    "            break\n",
    "    res.append(count)\n",
    "\n",
    "print(res)\n",
    "res = [x for x in res if x != -1]\n",
    "\n",
    "print(min(res))"
   ]
  },
  {
   "cell_type": "code",
   "execution_count": null,
   "metadata": {},
   "outputs": [],
   "source": [
    "# 15 5 4 2 1"
   ]
  },
  {
   "cell_type": "code",
   "execution_count": 21,
   "metadata": {},
   "outputs": [
    {
     "name": "stdout",
     "output_type": "stream",
     "text": [
      "4\n"
     ]
    }
   ],
   "source": [
    "N = int(input())\n",
    "\n",
    "count = 0\n",
    "while N > 1:\n",
    "    if N%3 == 0:\n",
    "        count += 1\n",
    "        N = N//3\n",
    "    elif (N-1)%3 == 0:\n",
    "        count +=1\n",
    "        N = N-1\n",
    "    elif N%2 == 0:\n",
    "        count += 1\n",
    "        N = N//2\n",
    "    else:\n",
    "        count += 1\n",
    "        N = N-1\n",
    "print(count)"
   ]
  },
  {
   "cell_type": "code",
   "execution_count": 25,
   "metadata": {},
   "outputs": [
    {
     "name": "stdout",
     "output_type": "stream",
     "text": [
      "10 3\n",
      "11 4\n",
      "12 3\n",
      "13 4\n",
      "14 4\n",
      "15 4\n",
      "16 5\n",
      "17 6\n",
      "18 3\n",
      "19 4\n",
      "20 4\n",
      "21 4\n",
      "22 5\n",
      "23 6\n",
      "24 4\n",
      "25 5\n",
      "26 5\n",
      "27 3\n",
      "28 4\n",
      "29 5\n",
      "30 4\n"
     ]
    }
   ],
   "source": [
    "inputs = [i for i in range(10,31)]\n",
    "\n",
    "for N in inputs:\n",
    "    # N = int(input())\n",
    "    print(N, end=' ')\n",
    "    count = 0\n",
    "    while N > 1:\n",
    "        if N%3 == 0:\n",
    "            count += 1\n",
    "            N = N//3\n",
    "        elif (N-1)%3 == 0:\n",
    "            count +=1\n",
    "            N = N-1\n",
    "        elif N%2 == 0:\n",
    "            count += 1\n",
    "            N = N//2\n",
    "        else:\n",
    "            count += 1\n",
    "            N = N-1\n",
    "    print(count)"
   ]
  },
  {
   "cell_type": "code",
   "execution_count": 33,
   "metadata": {},
   "outputs": [
    {
     "name": "stdout",
     "output_type": "stream",
     "text": [
      "1 3 1\n",
      "3 3 2\n",
      "9 3 3\n",
      "1 2 1\n",
      "[3, 1, 0]\n",
      "[9, 1, 0]\n"
     ]
    }
   ],
   "source": []
  },
  {
   "cell_type": "code",
   "execution_count": 35,
   "metadata": {},
   "outputs": [
    {
     "name": "stdout",
     "output_type": "stream",
     "text": [
      "4\n"
     ]
    },
    {
     "data": {
      "text/plain": [
       "[0, 0, 1, 1, 2, 3, 2, 3, 3, 2, 3, 4]"
      ]
     },
     "execution_count": 35,
     "metadata": {},
     "output_type": "execute_result"
    }
   ],
   "source": [
    "x=int(input()) # 수 입력받기\n",
    "d=[0]*(x+1) # 1-based\n",
    "for i in range(2,x+1): # 2부터 x까지 반복\n",
    "    d[i]=d[i-1]+1 # 1을 빼는 연산 -> 1회 진행\n",
    "    if i%2==0: # 2로 나누어 떨어질 때, 2로 나누는 연산\n",
    "        d[i]=min(d[i],d[i//2]+1)\n",
    "    if i%3==0: # 3으로 나누어 떨어질 때, 3으로 나누는 연산\n",
    "        d[i]=min(d[i],d[i//3]+1)\n",
    "print(d[x])\n",
    "d"
   ]
  },
  {
   "cell_type": "code",
   "execution_count": 7,
   "metadata": {},
   "outputs": [
    {
     "name": "stdout",
     "output_type": "stream",
     "text": [
      "0\n",
      "1\n",
      "1\n",
      "2\n",
      "3\n",
      "2\n",
      "3\n",
      "3\n",
      "2\n",
      "3\n",
      "4\n",
      "3\n",
      "4\n",
      "4\n",
      "4\n",
      "4\n",
      "5\n",
      "3\n",
      "4\n",
      "4\n",
      "4\n",
      "5\n",
      "6\n",
      "4\n",
      "5\n",
      "5\n",
      "3\n",
      "4\n",
      "5\n",
      "4\n",
      "5\n",
      "5\n",
      "5\n",
      "6\n",
      "7\n",
      "4\n",
      "5\n",
      "5\n",
      "5\n",
      "5\n",
      "6\n",
      "5\n",
      "6\n",
      "6\n",
      "5\n",
      "6\n",
      "7\n",
      "5\n",
      "6\n",
      "6\n",
      "6\n",
      "6\n",
      "7\n",
      "4\n",
      "5\n",
      "5\n",
      "5\n",
      "6\n",
      "7\n",
      "5\n",
      "6\n",
      "6\n",
      "5\n",
      "6\n",
      "7\n",
      "6\n",
      "7\n",
      "7\n",
      "7\n",
      "8\n",
      "9\n",
      "5\n",
      "6\n",
      "6\n",
      "6\n",
      "6\n",
      "7\n",
      "6\n",
      "7\n",
      "6\n",
      "4\n",
      "5\n",
      "6\n",
      "5\n",
      "6\n",
      "7\n",
      "6\n",
      "7\n",
      "8\n",
      "5\n",
      "6\n",
      "7\n",
      "6\n",
      "7\n",
      "8\n",
      "6\n",
      "7\n",
      "7\n",
      "6\n"
     ]
    }
   ],
   "source": [
    "# DP TopDown\n",
    "\n",
    "dp = {1:0}\n",
    "\n",
    "def make_one(x):\n",
    "\n",
    "    if x in dp.keys():\n",
    "        return dp[x]\n",
    "    \n",
    "    if x%3 == 0 and x%2 == 0:\n",
    "        dp[x] = min(make_one(x//3)+1, make_one(x//2)+1)\n",
    "    elif x%3 == 0:\n",
    "        dp[x] = min(make_one(x//3) + 1, make_one(x-1)+1)\n",
    "    elif x%2 == 0:\n",
    "        dp[x] = min(make_one(x//2) + 1, make_one(x-1)+1)\n",
    "    else:\n",
    "        dp[x] = make_one(x-1) + 1\n",
    "    \n",
    "    return dp[x]\n",
    "\n",
    "# ins = [i for i in range(1, 100)]\n",
    "# for i in ins:\n",
    "#     print(make_one(i))\n",
    "\n",
    "\n",
    "print(make_one(int(input())))\n"
   ]
  },
  {
   "cell_type": "code",
   "execution_count": 9,
   "metadata": {},
   "outputs": [
    {
     "name": "stdout",
     "output_type": "stream",
     "text": [
      "3\n",
      "1\n",
      "0\n",
      "2\n",
      "0\n",
      "0\n",
      "0\n",
      "2\n",
      "0\n",
      "0\n"
     ]
    }
   ],
   "source": [
    "a = int(input())\n",
    "b = int(input())\n",
    "c = int(input())\n",
    "res = str(a*b*c)\n",
    "ls = [0] * 10\n",
    "for i in range(10):\n",
    "    ls[i] = res.count(str(i))\n",
    "    print(ls[i])"
   ]
  },
  {
   "cell_type": "code",
   "execution_count": 10,
   "metadata": {},
   "outputs": [
    {
     "name": "stdout",
     "output_type": "stream",
     "text": [
      "1\n",
      "2\n",
      "3\n",
      "4\n",
      "5\n"
     ]
    }
   ],
   "source": [
    "N = int(input())\n",
    "ls = [0] * N\n",
    "for i in range(N):\n",
    "    ls[i] = int(input())\n",
    "ls.sort()\n",
    "print(*ls, sep='\\n')"
   ]
  },
  {
   "cell_type": "code",
   "execution_count": 12,
   "metadata": {},
   "outputs": [
    {
     "name": "stdout",
     "output_type": "stream",
     "text": [
      "2\n"
     ]
    }
   ],
   "source": [
    "ls = []\n",
    "def push(ls, x):\n",
    "    ls.append(x)\n",
    "    return ls\n",
    "def pop(ls):\n",
    "    if ls:\n",
    "        print(ls.pop(-1))\n",
    "    else:\n",
    "        print(-1)\n",
    "    return ls\n",
    "def size(ls):\n",
    "    print(len(ls))\n",
    "def empty(ls):\n",
    "    if ls:\n",
    "        print(0)\n",
    "    else:\n",
    "        print(1)\n",
    "def top(ls):\n",
    "    if ls:\n",
    "        print(ls[-1])\n",
    "    else:\n",
    "        print(-1)\n",
    "\n",
    "import sys\n",
    "data = [i.rstrip('\\n') for i in sys.stdin.readlines()] \n",
    "\n",
    "for i in range(int(data[0])):\n",
    "    do = list(data[i+1].split())\n",
    "    if do[0] == 'push':\n",
    "        ls = push(ls, int(do[1]))\n",
    "    elif do[0] == 'pop':\n",
    "        ls = pop(ls)\n",
    "    elif do[0] == 'top':\n",
    "        top(ls)\n",
    "    elif do[0] == 'size':\n",
    "        size(ls)\n",
    "    elif do[0] == 'empty':\n",
    "        empty(ls)\n",
    "\n"
   ]
  },
  {
   "cell_type": "code",
   "execution_count": null,
   "metadata": {},
   "outputs": [],
   "source": [
    "import sys\n",
    "data = [int(i.rstrip('\\n')) for i in sys.stdin.readlines()]\n",
    "score = 0\n",
    "for i in range(5):\n",
    "    if data[i] < 40:\n",
    "        score += 40\n",
    "    else:\n",
    "        score += data[i]\n",
    "print(score//5)"
   ]
  },
  {
   "cell_type": "code",
   "execution_count": null,
   "metadata": {},
   "outputs": [],
   "source": [
    "N = int(input())\n",
    "for i in range(N):\n",
    "    tar = int(input())\n",
    "    ls = [0]*3\n",
    "    while True:\n",
    "        "
   ]
  }
 ],
 "metadata": {
  "kernelspec": {
   "display_name": "Python 3",
   "language": "python",
   "name": "python3"
  },
  "language_info": {
   "codemirror_mode": {
    "name": "ipython",
    "version": 3
   },
   "file_extension": ".py",
   "mimetype": "text/x-python",
   "name": "python",
   "nbconvert_exporter": "python",
   "pygments_lexer": "ipython3",
   "version": "3.9.13"
  }
 },
 "nbformat": 4,
 "nbformat_minor": 2
}
