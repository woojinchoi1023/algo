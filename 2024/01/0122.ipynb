{
 "cells": [
  {
   "cell_type": "code",
   "execution_count": 9,
   "metadata": {},
   "outputs": [
    {
     "name": "stdout",
     "output_type": "stream",
     "text": [
      "1\n"
     ]
    }
   ],
   "source": [
    "N, K = map(int, input().split())\n",
    "\n",
    "ls = []\n",
    "temp = True\n",
    "for i in range(N):\n",
    "    if N%(i+1) == 0:\n",
    "        ls.append(i+1)\n",
    "    if len(ls) == K:\n",
    "        temp = False\n",
    "        break\n",
    "\n",
    "if temp:\n",
    "    print(0)\n",
    "else:\n",
    "    print(ls[K-1])"
   ]
  },
  {
   "cell_type": "code",
   "execution_count": 4,
   "metadata": {},
   "outputs": [
    {
     "name": "stdout",
     "output_type": "stream",
     "text": [
      "6 = 1 + 2 + 3\n",
      "12 is NOT perfect.\n",
      "28 = 1 + 2 + 4 + 7 + 14\n"
     ]
    }
   ],
   "source": [
    "while True:\n",
    "    N = int(input())\n",
    "    if N == -1:\n",
    "        break\n",
    "\n",
    "    ls = []\n",
    "    for i in range(N-1):\n",
    "        if N%(i+1) == 0:\n",
    "            ls.append(i+1)\n",
    "    if sum(ls) == N:\n",
    "        print(f'{N} = ', end='')\n",
    "        print(*ls, sep=' + ')\n",
    "    else:\n",
    "        print(f'{N} is NOT perfect.')"
   ]
  },
  {
   "cell_type": "code",
   "execution_count": 5,
   "metadata": {},
   "outputs": [
    {
     "name": "stdout",
     "output_type": "stream",
     "text": [
      "16\n"
     ]
    }
   ],
   "source": [
    "a = int(input())\n",
    "b = int(input())\n",
    "print(a*b)"
   ]
  },
  {
   "cell_type": "code",
   "execution_count": 6,
   "metadata": {},
   "outputs": [
    {
     "name": "stdout",
     "output_type": "stream",
     "text": [
      "1\n"
     ]
    }
   ],
   "source": [
    "x, y, w, h = map(int, input().split())\n",
    "ls = [x, y, abs(w-x), abs(h-y)]\n",
    "print(min(ls))"
   ]
  },
  {
   "cell_type": "code",
   "execution_count": 11,
   "metadata": {},
   "outputs": [
    {
     "name": "stdout",
     "output_type": "stream",
     "text": [
      "7 7\n",
      "[5, 5, 7]\n",
      "[5, 7, 5]\n"
     ]
    }
   ],
   "source": [
    "x = []\n",
    "y = []\n",
    "for i in range(3):\n",
    "    a,b = map(int, input().split())\n",
    "    x.append(a)\n",
    "    y.append(b)\n",
    "temp_x = 0\n",
    "temp_y = 0\n",
    "for a,b in zip(x, y):\n",
    "    if x.count(a) == 1:\n",
    "        temp_x = a\n",
    "    if y.count(b) == 1:\n",
    "        temp_y = b\n",
    "print(temp_x,temp_y)\n"
   ]
  },
  {
   "cell_type": "code",
   "execution_count": 12,
   "metadata": {},
   "outputs": [
    {
     "name": "stdout",
     "output_type": "stream",
     "text": [
      "4\n"
     ]
    }
   ],
   "source": [
    "N = int(input())\n",
    "print(4*N)"
   ]
  },
  {
   "cell_type": "code",
   "execution_count": 14,
   "metadata": {},
   "outputs": [
    {
     "name": "stdout",
     "output_type": "stream",
     "text": [
      "360\n"
     ]
    }
   ],
   "source": [
    "N = int(input())\n",
    "x = []\n",
    "y = []\n",
    "for i in range(N):\n",
    "    a, b = map(int, input().split())\n",
    "    x.append(a)\n",
    "    y.append(b)\n",
    "min_x, max_x, min_y, max_y = min(x), max(x), min(y), max(y) \n",
    "print((max_x - min_x) * (max_y - min_y))"
   ]
  },
  {
   "cell_type": "code",
   "execution_count": 25,
   "metadata": {},
   "outputs": [
    {
     "name": "stdout",
     "output_type": "stream",
     "text": [
      "Isosceles\n"
     ]
    }
   ],
   "source": [
    "a = int(input())\n",
    "b = int(input())\n",
    "c = int(input())\n",
    "if a == b == c == 60:\n",
    "    print('Equilateral')\n",
    "elif a + b + c == 180:\n",
    "    if len({a,b,c}) == 2:\n",
    "        print('Isosceles')\n",
    "    else:\n",
    "        print('Scalene')\n",
    "else:\n",
    "    print('Error')\n"
   ]
  },
  {
   "cell_type": "code",
   "execution_count": 19,
   "metadata": {},
   "outputs": [
    {
     "name": "stdout",
     "output_type": "stream",
     "text": [
      "{1, 2}\n"
     ]
    }
   ],
   "source": [
    "a = 1\n",
    "b = 1\n",
    "c = 2\n",
    "print({a,b,c})"
   ]
  },
  {
   "cell_type": "code",
   "execution_count": 26,
   "metadata": {},
   "outputs": [
    {
     "name": "stdout",
     "output_type": "stream",
     "text": [
      "Equilateral\n",
      "Scalene\n",
      "Invalid\n",
      "Isosceles\n"
     ]
    }
   ],
   "source": [
    "while True:\n",
    "    a, b, c = map(int, input().split())\n",
    "    if a == b == c == 0:\n",
    "        break\n",
    "    ls = [a,b,c]\n",
    "    ls.sort()\n",
    "    if ls[0] + ls[1] <= ls[2]:\n",
    "        print('Invalid')\n",
    "    elif a == b == c:\n",
    "        print('Equilateral')\n",
    "    elif len({a,b,c}) == 2:\n",
    "        print('Isosceles')\n",
    "    else:\n",
    "        print('Scalene')\n",
    "\n"
   ]
  },
  {
   "cell_type": "code",
   "execution_count": 29,
   "metadata": {},
   "outputs": [
    {
     "name": "stdout",
     "output_type": "stream",
     "text": [
      "3\n"
     ]
    }
   ],
   "source": [
    "a, b, c = map(int, input().split())\n",
    "ls = [a,b,c]\n",
    "ls.sort()\n",
    "if ls[-1] >= ls[0] + ls[1]:\n",
    "    ls[-1] = ls[0] + ls[1] - 1\n",
    "print(sum(ls))"
   ]
  },
  {
   "cell_type": "code",
   "execution_count": 32,
   "metadata": {},
   "outputs": [
    {
     "name": "stdout",
     "output_type": "stream",
     "text": [
      "2\n",
      "1\n"
     ]
    }
   ],
   "source": [
    "n = int(input())\n",
    "temp = 0\n",
    "while n > 0:\n",
    "    n = n//2\n",
    "    temp += 1\n",
    "print(temp)\n",
    "if temp > 3:\n",
    "    print(4)\n",
    "else:\n",
    "    print(temp - 1) "
   ]
  },
  {
   "cell_type": "code",
   "execution_count": 33,
   "metadata": {},
   "outputs": [
    {
     "name": "stdout",
     "output_type": "stream",
     "text": [
      "1\n",
      "0\n"
     ]
    }
   ],
   "source": [
    "print(1)\n",
    "print(0)"
   ]
  },
  {
   "cell_type": "code",
   "execution_count": 34,
   "metadata": {},
   "outputs": [
    {
     "name": "stdout",
     "output_type": "stream",
     "text": [
      "7\n",
      "1\n"
     ]
    }
   ],
   "source": [
    "n = int(input())\n",
    "print(n)\n",
    "print(1)"
   ]
  },
  {
   "cell_type": "code",
   "execution_count": 8,
   "metadata": {},
   "outputs": [
    {
     "name": "stdout",
     "output_type": "stream",
     "text": [
      "              *              \n",
      "             * *             \n",
      "            *****            \n",
      "           *     *           \n",
      "          * *   * *          \n",
      "         ***** *****         \n",
      "     *           *     \n",
      "    * *         * *    \n",
      "   *****       *****   \n",
      "  *     *     *     *  \n",
      " * *   * *   * *   * * \n",
      "***** ***** ***** *****\n"
     ]
    }
   ],
   "source": [
    "\n",
    "def make_star(N):\n",
    "    small_pattern = [\n",
    "        '  *  ',\n",
    "        ' * * ',\n",
    "        '*****'\n",
    "    ]\n",
    "\n",
    "    if N == 3:\n",
    "        return small_pattern\n",
    "    \n",
    "    #top\n",
    "    top = make_star(N//2)\n",
    "    for i in range(len(top)):\n",
    "        top[i] = '   ' * (N//3-1) + top[i] + '   ' * (N//3-1)\n",
    "\n",
    "    #bot\n",
    "    bot = make_star(N//2)\n",
    "    for i in range(len(bot)):\n",
    "        bot[i] = bot[i] + ' ' + bot[i]\n",
    "    \n",
    "    return top + bot\n",
    "\n",
    "res = make_star(12)\n",
    "print(*res, sep='\\n')"
   ]
  },
  {
   "cell_type": "code",
   "execution_count": 27,
   "metadata": {},
   "outputs": [
    {
     "name": "stdout",
     "output_type": "stream",
     "text": [
      "                       *                       \n",
      "                      * *                      \n",
      "                     *****                     \n",
      "                    *     *                    \n",
      "                   * *   * *                   \n",
      "                  ***** *****                  \n",
      "                 *           *                 \n",
      "                * *         * *                \n",
      "               *****       *****               \n",
      "              *     *     *     *              \n",
      "             * *   * *   * *   * *             \n",
      "            ***** ***** ***** *****            \n",
      "           *                       *           \n",
      "          * *                     * *          \n",
      "         *****                   *****         \n",
      "        *     *                 *     *        \n",
      "       * *   * *               * *   * *       \n",
      "      ***** *****             ***** *****      \n",
      "     *           *           *           *     \n",
      "    * *         * *         * *         * *    \n",
      "   *****       *****       *****       *****   \n",
      "  *     *     *     *     *     *     *     *  \n",
      " * *   * *   * *   * *   * *   * *   * *   * * \n",
      "***** ***** ***** ***** ***** ***** ***** *****\n"
     ]
    }
   ],
   "source": [
    "\n",
    "def make_star(N):\n",
    "    small_pattern = [\n",
    "        '  *  ',\n",
    "        ' * * ',\n",
    "        '*****'\n",
    "    ]\n",
    "\n",
    "    if N == 3:\n",
    "        return small_pattern\n",
    "    \n",
    "    #top\n",
    "    top = make_star(N//2)\n",
    "    for i in range(len(top)):\n",
    "        top[i] = ' ' * (N//2) + top[i] + ' ' * (N//2)\n",
    "\n",
    "    #bot\n",
    "    bot = make_star(N//2)\n",
    "    for i in range(len(bot)):\n",
    "        bot[i] = bot[i] + ' ' + bot[i]\n",
    "    \n",
    "    return top + bot\n",
    "\n",
    "res = make_star(24)\n",
    "print(*res, sep='\\n')"
   ]
  },
  {
   "cell_type": "code",
   "execution_count": 29,
   "metadata": {},
   "outputs": [
    {
     "name": "stdout",
     "output_type": "stream",
     "text": [
      "                       *                        \n",
      "                      * *                       \n",
      "                     *****                      \n",
      "                    *     *                     \n",
      "                   * *   * *                    \n",
      "                  ***** *****                   \n",
      "                 *           *                  \n",
      "                * *         * *                 \n",
      "               *****       *****                \n",
      "              *     *     *     *               \n",
      "             * *   * *   * *   * *              \n",
      "            ***** ***** ***** *****             \n",
      "           *                       *            \n",
      "          * *                     * *           \n",
      "         *****                   *****          \n",
      "        *     *                 *     *         \n",
      "       * *   * *               * *   * *        \n",
      "      ***** *****             ***** *****       \n",
      "     *           *           *           *      \n",
      "    * *         * *         * *         * *     \n",
      "   *****       *****       *****       *****    \n",
      "  *     *     *     *     *     *     *     *   \n",
      " * *   * *   * *   * *   * *   * *   * *   * *  \n",
      "***** ***** ***** ***** ***** ***** ***** ***** \n"
     ]
    }
   ],
   "source": [
    "\n",
    "def make_star(N):\n",
    "    small_pattern = [\n",
    "        '  *   ',\n",
    "        ' * *  ',\n",
    "        '***** '\n",
    "    ]\n",
    "\n",
    "    if N == 3:\n",
    "        return small_pattern\n",
    "    \n",
    "    #top\n",
    "    top = make_star(N//2)\n",
    "    for i in range(len(top)):\n",
    "        top[i] = ' ' * (N//2) + top[i] + ' ' * (N//2)\n",
    "\n",
    "    #bot\n",
    "    bot = make_star(N//2)\n",
    "    for i in range(len(bot)):\n",
    "        bot[i] = bot[i] + bot[i]\n",
    "    \n",
    "    return top + bot\n",
    "\n",
    "N = int(input())\n",
    "res = make_star(N)\n",
    "print(*res, sep='\\n')"
   ]
  },
  {
   "cell_type": "code",
   "execution_count": 7,
   "metadata": {},
   "outputs": [
    {
     "name": "stdout",
     "output_type": "stream",
     "text": [
      "         *\n",
      "        * *\n",
      "       * * *\n",
      "      * * * *\n",
      "     * * * * *\n",
      "    * * * * * *\n",
      "   * * * * * * *\n",
      "  * * * * * * * *\n",
      " * * * * * * * * *\n",
      "* * * * * * * * * *\n"
     ]
    }
   ],
   "source": [
    "N = int(input())\n",
    "def make_star(N):\n",
    "    if N == 1:\n",
    "        return ['*']\n",
    "    prev = make_star(N-1)\n",
    "    for i in range(len(prev)):\n",
    "        prev[i] = ' ' + prev[i]\n",
    "    #curr\n",
    "    curr = '*'\n",
    "    for i in range(N-1):\n",
    "        curr += ' *'\n",
    "    return prev + [curr]\n",
    "print(*make_star(N), sep='\\n')"
   ]
  },
  {
   "cell_type": "code",
   "execution_count": 21,
   "metadata": {},
   "outputs": [
    {
     "name": "stdout",
     "output_type": "stream",
     "text": [
      "    *\n",
      "   * *\n",
      "  *   *\n",
      " *     *\n",
      "*********\n"
     ]
    }
   ],
   "source": [
    "N = int(input())\n",
    "print(' ' * (N-1) + '*')\n",
    "for i in range(N-2):\n",
    "    print(' ' * (N-i-2) + '*' + ' ' * (2*i+1) + '*')\n",
    "if N>1:\n",
    "    print('*' * (2*N-1))"
   ]
  },
  {
   "cell_type": "code",
   "execution_count": 52,
   "metadata": {},
   "outputs": [
    {
     "name": "stdout",
     "output_type": "stream",
     "text": [
      "*****************************\n",
      " *            *            *\n",
      "  *          * *          *\n",
      "   *        *   *        *\n",
      "    *      *******      *\n",
      "     *    *  ***  *    *\n",
      "      *  *    *    *  *\n",
      "       ***************\n"
     ]
    }
   ],
   "source": [
    "def make_star(N):\n",
    "    if N==1:\n",
    "        return ['*']\n",
    "    if N==2:\n",
    "        return [\n",
    "            '*****',\n",
    "            ' *** ',\n",
    "            '  *  ',\n",
    "        ]\n",
    "    prev = make_star(N-1)\n",
    "    new = []\n",
    "    # 정삼각형\n",
    "    if N%2 == 1:\n",
    "        new.append(' ' * (len(prev[0]) + 1) + '*')\n",
    "        for i in range(len(prev)-1):\n",
    "            new.append(' ' * (2*N-i-1) + '*' + ' ' * (2*i+1) + '*' )\n",
    "        for i in range(len(prev)):\n",
    "            new.append(' ' * (N-i) + '*' + ' ' * i +  prev[i] + ' ' * i + '*')\n",
    "        new.append('*' * (3 * len(prev[0]) - 2))\n",
    "    # 역삼각형\n",
    "    else:\n",
    "        new.append('*' * (2 * len(prev) + 2 + len(prev[-1])))\n",
    "        for i in range(len(prev)):\n",
    "            new.append(' ' * (i+1) + '*' + ' ' * (len(prev)-1-i) + prev[i] + ' ' * (2 *((len(prev)-1)) - 2*i) + '*')\n",
    "    return new\n",
    "\n",
    "N = int(input())\n",
    "print(*make_star(N),sep='\\n')"
   ]
  },
  {
   "cell_type": "code",
   "execution_count": 45,
   "metadata": {},
   "outputs": [
    {
     "name": "stdout",
     "output_type": "stream",
     "text": [
      "29\n",
      "13\n"
     ]
    }
   ],
   "source": [
    "print(len('*****************************'))\n",
    "print(len('*************'))"
   ]
  },
  {
   "cell_type": "code",
   "execution_count": null,
   "metadata": {},
   "outputs": [],
   "source": []
  }
 ],
 "metadata": {
  "kernelspec": {
   "display_name": "Python 3",
   "language": "python",
   "name": "python3"
  },
  "language_info": {
   "codemirror_mode": {
    "name": "ipython",
    "version": 3
   },
   "file_extension": ".py",
   "mimetype": "text/x-python",
   "name": "python",
   "nbconvert_exporter": "python",
   "pygments_lexer": "ipython3",
   "version": "3.9.13"
  }
 },
 "nbformat": 4,
 "nbformat_minor": 2
}
