{
 "cells": [
  {
   "cell_type": "code",
   "execution_count": 4,
   "metadata": {},
   "outputs": [
    {
     "name": "stdout",
     "output_type": "stream",
     "text": [
      "*****\n",
      "****\n",
      "***\n",
      "**\n",
      "*\n"
     ]
    }
   ],
   "source": [
    "N = int(input())\n",
    "for i in range(N,0,-1):\n",
    "    print('*' * i)"
   ]
  },
  {
   "cell_type": "code",
   "execution_count": 5,
   "metadata": {},
   "outputs": [
    {
     "name": "stdout",
     "output_type": "stream",
     "text": [
      "*****\n",
      " ****\n",
      "  ***\n",
      "   **\n",
      "    *\n"
     ]
    }
   ],
   "source": [
    "N = int(input())\n",
    "for i in range(N,0,-1):\n",
    "    print(' '* (N-i) + '*' * i)"
   ]
  },
  {
   "cell_type": "code",
   "execution_count": 9,
   "metadata": {},
   "outputs": [
    {
     "name": "stdout",
     "output_type": "stream",
     "text": [
      "  *\n",
      " ***\n",
      "*****\n"
     ]
    }
   ],
   "source": [
    "N = int(input())\n",
    "for i in range(N):\n",
    "    print(' ' * (N-i-1) + '*' * (1+2*i))"
   ]
  },
  {
   "cell_type": "code",
   "execution_count": 16,
   "metadata": {},
   "outputs": [
    {
     "name": "stdout",
     "output_type": "stream",
     "text": [
      "*********\n",
      " *******\n",
      "  *****\n",
      "   ***\n",
      "    *\n"
     ]
    }
   ],
   "source": [
    "N = int(input())\n",
    "for i in range(N-1,-1,-1):\n",
    "    print(' ' * (N-i-1) + '*' * (2*i+1))"
   ]
  },
  {
   "cell_type": "code",
   "execution_count": 23,
   "metadata": {},
   "outputs": [
    {
     "name": "stdout",
     "output_type": "stream",
     "text": [
      "***************************\n",
      "***************************\n",
      "***************************\n",
      "***************************\n",
      "***************************\n",
      "***************************\n",
      "***************************\n",
      "***************************\n",
      "***************************\n",
      "*********         *********\n",
      "*********         *********\n",
      "*********         *********\n",
      "*********         *********\n",
      "*********         *********\n",
      "*********         *********\n",
      "*********         *********\n",
      "*********         *********\n",
      "*********         *********\n",
      "***************************\n",
      "***************************\n",
      "***************************\n",
      "***************************\n",
      "***************************\n",
      "***************************\n",
      "***************************\n",
      "***************************\n",
      "***************************\n"
     ]
    }
   ],
   "source": [
    "def del_star(ls):\n",
    "    oneThird = len(ls) // 3\n",
    "    if oneThird == 1:\n",
    "        ls[oneThird][oneThird] == ' '\n",
    "    else:\n",
    "        for i in range(oneThird, 2*oneThird):\n",
    "            for j in range(oneThird, 2*oneThird):\n",
    "                # print(i,j)\n",
    "                ls[i][j] = ' '\n",
    "    small_ls = []\n",
    "    del_star()\n",
    "    return ls\n",
    "\n",
    "# N = int(input())\n",
    "N = 27\n",
    "ls = [['*' for _ in range(N)] for _ in range(N)]\n",
    "\n",
    "ls = del_star(ls)\n",
    "\n",
    "#output\n",
    "for i in ls:\n",
    "    print(*i, sep='' ,end='\\n')\n",
    "\n"
   ]
  },
  {
   "cell_type": "code",
   "execution_count": 17,
   "metadata": {},
   "outputs": [],
   "source": [
    "for i in range(1,1):\n",
    "    print(i)"
   ]
  },
  {
   "cell_type": "code",
   "execution_count": 18,
   "metadata": {},
   "outputs": [
    {
     "name": "stdout",
     "output_type": "stream",
     "text": [
      "***************************\n",
      "***************************\n",
      "***************************\n",
      "***************************\n",
      "***************************\n",
      "***************************\n",
      "***************************\n",
      "***************************\n",
      "***************************\n",
      "***************************\n",
      "***************************\n",
      "***************************\n",
      "***************************\n",
      "***************************\n",
      "***************************\n",
      "***************************\n",
      "***************************\n",
      "***************************\n",
      "***************************\n",
      "***************************\n",
      "***************************\n",
      "***************************\n",
      "***************************\n",
      "***************************\n",
      "***************************\n",
      "***************************\n",
      "***************************\n"
     ]
    }
   ],
   "source": [
    "N = int(input())\n",
    "ls = [['*' for _ in range(N)] for _ in range(N)]\n",
    "for i in ls:\n",
    "    print(*i, sep='' ,end='\\n')"
   ]
  },
  {
   "cell_type": "code",
   "execution_count": 42,
   "metadata": {},
   "outputs": [
    {
     "name": "stdout",
     "output_type": "stream",
     "text": [
      "***\n",
      "***\n",
      "***\n"
     ]
    }
   ],
   "source": [
    "def del_star(ls):\n",
    "    oneThird = len(ls)//3\n",
    "    if oneThird == 0:\n",
    "        return ['*']\n",
    "    # 1 2 3\n",
    "    # 4 5 6\n",
    "    # 7 8 9\n",
    "    ls_1 = [[] for i in range(oneThird)]\n",
    "    ls_2 = [[] for i in range(oneThird)]\n",
    "    ls_3 = [[] for i in range(oneThird)]\n",
    "    ls_4 = [[] for i in range(oneThird)]\n",
    "    if oneThird == 1:\n",
    "        ls_5 = [' ']    \n",
    "    else:\n",
    "        ls_5 = [[' ' for i in range(oneThird)] for i in range(oneThird)]\n",
    "    ls_6 = [[] for i in range(oneThird)]\n",
    "    ls_7 = [[] for i in range(oneThird)]\n",
    "    ls_8 = [[] for i in range(oneThird)]\n",
    "    ls_9 = [[] for i in range(oneThird)]\n",
    "    \n",
    "    for i in range(len(ls)):\n",
    "        for j in range(len(ls)):\n",
    "            if i < oneThird and j < oneThird:\n",
    "                ls_1[i].append(ls[i][j])\n",
    "            elif i < oneThird and j < 2*oneThird:\n",
    "                ls_2[i].append(ls[i][j])\n",
    "            elif i < oneThird and j < 3*oneThird:\n",
    "                ls_3[i].append(ls[i][j])\n",
    "            elif i < 2*oneThird and j < oneThird:\n",
    "                ls_4[i-2*oneThird].append(ls[i][j])\n",
    "            elif i < 2*oneThird and j < 2*oneThird:\n",
    "                pass\n",
    "            elif i < 2*oneThird and j < 3*oneThird:\n",
    "                ls_6[i-2*oneThird].append(ls[i][j])\n",
    "            elif i < 3*oneThird and j < oneThird:\n",
    "                ls_7[i-3*oneThird].append(ls[i][j])\n",
    "            elif i < 3*oneThird and j < 2*oneThird:\n",
    "                ls_8[i-3*oneThird].append(ls[i][j])\n",
    "            else: # elif i < 3*oneThird and j < 3*oneThird:\n",
    "                ls_9[i-3*oneThird].append(ls[i][j])\n",
    "    \n",
    "    ls_1 = del_star(ls_1)\n",
    "    ls_2 = del_star(ls_2)\n",
    "    ls_3 = del_star(ls_3)\n",
    "    ls_4 = del_star(ls_4)\n",
    "\n",
    "    ls_6 = del_star(ls_6)\n",
    "    ls_7 = del_star(ls_7)\n",
    "    ls_8 = del_star(ls_8)\n",
    "    ls_9 = del_star(ls_9)\n",
    "\n",
    "    addAll = [ls_1 + ls_2 + ls_3,\n",
    "              ls_4 + ls_5 + ls_6,\n",
    "              ls_7 + ls_8 + ls_9]\n",
    "\n",
    "    return addAll\n",
    "\n",
    "# N = int(input())\n",
    "N = 9\n",
    "ls = [['*' for _ in range(N)] for _ in range(N)]\n",
    "\n",
    "addAll = del_star(ls)\n",
    "\n",
    "#output\n",
    "# for i in addAll:\n",
    "#     print(*i, sep='' ,end='\\n')\n",
    "addAll\n",
    "# print(*addAll, sep='\\n')\n",
    "for i in range(N//3):\n",
    "        print(*addAll[i][j], sep='', end='\\n')"
   ]
  },
  {
   "cell_type": "code",
   "execution_count": 24,
   "metadata": {},
   "outputs": [
    {
     "data": {
      "text/plain": [
       "[[1, 2]]"
      ]
     },
     "execution_count": 24,
     "metadata": {},
     "output_type": "execute_result"
    }
   ],
   "source": [
    "a = [1]\n",
    "b = [2]\n",
    "c = [a+b]\n",
    "c"
   ]
  },
  {
   "cell_type": "markdown",
   "metadata": {},
   "source": [
    "# 0122Mon"
   ]
  },
  {
   "cell_type": "code",
   "execution_count": 14,
   "metadata": {},
   "outputs": [
    {
     "data": {
      "text/plain": [
       "3"
      ]
     },
     "execution_count": 14,
     "metadata": {},
     "output_type": "execute_result"
    }
   ],
   "source": [
    "def del_star(ls):\n",
    "    oneThird = len(ls)//3\n",
    "    if oneThird == 0:\n",
    "        return ['*']\n",
    "    # 1 2 3\n",
    "    # 4 5 6\n",
    "    # 7 8 9\n",
    "    ls_1 = [[] for i in range(oneThird)]\n",
    "    ls_2 = [[] for i in range(oneThird)]\n",
    "    ls_3 = [[] for i in range(oneThird)]\n",
    "    ls_4 = [[] for i in range(oneThird)]\n",
    "    if oneThird == 1:\n",
    "        ls_5 = [' ']    \n",
    "    else:\n",
    "        ls_5 = [[' ' for i in range(oneThird)] for i in range(oneThird)]\n",
    "    ls_6 = [[] for i in range(oneThird)]\n",
    "    ls_7 = [[] for i in range(oneThird)]\n",
    "    ls_8 = [[] for i in range(oneThird)]\n",
    "    ls_9 = [[] for i in range(oneThird)]\n",
    "    \n",
    "    for i in range(len(ls)):\n",
    "        for j in range(len(ls)):\n",
    "            if i < oneThird and j < oneThird:\n",
    "                ls_1[i].append(ls[i][j])\n",
    "            elif i < oneThird and j < 2*oneThird:\n",
    "                ls_2[i].append(ls[i][j])\n",
    "            elif i < oneThird and j < 3*oneThird:\n",
    "                ls_3[i].append(ls[i][j])\n",
    "            elif i < 2*oneThird and j < oneThird:\n",
    "                ls_4[i-2*oneThird].append(ls[i][j])\n",
    "            elif i < 2*oneThird and j < 2*oneThird:\n",
    "                pass\n",
    "            elif i < 2*oneThird and j < 3*oneThird:\n",
    "                ls_6[i-2*oneThird].append(ls[i][j])\n",
    "            elif i < 3*oneThird and j < oneThird:\n",
    "                ls_7[i-3*oneThird].append(ls[i][j])\n",
    "            elif i < 3*oneThird and j < 2*oneThird:\n",
    "                ls_8[i-3*oneThird].append(ls[i][j])\n",
    "            else: # elif i < 3*oneThird and j < 3*oneThird:\n",
    "                ls_9[i-3*oneThird].append(ls[i][j])\n",
    "    \n",
    "    ls_1 = del_star(ls_1)\n",
    "    ls_2 = del_star(ls_2)\n",
    "    ls_3 = del_star(ls_3)\n",
    "    ls_4 = del_star(ls_4)\n",
    "\n",
    "    ls_6 = del_star(ls_6)\n",
    "    ls_7 = del_star(ls_7)\n",
    "    ls_8 = del_star(ls_8)\n",
    "    ls_9 = del_star(ls_9)\n",
    "\n",
    "    addAll = [ls_1 + ls_2 + ls_3,\n",
    "              ls_4 + ls_5 + ls_6,\n",
    "              ls_7 + ls_8 + ls_9]\n",
    "\n",
    "    # ans = []\n",
    "    # for x,y,z in zip(ls_1, ls_2, ls_3):\n",
    "    #     print('x = ', x)\n",
    "    #     # print(x, y, z)\n",
    "    #     print('---')\n",
    "\n",
    "    return addAll\n",
    "\n",
    "\n",
    "# N = int(input())\n",
    "N = 9\n",
    "ls = [['*' for _ in range(N)] for _ in range(N)]\n",
    "\n",
    "addAll = del_star(ls)\n",
    "\n",
    "# [[['*', '*', '*'],\n",
    "#   ['*', ' ', '*'],\n",
    "#   ['*', '*', '*'],\n",
    "#   ['*', '*', '*'],\n",
    "#   ['*', ' ', '*'],\n",
    "#   ['*', '*', '*'],\n",
    "#   ['*', '*', '*'],\n",
    "#   ['*', ' ', '*'],\n",
    "#   ['*', '*', '*']],\n",
    "#  [['*', '*', '*'],\n",
    "#   ['*', ' ', '*'],\n",
    "#   ['*', '*', '*'],\n",
    "#   [' ', ' ', ' '],\n",
    "#   [' ', ' ', ' '],\n",
    "#   [' ', ' ', ' '],\n",
    "#   ['*', '*', '*'],\n",
    "#   ['*', ' ', '*'],\n",
    "#   ['*', '*', '*']],\n",
    "#  [['*', '*', '*'],\n",
    "#   ['*', ' ', '*'],\n",
    "#   ['*', '*', '*'],\n",
    "#   ['*', '*', '*'],\n",
    "#   ['*', ' ', '*'],\n",
    "#   ['*', '*', '*'],\n",
    "#   ['*', '*', '*'],\n",
    "#   ['*', ' ', '*'],\n",
    "#   ['*', '*', '*']]]\n",
    "len(addAll)\n"
   ]
  },
  {
   "cell_type": "code",
   "execution_count": 9,
   "metadata": {},
   "outputs": [
    {
     "name": "stdout",
     "output_type": "stream",
     "text": [
      "1 4 7\n",
      "2 5 8\n",
      "3 6 9\n"
     ]
    }
   ],
   "source": [
    "x = [1,2,3]\n",
    "y = [4,5,6]\n",
    "z = [7,8,9]\n",
    "\n",
    "for x,y,z in zip(x,y,z):\n",
    "    print(x,y,z)"
   ]
  },
  {
   "cell_type": "code",
   "execution_count": null,
   "metadata": {},
   "outputs": [],
   "source": []
  }
 ],
 "metadata": {
  "kernelspec": {
   "display_name": "Python 3",
   "language": "python",
   "name": "python3"
  },
  "language_info": {
   "codemirror_mode": {
    "name": "ipython",
    "version": 3
   },
   "file_extension": ".py",
   "mimetype": "text/x-python",
   "name": "python",
   "nbconvert_exporter": "python",
   "pygments_lexer": "ipython3",
   "version": "3.9.13"
  }
 },
 "nbformat": 4,
 "nbformat_minor": 2
}
