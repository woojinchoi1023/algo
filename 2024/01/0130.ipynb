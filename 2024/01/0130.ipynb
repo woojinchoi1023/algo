{
 "cells": [
  {
   "cell_type": "code",
   "execution_count": 2,
   "metadata": {},
   "outputs": [
    {
     "name": "stdout",
     "output_type": "stream",
     "text": [
      "200\n"
     ]
    }
   ],
   "source": [
    "#1654 시간초과\n",
    "K, N = map(int, input().split())\n",
    "lanson = []\n",
    "for i in range(K):\n",
    "    lanson.append(int(input()))\n",
    "\n",
    "avg = sum(lanson)//N\n",
    "for i in range(avg, 0, -1):\n",
    "    cnt = 0\n",
    "    for j in lanson:\n",
    "        cnt += j//i\n",
    "    if cnt >= N:\n",
    "        print(i)\n",
    "        break\n"
   ]
  },
  {
   "cell_type": "code",
   "execution_count": 4,
   "metadata": {},
   "outputs": [
    {
     "name": "stdout",
     "output_type": "stream",
     "text": [
      "72\n"
     ]
    }
   ],
   "source": []
  },
  {
   "cell_type": "code",
   "execution_count": 6,
   "metadata": {},
   "outputs": [],
   "source": [
    "#1654 시간초과\n",
    "import sys\n",
    "data = [i.rstrip('\\n') for i in sys.stdin.readlines()]\n",
    "\n",
    "K, N = map(int,data[0].split())\n",
    "lanson = []\n",
    "for i in range(K):\n",
    "    lanson.append(int(data[1+i]))\n",
    "\n",
    "avg = sum(lanson)//N\n",
    "lanson.sort(reverse=True)\n",
    "for i in range(avg, 0, -1):\n",
    "    cnt = 0\n",
    "    for j in lanson:\n",
    "        cnt += j//i\n",
    "        if j//i == 0:\n",
    "            break\n",
    "    if cnt >= N:\n",
    "        print(i)\n",
    "        break\n"
   ]
  },
  {
   "cell_type": "code",
   "execution_count": 4,
   "metadata": {},
   "outputs": [
    {
     "name": "stdout",
     "output_type": "stream",
     "text": [
      "200\n"
     ]
    }
   ],
   "source": [
    "#1654\n",
    "K, N = map(int, input().split())\n",
    "lanson = []\n",
    "for i in range(K):\n",
    "    lanson.append(int(input()))\n",
    "\n",
    "lanson.sort()\n",
    "for i in range(1, N+1):\n",
    "    cnt = 0\n",
    "    temp = lanson[-1]//i\n",
    "    for j in lanson:\n",
    "        cnt += j//temp\n",
    "    if cnt >= N:\n",
    "        print(temp)\n",
    "        break"
   ]
  },
  {
   "cell_type": "code",
   "execution_count": 5,
   "metadata": {},
   "outputs": [
    {
     "ename": "ZeroDivisionError",
     "evalue": "integer division or modulo by zero",
     "output_type": "error",
     "traceback": [
      "\u001b[1;31m---------------------------------------------------------------------------\u001b[0m",
      "\u001b[1;31mZeroDivisionError\u001b[0m                         Traceback (most recent call last)",
      "Cell \u001b[1;32mIn[5], line 1\u001b[0m\n\u001b[1;32m----> 1\u001b[0m \u001b[38;5;241;43m100\u001b[39;49m\u001b[38;5;241;43m/\u001b[39;49m\u001b[38;5;241;43m/\u001b[39;49m\u001b[38;5;241;43m0\u001b[39;49m\n",
      "\u001b[1;31mZeroDivisionError\u001b[0m: integer division or modulo by zero"
     ]
    }
   ],
   "source": [
    "100//0"
   ]
  },
  {
   "cell_type": "code",
   "execution_count": 6,
   "metadata": {},
   "outputs": [
    {
     "name": "stdout",
     "output_type": "stream",
     "text": [
      "72\n"
     ]
    }
   ],
   "source": [
    "#1654\n",
    "K, N = map(int, input().split())\n",
    "lanson = []\n",
    "for i in range(K):\n",
    "    lanson.append(int(input()))\n",
    "\n",
    "avg = sum(lanson)//N\n",
    "lanson.sort(reverse=True)\n",
    "for i in range(avg, 0, -1):\n",
    "    cnt = 0\n",
    "    for index, j in enumerate(lanson):\n",
    "        if (j//i) * (index+1) < N:\n",
    "            break\n",
    "        # print(i, j)\n",
    "        cnt += j//i\n",
    "    if cnt >= N:\n",
    "        print(i)\n",
    "        break\n",
    "\n"
   ]
  },
  {
   "cell_type": "code",
   "execution_count": 27,
   "metadata": {},
   "outputs": [
    {
     "name": "stdout",
     "output_type": "stream",
     "text": [
      "200\n"
     ]
    }
   ],
   "source": [
    "#1654\n",
    "# K, N = map(int, input().split())\n",
    "K, N = 4, 11\n",
    "lanson = [802, 743, 457, 539]\n",
    "# lanson = []\n",
    "# for i in range(K):\n",
    "#     lanson.append(int(input()))\n",
    "\n",
    "avg = sum(lanson)//N\n",
    "lanson.sort(reverse=True)\n",
    "for i in range(avg, 0, -1):\n",
    "    cnt = 0\n",
    "    for index, j in enumerate(lanson):\n",
    "        if cnt + j//i * (K-index) < N:\n",
    "            # print('avg=', i, 'num=', j, 'exp=', cnt + j//i * (K-index))\n",
    "            break\n",
    "        # print(i, j, j//i, cnt + j//i * (K-index))\n",
    "        cnt += j//i\n",
    "    if cnt >= N:\n",
    "        print(i)\n",
    "        break\n",
    "\n"
   ]
  },
  {
   "cell_type": "code",
   "execution_count": null,
   "metadata": {},
   "outputs": [],
   "source": [
    "#1654\n",
    "K, N = map(int, input().split())\n",
    "\n",
    "lanson = []\n",
    "for i in range(K):\n",
    "    lanson.append(int(input()))\n",
    "\n",
    "avg = sum(lanson)//N\n",
    "lanson.sort(reverse=True)\n",
    "for i in range(avg, 0, -1):\n",
    "    cnt = 0\n",
    "    for index, j in enumerate(lanson):\n",
    "        if cnt + j//i * (K-index) < N:\n",
    "            break\n",
    "        cnt += j//i\n",
    "    if cnt >= N:\n",
    "        print(i)\n",
    "        break\n",
    "\n"
   ]
  },
  {
   "cell_type": "code",
   "execution_count": 37,
   "metadata": {},
   "outputs": [
    {
     "name": "stdout",
     "output_type": "stream",
     "text": [
      "200\n"
     ]
    }
   ],
   "source": [
    "# 1654\n",
    "# K, N = 4, 11\n",
    "# lanson = [802, 743, 457, 539]\n",
    "\n",
    "\n",
    "K, N = map(int, input().split())\n",
    "lanson = []\n",
    "for i in range(K):\n",
    "    lanson.append(int(input()))\n",
    "\n",
    "lanson.sort(reverse=True)\n",
    "cand = []\n",
    "avg = sum(lanson) // 11\n",
    "for i in range(K):\n",
    "    if lanson[i] < avg:\n",
    "        break\n",
    "    cand += [lanson[i]//x for x in range(1,N+1)]\n",
    "cand.sort(reverse=True)\n",
    "# print(cand)\n",
    "\n",
    "for i in cand:\n",
    "    cnt = 0\n",
    "    for j in lanson:\n",
    "        cnt += j//i\n",
    "    if cnt >= N:\n",
    "        print(i)\n",
    "        break\n",
    "\n"
   ]
  },
  {
   "cell_type": "code",
   "execution_count": 43,
   "metadata": {},
   "outputs": [
    {
     "name": "stdout",
     "output_type": "stream",
     "text": [
      "[200]\n",
      "200\n"
     ]
    }
   ],
   "source": [
    "# # 이분 탐색\n",
    "# K, N = 4, 11\n",
    "# lanson = [802, 743, 457, 539]\n",
    "\n",
    "\n",
    "K, N = map(int, input().split())\n",
    "lanson = []\n",
    "for i in range(K):\n",
    "    lanson.append(int(input()))\n",
    "\n",
    "lanson.sort(reverse=True)\n",
    "high = max(lanson)\n",
    "low = 0\n",
    "mid = (high+low) //2\n",
    "res = []\n",
    "while high>low:\n",
    "    mid = (high+low)//2\n",
    "    cnt = 0\n",
    "\n",
    "    for i in lanson:\n",
    "        cnt += i//mid\n",
    "        \n",
    "    if cnt >= N:\n",
    "        low = mid + 1\n",
    "        res.append(mid)\n",
    "\n",
    "    else:\n",
    "        high = mid - 1\n",
    "# print(res)\n",
    "print(max(res))"
   ]
  },
  {
   "cell_type": "code",
   "execution_count": 48,
   "metadata": {},
   "outputs": [
    {
     "name": "stdout",
     "output_type": "stream",
     "text": [
      "802 401 1\n",
      "400 200 1\n",
      "400 300 201\n",
      "299 250 201\n",
      "249 225 201\n",
      "224 212 201\n",
      "211 206 201\n",
      "205 203 201\n",
      "202 201 201\n",
      "200\n"
     ]
    }
   ],
   "source": [
    "# 이분 탐색\n",
    "K, N = 4, 11\n",
    "lanson = [802, 743, 457, 539]\n",
    "\n",
    "\n",
    "# K, N = map(int, input().split())\n",
    "# lanson = []\n",
    "# for i in range(K):\n",
    "#     lanson.append(int(input()))\n",
    "\n",
    "# lanson.sort(reverse=True)\n",
    "\n",
    "high = max(lanson)\n",
    "low = 1\n",
    "\n",
    "while high>=low:\n",
    "    mid = (high+low)//2\n",
    "    # print(high, mid, low)\n",
    "    cnt = 0\n",
    "\n",
    "    for i in lanson:\n",
    "        cnt += i//mid\n",
    "        \n",
    "    if cnt >= N:\n",
    "        low = mid + 1\n",
    "    else:\n",
    "        high = mid - 1\n",
    "\n",
    "print(high)"
   ]
  },
  {
   "cell_type": "code",
   "execution_count": 46,
   "metadata": {},
   "outputs": [
    {
     "ename": "ValueError",
     "evalue": "not enough values to unpack (expected 2, got 0)",
     "output_type": "error",
     "traceback": [
      "\u001b[1;31m---------------------------------------------------------------------------\u001b[0m",
      "\u001b[1;31mValueError\u001b[0m                                Traceback (most recent call last)",
      "Cell \u001b[1;32mIn[46], line 1\u001b[0m\n\u001b[1;32m----> 1\u001b[0m K, N \u001b[38;5;241m=\u001b[39m \u001b[38;5;28mmap\u001b[39m(\u001b[38;5;28mint\u001b[39m, \u001b[38;5;28minput\u001b[39m()\u001b[38;5;241m.\u001b[39msplit())\n\u001b[0;32m      2\u001b[0m lanson \u001b[38;5;241m=\u001b[39m []\n\u001b[0;32m      3\u001b[0m \u001b[38;5;28;01mfor\u001b[39;00m i \u001b[38;5;129;01min\u001b[39;00m \u001b[38;5;28mrange\u001b[39m(K):\n",
      "\u001b[1;31mValueError\u001b[0m: not enough values to unpack (expected 2, got 0)"
     ]
    }
   ],
   "source": [
    "K, N = map(int, input().split())\n",
    "lanson = []\n",
    "for i in range(K):\n",
    "    lanson.append(int(input()))\n",
    "\n",
    "high = max(lanson)\n",
    "low = 1\n",
    "\n",
    "while high>=low:\n",
    "    mid = (high+low)//2\n",
    "    cnt = 0\n",
    "\n",
    "    for i in lanson:\n",
    "        cnt += i//mid\n",
    "        \n",
    "    if cnt >= N:\n",
    "        low = mid + 1\n",
    "    else:\n",
    "        high = mid - 1\n",
    "\n",
    "print(high)"
   ]
  },
  {
   "cell_type": "code",
   "execution_count": 45,
   "metadata": {},
   "outputs": [
    {
     "data": {
      "text/plain": [
       "401"
      ]
     },
     "execution_count": 45,
     "metadata": {},
     "output_type": "execute_result"
    }
   ],
   "source": [
    "803//2"
   ]
  },
  {
   "cell_type": "code",
   "execution_count": 50,
   "metadata": {},
   "outputs": [
    {
     "name": "stdout",
     "output_type": "stream",
     "text": [
      "2\n"
     ]
    }
   ],
   "source": [
    "# 1676\n",
    "def fac(n):\n",
    "    if n == 0 :\n",
    "        return 1\n",
    "    return n * fac(n-1)\n",
    "N = int(input())\n",
    "res = fac(N)\n",
    "cnt = 0\n",
    "for i in range(len(str(res))-1, -1, -1):\n",
    "    if str(res)[i] == '0':\n",
    "        cnt +=1\n",
    "    else:\n",
    "        break\n",
    "print(cnt)"
   ]
  },
  {
   "cell_type": "code",
   "execution_count": 52,
   "metadata": {},
   "outputs": [],
   "source": [
    "# 1920\n",
    "# N = int(input())\n",
    "# a = list(map(int, input().split()))\n",
    "# M = int(input())\n",
    "# b = list(map(int, input().split()))\n",
    "\n",
    "import sys\n",
    "data = [x.rstrip('\\n') for x in sys.stdin.readlines()]\n",
    "N = int(data[0])\n",
    "a = list(map(int, data[1].split())) \n",
    "M = int(data[2])\n",
    "b = list(map(int, data[3].split())) \n",
    "for x in b:\n",
    "    if x in a:\n",
    "        print(1)\n",
    "    else:\n",
    "        print(0)"
   ]
  },
  {
   "cell_type": "code",
   "execution_count": null,
   "metadata": {},
   "outputs": [],
   "source": []
  }
 ],
 "metadata": {
  "kernelspec": {
   "display_name": "Python 3",
   "language": "python",
   "name": "python3"
  },
  "language_info": {
   "codemirror_mode": {
    "name": "ipython",
    "version": 3
   },
   "file_extension": ".py",
   "mimetype": "text/x-python",
   "name": "python",
   "nbconvert_exporter": "python",
   "pygments_lexer": "ipython3",
   "version": "3.12.1"
  }
 },
 "nbformat": 4,
 "nbformat_minor": 2
}
