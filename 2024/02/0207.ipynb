{
 "cells": [
  {
   "cell_type": "code",
   "execution_count": 3,
   "metadata": {},
   "outputs": [
    {
     "data": {
      "text/plain": [
       "[2, 4, 6, 8]"
      ]
     },
     "execution_count": 3,
     "metadata": {},
     "output_type": "execute_result"
    }
   ],
   "source": [
    "def silver():\n",
    "    a = [1, 2, 3, 4]\n",
    "    b = []\n",
    "    for ele in a:\n",
    "        b.append(ele*2)\n",
    "    return b\n",
    "\n",
    "def gold():\n",
    "    a = [1, 2, 3, 4]\n",
    "    for ele in a:\n",
    "        yield ele*2\n",
    "\n",
    "silver()"
   ]
  },
  {
   "cell_type": "code",
   "execution_count": 25,
   "metadata": {},
   "outputs": [
    {
     "name": "stdout",
     "output_type": "stream",
     "text": [
      "87\n"
     ]
    },
    {
     "data": {
      "text/plain": [
       "[]"
      ]
     },
     "execution_count": 25,
     "metadata": {},
     "output_type": "execute_result"
    }
   ],
   "source": [
    "# 약수의 합 2 17427\n",
    "\n",
    "N = int(input())\n",
    "temp = 0\n",
    "# ls = []\n",
    "for j in range(1,N+1):\n",
    "    for i in range(1,int(j**0.5)+1):\n",
    "        if j%i == 0:\n",
    "            temp += i\n",
    "            # ls.append(i)\n",
    "            if i != j//i:\n",
    "                temp += j//i\n",
    "                # print(j, i, temp)\n",
    "                # ls.append(j//i)\n",
    "print(temp)\n",
    "# ls\n"
   ]
  },
  {
   "cell_type": "code",
   "execution_count": 49,
   "metadata": {},
   "outputs": [
    {
     "name": "stdout",
     "output_type": "stream",
     "text": [
      "31\n",
      "{1: 1, 2: 3, 3: 4, 4: 7, 5: 6, 6: 10}\n"
     ]
    }
   ],
   "source": [
    "# 약수의 합 2 17427\n",
    "\n",
    "N = int(input())\n",
    "d = {1:1}\n",
    "temp = 0\n",
    "primes = []\n",
    "\n",
    "\n",
    "for i in range(1,N+1):\n",
    "    # i의 약수합\n",
    "    if d.get(i):\n",
    "        #있으면?\n",
    "        temp += d[i]\n",
    "    else:\n",
    "        #없으면 찾자\n",
    "        for j in range(i-1,0,-1):\n",
    "            # print(i,j)\n",
    "            if i%j ==0 and d.get(j):\n",
    "                d[i] = d[j] + i\n",
    "                temp += d[i]\n",
    "                # print('add',i,j,d[j],d[i])\n",
    "                break\n",
    "        if not d.get(i):\n",
    "            d[i] = d[1] + i\n",
    "print(temp)\n",
    "print(d)"
   ]
  },
  {
   "cell_type": "code",
   "execution_count": 53,
   "metadata": {},
   "outputs": [
    {
     "name": "stdout",
     "output_type": "stream",
     "text": [
      "4065\n"
     ]
    }
   ],
   "source": [
    "# 약수의 합 2 17427\n",
    "\n",
    "N = int(input())\n",
    "temp = 0\n",
    "for i in range(1,N+1):\n",
    "    temp += i * (N//i)\n",
    "print(temp)"
   ]
  },
  {
   "cell_type": "code",
   "execution_count": 55,
   "metadata": {},
   "outputs": [
    {
     "name": "stdout",
     "output_type": "stream",
     "text": [
      "13\n"
     ]
    }
   ],
   "source": [
    "# 18110 solved ac\n",
    "N = int(input())\n",
    "if N == 0:\n",
    "    print(0)\n",
    "else:\n",
    "    ls = [int(input()) for _ in range(N)]\n",
    "    ls.sort()\n",
    "    outlyer = round(N * 0.15)\n",
    "    ls = ls[outlyer: N-outlyer]\n",
    "    # print(ls)\n",
    "    ans = round(sum(ls)/len(ls))\n",
    "    print(ans)"
   ]
  },
  {
   "cell_type": "code",
   "execution_count": null,
   "metadata": {},
   "outputs": [],
   "source": [
    "# 18110 solved ac\n",
    "import sys\n",
    "input = sys.stdin.readline\n",
    "EPS = 1e-9 # 오사오입\n",
    "N = int(input())\n",
    "if N == 0:\n",
    "    print(0)\n",
    "else:\n",
    "    ls = [int(input()) for _ in range(N)]\n",
    "    ls.sort()\n",
    "    outlyer = round(N * 0.15+EPS)\n",
    "    ls = ls[outlyer: N-outlyer]\n",
    "    # print(ls)\n",
    "    ans = round(sum(ls)/len(ls)+EPS)\n",
    "    print(ans)"
   ]
  },
  {
   "cell_type": "code",
   "execution_count": 61,
   "metadata": {},
   "outputs": [
    {
     "data": {
      "text/plain": [
       "[0, 0, 0, 0, 0, 0, 0, 0, 0, 0, 0, 2]"
      ]
     },
     "execution_count": 61,
     "metadata": {},
     "output_type": "execute_result"
    }
   ],
   "source": [
    "# 18111 마인크래프트\n",
    "N,M,B = map(int,input().split())\n",
    "ls = [list(map(int,input().split())) for _ in range(N)]\n",
    "# temp = [i for subls in ls for i in subls]\n",
    "# avg = int(sum(temp)/(N*M))\n",
    "avg = sum(map(sum,ls))\n",
    "# cal = [(i-avg)*2 if i-avg>0 else avg-i for subls in ls for i in subls ]\n",
    "cal = [(i-avg)*2 for subls in ls for i in subls ]\n",
    "for i in range(N):\n",
    "    for j in range(M):\n",
    "        diff = ls[i][j] - avg\n",
    "\n",
    "\n"
   ]
  },
  {
   "cell_type": "code",
   "execution_count": 69,
   "metadata": {},
   "outputs": [
    {
     "name": "stdout",
     "output_type": "stream",
     "text": [
      "18\n"
     ]
    }
   ],
   "source": [
    "ls = [\n",
    "    [1,2,3],\n",
    "    [1,2,3],\n",
    "    [1,2,3],\n",
    "]\n",
    "tmp = [i for sublist in ls for i in sublist]\n",
    "tmp\n",
    "a = sum(map(sum,ls))\n",
    "print(a)"
   ]
  },
  {
   "cell_type": "code",
   "execution_count": 88,
   "metadata": {},
   "outputs": [
    {
     "name": "stdout",
     "output_type": "stream",
     "text": [
      "2\n",
      "1\n",
      "16\n"
     ]
    }
   ],
   "source": [
    "ls = [\n",
    "    [2,2,2],\n",
    "    [2,2,2],\n",
    "    [2,2,1],\n",
    "]\n",
    "N = 3\n",
    "M= 3\n",
    "B = 0 # 보유 블럭\n",
    "avg = round(sum(map(sum,ls))/(N*M))\n",
    "while True:\n",
    "    print(avg)\n",
    "    cal = [i-avg for subls in ls for i in subls ]\n",
    "    # cal = [(i-avg)*2 if i-avg>0 else avg-i for subls in ls for i in subls ]\n",
    "    if sum(cal) + B >= 0: # 가능\n",
    "        break\n",
    "    else:\n",
    "        avg -= 1\n",
    "# print(cal)\n",
    "# print([(i-avg)*2 if i-avg>0 else avg-i for subls in ls for i in subls])\n",
    "tm = sum([(i-avg)*2 if i-avg>0 else avg-i for subls in ls for i in subls])\n",
    "print(tm)"
   ]
  },
  {
   "cell_type": "code",
   "execution_count": 140,
   "metadata": {},
   "outputs": [
    {
     "name": "stdout",
     "output_type": "stream",
     "text": [
      "312 159\n"
     ]
    }
   ],
   "source": [
    "# import sys\n",
    "# input= sys.stdin.readline\n",
    "\n",
    "EPS = 1e-9 # 오사오입\n",
    "\n",
    "N,M,B = map(int,input().split())\n",
    "ls = [list(map(int,input().split())) for _ in range(N)]\n",
    "avg = round(sum(map(sum,ls))/(N*M)+EPS)+1\n",
    "cand = []\n",
    "first = True\n",
    "while True:\n",
    "    # print(avg)\n",
    "    cal = [i-avg for subls in ls for i in subls ]\n",
    "    if sum(cal) + B >= 0: # 가능\n",
    "        if first:\n",
    "            cand.append(avg)\n",
    "            first = False\n",
    "            avg -= 1\n",
    "        else:\n",
    "            cand.append(avg)\n",
    "            break\n",
    "    else:\n",
    "        avg -= 1\n",
    "tmp = []\n",
    "for avg in cand:\n",
    "    tm = sum([(i-avg)*2 if i-avg>0 else avg-i for subls in ls for i in subls])\n",
    "    tmp.append(tm)\n",
    "# print(tmp)\n",
    "# print(cand)\n",
    "print(min(tmp), cand[tmp.index(min(tmp))])"
   ]
  },
  {
   "cell_type": "code",
   "execution_count": 142,
   "metadata": {},
   "outputs": [
    {
     "name": "stdout",
     "output_type": "stream",
     "text": [
      "[312, 314]\n",
      "[159, 158]\n",
      "312 159\n"
     ]
    }
   ],
   "source": [
    "EPS = 1e-9 # 오사오입\n",
    "\n",
    "# N,M,B = 1,7,10\n",
    "# ls = [[65,64,64,64,63,62,0]]\n",
    "\n",
    "# N,M,B = 3,4,99\n",
    "# ls =[\n",
    "#     [0,0,0,0],\n",
    "#     [0,0,0,0],\n",
    "#     [0,0,0,1],\n",
    "# ]\n",
    "\n",
    "# N,M,B = 3,4,1\n",
    "# ls =[\n",
    "#     [64, 64, 64, 64,],\n",
    "#     [64, 64, 64, 64,],\n",
    "#     [64, 64, 64, 63,],\n",
    "# ]\n",
    "\n",
    "N, M, B = 2, 2, 68\n",
    "ls = [\n",
    "    [120,90],\n",
    "    [250,170],\n",
    "]\n",
    "\n",
    "\n",
    "# 7 7 6000\n",
    "# 30 21 48 55 1 1 4\n",
    "# 0 0 0 0 0 0 0\n",
    "# 15 4 4 4 4 4 8\n",
    "# 20 40 60 10 20 30 2\n",
    "# 1 1 1 1 1 1 9\n",
    "# 24 12 33 7 14 25 3\n",
    "# 3 3 3 3 3 3 32\n",
    "\n",
    "\n",
    "\n",
    "avg = round(sum(map(sum,ls))/(N*M)+EPS)+1\n",
    "cand = []\n",
    "first = True\n",
    "while True:\n",
    "    # print(avg)\n",
    "    cal = [i-avg for subls in ls for i in subls ]\n",
    "    if sum(cal) + B >= 0: # 가능\n",
    "        if first:\n",
    "            cand.append(avg)\n",
    "            first = False\n",
    "            avg -= 1\n",
    "        else:\n",
    "            cand.append(avg)\n",
    "            break\n",
    "    else:\n",
    "        avg -= 1\n",
    "tmp = []\n",
    "for avg in cand:\n",
    "    tm = sum([(i-avg)*2 if i-avg>0 else avg-i for subls in ls for i in subls])\n",
    "    tmp.append(tm)\n",
    "print(tmp)\n",
    "print(cand)\n",
    "print(min(tmp), cand[tmp.index(min(tmp))])"
   ]
  },
  {
   "cell_type": "code",
   "execution_count": 1,
   "metadata": {},
   "outputs": [
    {
     "name": "stdout",
     "output_type": "stream",
     "text": [
      "1 64\n"
     ]
    }
   ],
   "source": [
    "\n",
    "\n",
    "# 290 170\n",
    "# N, M, B = 2, 2, 68\n",
    "# ls = [\n",
    "#     [120,90],\n",
    "#     [250,170],\n",
    "# ]\n",
    "\n",
    "# N,M,B = 1,7,10\n",
    "# ls = [[65,64,64,64,63,62,0]]\n",
    "\n",
    "# N,M,B = 3,4,99\n",
    "# ls =[\n",
    "#     [0,0,0,0],\n",
    "#     [0,0,0,0],\n",
    "#     [0,0,0,1],\n",
    "# ]\n",
    "\n",
    "# N,M,B = 3,4,1\n",
    "# ls =[\n",
    "#     [64, 64, 64, 64,],\n",
    "#     [64, 64, 64, 64,],\n",
    "#     [64, 64, 64, 63,],\n",
    "# ]\n",
    "\n",
    "\n",
    "\n",
    "def mine(ls, B, avg):\n",
    "    tm = None\n",
    "    cal = [i-avg for subls in ls for i in subls]\n",
    "    if sum(cal) + B >= 0: # 가능\n",
    "        tm = sum([(i-avg)*2 if i-avg>0 else avg-i for subls in ls for i in subls])\n",
    "    return tm\n",
    "\n",
    "# import sys\n",
    "# input= sys.stdin.readline\n",
    "N,M,B = map(int,input().split())\n",
    "ls = [list(map(int,input().split())) for _ in range(N)]\n",
    "\n",
    "EPS = 1e-9 # 오사오입\n",
    "avg = round(sum(map(sum,ls))/(N*M)+EPS)\n",
    "maxV = avg + B//(N*M)\n",
    "cand = [i for i in range(maxV, -1, -1)]\n",
    "res = 0\n",
    "prev = None\n",
    "prevI = None\n",
    "for i in cand:\n",
    "    a = mine(ls, B, i)\n",
    "    # print(prev, a)\n",
    "    if prev:\n",
    "        if a and prev > a:\n",
    "            prev = a\n",
    "            prevI = i\n",
    "            continue\n",
    "        else:\n",
    "            break\n",
    "    else:\n",
    "        prev = a\n",
    "        prevI = i\n",
    "\n",
    "\n",
    "print(prev, prevI)"
   ]
  },
  {
   "cell_type": "code",
   "execution_count": 150,
   "metadata": {},
   "outputs": [],
   "source": [
    "if None: print(1)"
   ]
  },
  {
   "cell_type": "code",
   "execution_count": 9,
   "metadata": {},
   "outputs": [
    {
     "name": "stdout",
     "output_type": "stream",
     "text": [
      "2 0\n"
     ]
    }
   ],
   "source": [
    "def mine(ls, B, avg):\n",
    "    tm = 0\n",
    "    cal = [i-avg for subls in ls for i in subls]\n",
    "    if sum(cal) + B >= 0: # 가능\n",
    "        tm = sum([(i-avg)*2 if i-avg>0 else avg-i for subls in ls for i in subls])\n",
    "    return tm\n",
    "\n",
    "import sys\n",
    "input= sys.stdin.readline\n",
    "N,M,B = map(int,input().split())\n",
    "ls = [list(map(int,input().split())) for _ in range(N)]\n",
    "\n",
    "avg = int(sum(map(sum,ls))/(N*M)+1)\n",
    "maxV = avg + B//(N*M)\n",
    "# cand = [i for i in range(maxV, -1, -1)]\n",
    "res = 0\n",
    "prev = 0\n",
    "prevI = 0\n",
    "for i in range(maxV, -1, -1):\n",
    "    a = mine(ls, B, i)\n",
    "    # print(prev, a)\n",
    "    if prev:\n",
    "        if a and prev > a:\n",
    "            prev = a\n",
    "            prevI = i\n",
    "            continue\n",
    "        else:\n",
    "            break\n",
    "    else:\n",
    "        if a:\n",
    "            prev = a\n",
    "            prevI = i\n",
    "\n",
    "\n",
    "print(prev, prevI)"
   ]
  },
  {
   "cell_type": "code",
   "execution_count": null,
   "metadata": {},
   "outputs": [],
   "source": []
  }
 ],
 "metadata": {
  "kernelspec": {
   "display_name": "Python 3",
   "language": "python",
   "name": "python3"
  },
  "language_info": {
   "codemirror_mode": {
    "name": "ipython",
    "version": 3
   },
   "file_extension": ".py",
   "mimetype": "text/x-python",
   "name": "python",
   "nbconvert_exporter": "python",
   "pygments_lexer": "ipython3",
   "version": "3.12.2"
  }
 },
 "nbformat": 4,
 "nbformat_minor": 2
}
