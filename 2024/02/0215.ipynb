{
 "cells": [
  {
   "cell_type": "code",
   "execution_count": 20,
   "metadata": {},
   "outputs": [
    {
     "name": "stdout",
     "output_type": "stream",
     "text": [
      "499999670\n"
     ]
    }
   ],
   "source": [
    "# 11687 팩토리얼 0의 개수\n",
    "\n",
    "M = int(input())\n",
    "\n",
    "# 5 10 15 20 25 30 35 40 45 50 55 60 65... 120 125 ... 625\n",
    "# 1 2  3  4  6  7  8  9  10 11 12 13 14... 25  28  ... x+4 : M\n",
    "# 1 2  3  4  5  6  7  8  9  10 11 12 13... 24  25  ... 125 : index\n",
    "\n",
    "# 1, 1\n",
    "# 2, 2\n",
    "# 3, 3\n",
    "# 4, 4\n",
    "# 5, \n",
    "ls = set(5**i for i in range(1, 10))\n",
    "i = 0\n",
    "temp = 0\n",
    "pw = 0\n",
    "while temp<M:\n",
    "    i += 1\n",
    "    if i in ls:\n",
    "        pw += 1\n",
    "        temp += pw\n",
    "    temp += 1\n",
    "    # print(temp)\n",
    "if temp == M:\n",
    "    print(i*5)\n",
    "else:\n",
    "    print(-1)\n",
    "\n"
   ]
  },
  {
   "cell_type": "code",
   "execution_count": 1,
   "metadata": {},
   "outputs": [
    {
     "data": {
      "text/plain": [
       "{5, 25, 125, 625, 3125, 15625, 78125, 390625, 1953125}"
      ]
     },
     "execution_count": 1,
     "metadata": {},
     "output_type": "execute_result"
    }
   ],
   "source": [
    "ls = set(5**i for i in range(1, 10))\n",
    "ls"
   ]
  },
  {
   "cell_type": "code",
   "execution_count": null,
   "metadata": {},
   "outputs": [],
   "source": [
    "# 11687 팩토리얼 0의 개수\n",
    "\n",
    "# 1 2  3  4  5  6  7  8  9  10 11 12 13... 24  25  ... 125 : index\n",
    "# 1 2  3  4  6  7  8  9  10 11 12 13 14... 25  28  ... x+4 : M\n",
    "# 5 10 15 20 25 30 35 40 45 50 55 60 65... 120 125 ... 625 : min num\n",
    "\n",
    "M = int(input())\n",
    "ls = set(5**i for i in range(1, 10))\n",
    "i = 0\n",
    "temp = 0\n",
    "pw = 0\n",
    "while temp<M:\n",
    "    i += 1\n",
    "    if i in ls:\n",
    "        pw += 1\n",
    "        temp += pw\n",
    "    temp += 1\n",
    "    # print(temp)\n",
    "if temp == M:\n",
    "    print(i*5)\n",
    "else:\n",
    "    print(-1)\n",
    "\n"
   ]
  }
 ],
 "metadata": {
  "kernelspec": {
   "display_name": "Python 3",
   "language": "python",
   "name": "python3"
  },
  "language_info": {
   "codemirror_mode": {
    "name": "ipython",
    "version": 3
   },
   "file_extension": ".py",
   "mimetype": "text/x-python",
   "name": "python",
   "nbconvert_exporter": "python",
   "pygments_lexer": "ipython3",
   "version": "3.12.2"
  }
 },
 "nbformat": 4,
 "nbformat_minor": 2
}
