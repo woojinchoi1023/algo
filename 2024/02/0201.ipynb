{
 "cells": [
  {
   "cell_type": "code",
   "execution_count": 2,
   "metadata": {},
   "outputs": [
    {
     "name": "stdout",
     "output_type": "stream",
     "text": [
      "1\n",
      "1\n",
      "0\n",
      "0\n",
      "1\n"
     ]
    }
   ],
   "source": [
    "# 1920 수 찾기\n",
    "N = int(input())\n",
    "ls = set(map(int,input().split()))\n",
    "M = int(input())\n",
    "cand = list(map(int,input().split()))\n",
    "for i in cand:\n",
    "    if i in ls:\n",
    "        print(1)\n",
    "    else:\n",
    "        print(0)"
   ]
  },
  {
   "cell_type": "code",
   "execution_count": 6,
   "metadata": {},
   "outputs": [
    {
     "name": "stdout",
     "output_type": "stream",
     "text": [
      "1\n",
      "2\n",
      "2\n"
     ]
    }
   ],
   "source": [
    "# 1966 프린터 큐\n",
    "def que(pr:list, i):\n",
    "    # i 번의 중요도\n",
    "    tar = pr[i]\n",
    "    cnt = 1\n",
    "    for k in pr:\n",
    "        if k == tar == max(pr):\n",
    "            return cnt\n",
    "        elif k == max(pr):\n",
    "            pr.remove(k)\n",
    "            cnt += 1\n",
    "        else:\n",
    "            pr.append(k)\n",
    "    return cnt\n",
    "T = int(input())\n",
    "for t in range(T):\n",
    "    N, M = map(int,input().split())\n",
    "    pr = list(map(int,input().split()))\n",
    "    print(que(pr, M))\n"
   ]
  },
  {
   "cell_type": "code",
   "execution_count": 8,
   "metadata": {},
   "outputs": [
    {
     "name": "stdout",
     "output_type": "stream",
     "text": [
      "1\n",
      "5\n",
      "6\n"
     ]
    }
   ],
   "source": [
    "# 1966 프린터 큐\n",
    "def que(N,M,pr:list):\n",
    "    ls = []\n",
    "    for i in range(N):\n",
    "        ls.append([i, pr[i]])\n",
    "    cnt = 1\n",
    "    for i in ls:\n",
    "        if i[1] == max(pr) and i[0] == M:\n",
    "            return cnt\n",
    "        elif i[1] == max(pr):\n",
    "            ls.pop(0)\n",
    "            cnt += 1\n",
    "        else:\n",
    "            ls.pop(0)\n",
    "            ls.append(i)\n",
    "            cnt += 1\n",
    "    return cnt\n",
    "\n",
    "T = int(input())\n",
    "for t in range(T):\n",
    "    N, M = map(int,input().split())\n",
    "    pr = list(map(int,input().split()))\n",
    "    print(que(N,M, pr))\n"
   ]
  },
  {
   "cell_type": "code",
   "execution_count": null,
   "metadata": {},
   "outputs": [],
   "source": []
  }
 ],
 "metadata": {
  "kernelspec": {
   "display_name": "Python 3",
   "language": "python",
   "name": "python3"
  },
  "language_info": {
   "codemirror_mode": {
    "name": "ipython",
    "version": 3
   },
   "file_extension": ".py",
   "mimetype": "text/x-python",
   "name": "python",
   "nbconvert_exporter": "python",
   "pygments_lexer": "ipython3",
   "version": "3.12.1"
  }
 },
 "nbformat": 4,
 "nbformat_minor": 2
}
