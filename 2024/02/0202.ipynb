{
 "cells": [
  {
   "cell_type": "code",
   "execution_count": null,
   "metadata": {},
   "outputs": [],
   "source": [
    "# 1929 소수 구하기\n",
    "N, M = map(int,input().split())\n",
    "\n",
    "def isPrime(num):\n",
    "    if num == 1:\n",
    "        return False\n",
    "    else:\n",
    "        for i in range(2, int(num**0.5)+1):\n",
    "            if num%i == 0:\n",
    "                return False\n",
    "        return True\n",
    "\n",
    "res = [i for i in range(N,M+1)]\n",
    "\n",
    "        "
   ]
  },
  {
   "cell_type": "code",
   "execution_count": 8,
   "metadata": {},
   "outputs": [
    {
     "name": "stdout",
     "output_type": "stream",
     "text": [
      "[[9, 2], [1, 5], [1, 4], [1, 3], [1, 1], [1, 0]]\n",
      "6\n"
     ]
    }
   ],
   "source": [
    "# 1966 프린터 큐\n",
    "\n",
    "def printQue(N, M, pr:list):\n",
    "    ls = []\n",
    "    for i,v in enumerate(pr):\n",
    "        ls.append([v, i]) # pr, index\n",
    "    ls.sort(key=lambda x: (x[0],x[1]), reverse=True)\n",
    "    print(ls)\n",
    "    for i in range(N):\n",
    "        if ls[i][1] == M:\n",
    "            return i+1\n",
    "\n",
    "    \n",
    "\n",
    "T = int(input())\n",
    "for t in range(T):\n",
    "    N, M = map(int,input().split())\n",
    "    pr = list(map(int,input().split()))\n",
    "    print(printQue(N,M,pr))\n",
    "\n"
   ]
  },
  {
   "cell_type": "code",
   "execution_count": 11,
   "metadata": {},
   "outputs": [
    {
     "name": "stdout",
     "output_type": "stream",
     "text": [
      "5\n"
     ]
    }
   ],
   "source": [
    "# 1966 프린터 큐\n",
    "\n",
    "def printQue(N, M, pr:list):\n",
    "    ls = []\n",
    "    for i,v in enumerate(pr):\n",
    "        ls.append([v, i]) # pr, index\n",
    "    cnt = 1\n",
    "    for i in ls:\n",
    "        if i[0] == max(pr):\n",
    "            if i[1] == M:\n",
    "                return cnt\n",
    "            else:\n",
    "                cnt += 1\n",
    "                pr.remove(i[0])\n",
    "        else:\n",
    "            ls.append(i)\n",
    "\n",
    "    \n",
    "\n",
    "T = int(input())\n",
    "for t in range(T):\n",
    "    N, M = map(int,input().split())\n",
    "    pr = list(map(int,input().split()))\n",
    "    print(printQue(N,M,pr))\n",
    "\n"
   ]
  },
  {
   "cell_type": "code",
   "execution_count": 39,
   "metadata": {},
   "outputs": [
    {
     "name": "stdout",
     "output_type": "stream",
     "text": [
      "-2\n",
      "-2\n",
      "-1\n",
      "2\n"
     ]
    }
   ],
   "source": [
    "# 2108 통계학\n",
    "N = int(input())\n",
    "ls = []\n",
    "for i in range(N):\n",
    "    ls.append(int(input()))\n",
    "print(int(round(sum(ls)/N,0)))\n",
    "ls.sort()\n",
    "print(ls[N//2])\n",
    "rng = ls[-1]-ls[0]\n",
    "fre = list(map(lambda x: [x, ls.count(x)], set(ls)))\n",
    "fre.sort(key=lambda x: (x[1], -x[0]), reverse=True)\n",
    "if len(fre) > 1 and fre[0][1] == fre[1][1]:\n",
    "    print(fre[1][0])\n",
    "else:\n",
    "    print(fre[0][0])\n",
    "print(rng)\n",
    "\n",
    "def most_frequent(data):\n",
    "    return max(data, key=data.count)\n"
   ]
  },
  {
   "cell_type": "code",
   "execution_count": 31,
   "metadata": {},
   "outputs": [
    {
     "data": {
      "text/plain": [
       "[[1, 3], [2, 3], [8, 3], [0, 1]]"
      ]
     },
     "execution_count": 31,
     "metadata": {},
     "output_type": "execute_result"
    }
   ],
   "source": [
    "ls = [8,8,8,2,2,2,1,1,1,0]\n",
    "# ls = list(set(ls))\n",
    "fre = list(map(lambda x: [x, ls.count(x)], set(ls)))\n",
    "# fre.sort(key=lambda x: (x[1], x[0]), reverse=True)\n",
    "fre.sort(key=lambda x: (x[1], -x[0]), reverse=True)\n",
    "fre\n"
   ]
  },
  {
   "cell_type": "code",
   "execution_count": null,
   "metadata": {},
   "outputs": [],
   "source": [
    "import sys\n",
    "data = [i.rstrip('\\n') for i in sys.stdin.readlines()]\n",
    "\n",
    "# 2108 통계학\n",
    "N = int(data[0])\n",
    "ls = []\n",
    "for i in range(N):\n",
    "    ls.append(int(data[1+i]))\n",
    "print(int(round(sum(ls)/N,0)))\n",
    "ls.sort()\n",
    "print(ls[N//2])\n",
    "rng = ls[-1]-ls[0]\n",
    "fre = list(map(lambda x: [x, ls.count(x)], set(ls)))\n",
    "fre.sort(key=lambda x: (x[1], -x[0]), reverse=True)\n",
    "if len(fre) > 1 and fre[0][1] == fre[1][1]:\n",
    "    print(fre[1][0])\n",
    "else:\n",
    "    print(fre[0][0])\n",
    "print(rng)\n",
    "\n",
    "#시간초과 ㅠㅠ\n"
   ]
  },
  {
   "cell_type": "code",
   "execution_count": null,
   "metadata": {},
   "outputs": [],
   "source": [
    "# 다른 사람 답안\n",
    "\n",
    "import sys\n",
    "input=sys.stdin.readline\n",
    "\n",
    "n=int(input())\n",
    "arr=[]\n",
    "\n",
    "for i in range(n):\n",
    "    arr.append(int(input()))\n",
    "\n",
    "arr.sort()#중앙값을 구하기 위해 정렬\n",
    "\n",
    "print(round(sum(arr)/len(arr)))#1) 산술평균\n",
    "print(arr[len(arr)//2])#2) 중앙값\n",
    "\n"
   ]
  },
  {
   "cell_type": "code",
   "execution_count": 48,
   "metadata": {},
   "outputs": [
    {
     "name": "stdout",
     "output_type": "stream",
     "text": [
      "4000\n",
      "4000\n",
      "4000\n",
      "0\n"
     ]
    }
   ],
   "source": [
    "# 2108 통계학\n",
    "\n",
    "import sys\n",
    "input=sys.stdin.readline\n",
    "\n",
    "\n",
    "N = int(input())\n",
    "ls = []\n",
    "for i in range(N):\n",
    "    ls.append(int(input()))\n",
    "print(int(round(sum(ls)/N,0)))\n",
    "ls.sort()\n",
    "print(ls[N//2])\n",
    "rng = ls[-1]-ls[0]\n",
    "my_dict = {}\n",
    "for i in ls:\n",
    "    if i in my_dict:\n",
    "        my_dict[i] += 1\n",
    "    else:\n",
    "        my_dict[i] = 1\n",
    "fre = []\n",
    "maxV = max(my_dict.values())\n",
    "for i in my_dict:\n",
    "    if my_dict[i] == maxV:\n",
    "        fre.append(i)\n",
    "if len(fre) > 1:\n",
    "    print(fre[1])\n",
    "else:\n",
    "    print(fre[0])\n",
    "print(rng)\n"
   ]
  },
  {
   "cell_type": "code",
   "execution_count": 15,
   "metadata": {},
   "outputs": [
    {
     "name": "stdout",
     "output_type": "stream",
     "text": [
      "[1, 2, 3, 4, 5, 6, 7, 8, 9, 10, 11, 12, 13, 14, 15] 1\n",
      "[1, 2, 3, 4, 5, 6, 7, 8, 9, 10, 11, 12, 13, 14, 15, 2] 2\n",
      "[1, 2, 3, 4, 5, 6, 7, 8, 9, 10, 11, 12, 13, 14, 15, 2] 3\n",
      "[1, 2, 3, 4, 5, 6, 7, 8, 9, 10, 11, 12, 13, 14, 15, 2, 4] 4\n",
      "[1, 2, 3, 4, 5, 6, 7, 8, 9, 10, 11, 12, 13, 14, 15, 2, 4] 5\n",
      "[1, 2, 3, 4, 5, 6, 7, 8, 9, 10, 11, 12, 13, 14, 15, 2, 4, 6] 6\n",
      "[1, 2, 3, 4, 5, 6, 7, 8, 9, 10, 11, 12, 13, 14, 15, 2, 4, 6] 7\n",
      "[1, 2, 3, 4, 5, 6, 7, 8, 9, 10, 11, 12, 13, 14, 15, 2, 4, 6, 8] 8\n",
      "[1, 2, 3, 4, 5, 6, 7, 8, 9, 10, 11, 12, 13, 14, 15, 2, 4, 6, 8] 9\n",
      "[1, 2, 3, 4, 5, 6, 7, 8, 9, 10, 11, 12, 13, 14, 15, 2, 4, 6, 8, 10] 10\n",
      "[1, 2, 3, 4, 5, 6, 7, 8, 9, 10, 11, 12, 13, 14, 15, 2, 4, 6, 8, 10] 11\n",
      "[1, 2, 3, 4, 5, 6, 7, 8, 9, 10, 11, 12, 13, 14, 15, 2, 4, 6, 8, 10, 12] 12\n",
      "[1, 2, 3, 4, 5, 6, 7, 8, 9, 10, 11, 12, 13, 14, 15, 2, 4, 6, 8, 10, 12] 13\n",
      "13\n"
     ]
    }
   ],
   "source": [
    "# 2164 카드2\n",
    "\n",
    "# import sys\n",
    "# input = sys.stdin.readline\n",
    "\n",
    "N = int(input())\n",
    "ls = [i for i in range(1,N+1)]\n",
    "temp = 0\n",
    "while ls[temp] != N-1:\n",
    "    if temp % 2 == 0:\n",
    "        pass\n",
    "    else:\n",
    "        ls.append(ls[temp])\n",
    "    temp += 1\n",
    "    print(ls, temp)\n",
    "print(temp)\n"
   ]
  },
  {
   "cell_type": "code",
   "execution_count": 5,
   "metadata": {},
   "outputs": [
    {
     "name": "stdout",
     "output_type": "stream",
     "text": [
      "1\n",
      "2\n",
      "2\n",
      "4\n",
      "2\n",
      "4\n",
      "6\n",
      "8\n",
      "2\n",
      "4\n"
     ]
    }
   ],
   "source": [
    "k = [i for i in range(1,11)]\n",
    "for N in k:\n",
    "    ls = [0 for i in range(1,N+1)]\n",
    "    temp = 0\n",
    "    while True:\n",
    "        \n",
    "    \n",
    "    print(ls[0])"
   ]
  },
  {
   "cell_type": "code",
   "execution_count": 23,
   "metadata": {},
   "outputs": [
    {
     "name": "stdout",
     "output_type": "stream",
     "text": [
      "[1, 2, 3, 4, 5, 6]\n",
      "[2, 4, 6]\n",
      "[2, 4, 6]\n",
      "[4]\n",
      "4\n"
     ]
    }
   ],
   "source": [
    "# 2164 카드2\n",
    "\n",
    "import sys\n",
    "input = sys.stdin.readline\n",
    "\n",
    "N = int(input())\n",
    "ls = [i for i in range(1,N+1)]\n",
    "temp = 0\n",
    "while len(ls) > 1:\n",
    "    new_ls = []\n",
    "    for i in ls:\n",
    "        if temp % 2 == 0:\n",
    "            pass\n",
    "        else:\n",
    "            new_ls.append(i)\n",
    "        temp += 1\n",
    "    ls = new_ls\n",
    "\n",
    "print(ls[0])\n"
   ]
  },
  {
   "cell_type": "code",
   "execution_count": 30,
   "metadata": {},
   "outputs": [
    {
     "name": "stdout",
     "output_type": "stream",
     "text": [
      "1\n",
      "2\n",
      "3\n",
      "4\n",
      "5\n"
     ]
    }
   ],
   "source": [
    "# 2751 수 정렬하기 2\n",
    "# import sys\n",
    "# input = sys.stdin.readline\n",
    "\n",
    "N = int(input())\n",
    "ls = []\n",
    "ls += [int(input()) for i in range(N)]\n",
    "\n",
    "def bubbleSort(ls):\n",
    "    for i in range(len(ls)-1): # 5 = 0 1 2 3 \n",
    "        for j in range(len(ls)-i-1): # 4-i = 0 1 2 3\n",
    "            if ls[j] > ls[j+1]:\n",
    "                ls[j], ls[j+1] = ls[j+1], ls[j]\n",
    "            # print(ls)\n",
    "    return ls\n",
    "\n",
    "print(*bubbleSort(ls), sep='\\n')"
   ]
  },
  {
   "cell_type": "code",
   "execution_count": 31,
   "metadata": {},
   "outputs": [
    {
     "name": "stdout",
     "output_type": "stream",
     "text": [
      "0\n",
      "1\n",
      "2\n",
      "4\n",
      "5\n"
     ]
    }
   ],
   "source": [
    "# 2751 수 정렬하기 2\n",
    "# import sys\n",
    "# input = sys.stdin.readline\n",
    "\n",
    "N = int(input())\n",
    "ls = []\n",
    "ls += [int(input()) for i in range(N)]\n",
    "\n",
    "# def bubbleSort(ls):\n",
    "#     for i in range(len(ls)-1): # 5 = 0 1 2 3 \n",
    "#         for j in range(len(ls)-i-1): # 4-i = 0 1 2 3\n",
    "#             if ls[j] > ls[j+1]:\n",
    "#                 ls[j], ls[j+1] = ls[j+1], ls[j]\n",
    "#             # print(ls)\n",
    "#     return ls\n",
    "\n",
    "ls.sort()\n",
    "\n",
    "print(*ls, sep='\\n')"
   ]
  },
  {
   "cell_type": "code",
   "execution_count": 37,
   "metadata": {},
   "outputs": [
    {
     "name": "stdout",
     "output_type": "stream",
     "text": [
      "1 15\n"
     ]
    }
   ],
   "source": [
    "# 2609 최대공약수와 최소공배수\n",
    "a, b = map(int,input().split())\n",
    "a, b = max(a,b), min(a,b) # a>b\n",
    "temp = b\n",
    "while not (a%temp == 0 and b%temp == 0):\n",
    "    temp -= 1\n",
    "print(temp, a*b//temp)"
   ]
  },
  {
   "cell_type": "code",
   "execution_count": 35,
   "metadata": {},
   "outputs": [
    {
     "data": {
      "text/plain": [
       "72.0"
      ]
     },
     "execution_count": 35,
     "metadata": {},
     "output_type": "execute_result"
    }
   ],
   "source": [
    "24*18/6"
   ]
  },
  {
   "cell_type": "code",
   "execution_count": 39,
   "metadata": {},
   "outputs": [
    {
     "name": "stdout",
     "output_type": "stream",
     "text": [
      "right\n",
      "wrong\n",
      "right\n"
     ]
    }
   ],
   "source": [
    "# 4153 직각삼각형\n",
    "while True:\n",
    "    ls = list(map(int,input().split()))\n",
    "    if sum(ls)==0:\n",
    "        break\n",
    "    ls.sort()\n",
    "    if ls[0]**2 + ls[1] ** 2 == ls[2] ** 2:\n",
    "        print('right')\n",
    "    else: print('wrong')"
   ]
  },
  {
   "cell_type": "code",
   "execution_count": null,
   "metadata": {},
   "outputs": [],
   "source": [
    "# 4949 균형잡힌세상\n",
    "import sys\n",
    "input = sys.stdin.readline\n",
    "\n",
    "s = ['(','[',]\n",
    "e = [')',']',]\n",
    "ls = ['(','[',')',']',]\n",
    "\n",
    "tar = ''.join(input[:-2].split('\\n')).split('.')\n",
    "\n",
    "for i in tar:\n",
    "    if i == '':\n",
    "        break\n",
    "    temp = []\n",
    "    res = 'yes'\n",
    "    for j in i:\n",
    "        if j in s:\n",
    "            temp.append(s.index(j))\n",
    "        elif j in e:\n",
    "            if len(temp) < 1 or temp[-1] not in s or s.index(temp[-1]) != e.index(j):\n",
    "                res = 'no'\n",
    "    print(res)\n"
   ]
  },
  {
   "cell_type": "code",
   "execution_count": 40,
   "metadata": {},
   "outputs": [
    {
     "data": {
      "text/plain": [
       "['a', 'b', 'c']"
      ]
     },
     "execution_count": 40,
     "metadata": {},
     "output_type": "execute_result"
    }
   ],
   "source": [
    "'a.b.c'.split('.')"
   ]
  },
  {
   "cell_type": "code",
   "execution_count": 59,
   "metadata": {},
   "outputs": [
    {
     "data": {
      "text/plain": [
       "['So when I die (the [first] I will see in (heaven) is a score list)',\n",
       " '[ first in ] ( first out )',\n",
       " 'Half Moon tonight (At least it is better than no Moon at all]',\n",
       " 'A rope may form )( a trail in a maze',\n",
       " 'Help( I[m being held prisoner in a fortune cookie factory)]',\n",
       " '([ (([( [ ] ) ( ) (( ))] )) ])',\n",
       " ' ',\n",
       " '']"
      ]
     },
     "execution_count": 59,
     "metadata": {},
     "output_type": "execute_result"
    }
   ],
   "source": [
    "a = '''\n",
    "So when I die (the [first] I will see in (heaven) is a score list).\n",
    "[ first in ] ( first out ).\n",
    "Half Moon tonight (At least it is better than no Moon at all].\n",
    "A rope may form )( a trail in a maze.\n",
    "Help( I[m being held prisoner in a fortune cookie factory)].\n",
    "([ (([( [ ] ) ( ) (( ))] )) ]).\n",
    " .\n",
    ".\n",
    "'''\n",
    "\n",
    "\n",
    "''.join(a[:-2].split('\\n')).split('.')\n",
    "# [x.strip('\\n') for x in a.split('\\n')]\n",
    "\n",
    "# 'abc'.strip('c')"
   ]
  },
  {
   "cell_type": "code",
   "execution_count": 49,
   "metadata": {},
   "outputs": [
    {
     "ename": "TypeError",
     "evalue": "str.join() takes exactly one argument (0 given)",
     "output_type": "error",
     "traceback": [
      "\u001b[1;31m---------------------------------------------------------------------------\u001b[0m",
      "\u001b[1;31mTypeError\u001b[0m                                 Traceback (most recent call last)",
      "Cell \u001b[1;32mIn[49], line 1\u001b[0m\n\u001b[1;32m----> 1\u001b[0m \u001b[38;5;124;43m'\u001b[39;49m\u001b[38;5;124;43m[1,2,3]\u001b[39;49m\u001b[38;5;124;43m'\u001b[39;49m\u001b[38;5;241;43m.\u001b[39;49m\u001b[43mjoin\u001b[49m\u001b[43m(\u001b[49m\u001b[43m)\u001b[49m\n",
      "\u001b[1;31mTypeError\u001b[0m: str.join() takes exactly one argument (0 given)"
     ]
    }
   ],
   "source": [
    "'[1,2,3]'.join()"
   ]
  },
  {
   "cell_type": "code",
   "execution_count": 78,
   "metadata": {},
   "outputs": [
    {
     "name": "stdout",
     "output_type": "stream",
     "text": [
      "no\n",
      "no\n",
      "no\n",
      "no\n",
      "no\n",
      "no\n",
      "yes\n"
     ]
    }
   ],
   "source": [
    "a='''So when I die (the [first] I will see in (heaven) is a score list).\n",
    "[ first in ] ( first out ).\n",
    "Half Moon tonight (At least it is better than no Moon at all].\n",
    "A rope may form )( a trail in a maze.\n",
    "Help( I[m being held prisoner in a fortune cookie factory)].\n",
    "([ (([( [ ] ) ( ) (( ))] )) ]).\n",
    " .\n",
    ".'''\n",
    "\n",
    "s = ['(','[',]\n",
    "e = [')',']',]\n",
    "ls = ['(','[',')',']',]\n",
    "\n",
    "tar = ''.join(a[:-2].split('\\n')).split('.')\n",
    "tar = tar[:-1]\n",
    "\n",
    "for i in tar:\n",
    "    # if i == '':\n",
    "    #     break\n",
    "    temp = []\n",
    "    res = 'yes'\n",
    "    for j in i:\n",
    "        if j in s:\n",
    "            temp.append(s.index(j))\n",
    "        elif j in e:\n",
    "            if len(temp) > 0 and temp[-1] == e.index(j):\n",
    "                temp.pop()\n",
    "            if len(temp) < 1 or temp[-1] != e.index(j):\n",
    "                res = 'no'\n",
    "                # print(i, j)\n",
    "        # print(temp)\n",
    "    print(res)\n"
   ]
  },
  {
   "cell_type": "code",
   "execution_count": 89,
   "metadata": {},
   "outputs": [
    {
     "name": "stdout",
     "output_type": "stream",
     "text": [
      "yes\n",
      "yes\n",
      "no\n",
      "no\n",
      "no\n",
      "yes\n",
      "yes\n"
     ]
    }
   ],
   "source": [
    "a='''So when I die (the [first] I will see in (heaven) is a score list).\n",
    "[ first in ] ( first out ).\n",
    "Half Moon tonight (At least it is better than no Moon at all].\n",
    "A rope may form )( a trail in a maze.\n",
    "Help( I[m being held prisoner in a fortune cookie factory)].\n",
    "([ (([( [ ] ) ( ) (( ))] )) ]).\n",
    " .\n",
    ".'''\n",
    "\n",
    "tar = ''.join(a[:-2].split('\\n')).split('.')\n",
    "tar = tar[:-1]\n",
    "\n",
    "\n",
    "\n",
    "# ['So when I die (the [first] I will see in (heaven) is a score list)',\n",
    "#  '[ first in ] ( first out )',\n",
    "#  'Half Moon tonight (At least it is better than no Moon at all]',\n",
    "#  'A rope may form )( a trail in a maze',\n",
    "#  'Help( I[m being held prisoner in a fortune cookie factory)]',\n",
    "#  '([ (([( [ ] ) ( ) (( ))] )) ])',\n",
    "#  ' ']\n",
    "\n",
    "s = ['(','[',]\n",
    "e = [')',']',]\n",
    "ls = ['(','[',')',']',]\n",
    "\n",
    "    \n",
    "\n",
    "for line in tar:\n",
    "    temp = []\n",
    "    res= True\n",
    "    for char in line:\n",
    "        if char in ls:\n",
    "            if char == '(' or char == '[':\n",
    "                temp.append(char)\n",
    "            elif char == ')':\n",
    "                if len(temp)>0 and temp[-1]=='(':\n",
    "                    temp.pop()\n",
    "                else:\n",
    "                    res = False\n",
    "            elif char == ']':\n",
    "                if len(temp)>0 and temp[-1]=='[':\n",
    "                    temp.pop()\n",
    "                else:\n",
    "                    res = False\n",
    "    if res and len(temp) == 0:\n",
    "        print('yes')\n",
    "    else:\n",
    "        print('no')\n"
   ]
  },
  {
   "cell_type": "code",
   "execution_count": null,
   "metadata": {},
   "outputs": [],
   "source": [
    "a = input()\n",
    "\n",
    "tar = ''.join(a[:-2].split('\\n')).split('.')\n",
    "tar = tar[:-1]\n",
    "\n",
    "ls = ['(','[',')',']',]\n",
    "\n",
    "    \n",
    "\n",
    "for line in tar:\n",
    "    temp = []\n",
    "    res= True\n",
    "    for char in line:\n",
    "        if char in ls:\n",
    "            if char == '(' or char == '[':\n",
    "                temp.append(char)\n",
    "            elif char == ')':\n",
    "                if len(temp)>0 and temp[-1]=='(':\n",
    "                    temp.pop()\n",
    "                else:\n",
    "                    res = False\n",
    "            elif char == ']':\n",
    "                if len(temp)>0 and temp[-1]=='[':\n",
    "                    temp.pop()\n",
    "                else:\n",
    "                    res = False\n",
    "    if res and len(temp) == 0:\n",
    "        print('yes')\n",
    "    else:\n",
    "        print('no')\n"
   ]
  },
  {
   "cell_type": "code",
   "execution_count": 2,
   "metadata": {},
   "outputs": [
    {
     "name": "stdout",
     "output_type": "stream",
     "text": [
      "yes\n"
     ]
    }
   ],
   "source": [
    "ls = ['(','[',')',']',]\n",
    "\n",
    "while True :\n",
    "    a = input()\n",
    "    if a == '.':\n",
    "        break\n",
    "    temp = []\n",
    "    res= True\n",
    "    for char in a:\n",
    "        if char in ls:\n",
    "            if char == '(' or char == '[':\n",
    "                temp.append(char)\n",
    "            elif char == ')':\n",
    "                if len(temp)>0 and temp[-1]=='(':\n",
    "                    temp.pop()\n",
    "                else:\n",
    "                    res = False\n",
    "            elif char == ']':\n",
    "                if len(temp)>0 and temp[-1]=='[':\n",
    "                    temp.pop()\n",
    "                else:\n",
    "                    res = False\n",
    "    if res and len(temp) == 0:\n",
    "        print('yes')\n",
    "    else:\n",
    "        print('no')"
   ]
  },
  {
   "cell_type": "code",
   "execution_count": 5,
   "metadata": {},
   "outputs": [
    {
     "name": "stdout",
     "output_type": "stream",
     "text": [
      "2\n",
      "2\n",
      "1\n",
      "2\n",
      "5\n"
     ]
    }
   ],
   "source": [
    "#7568 덩치\n",
    "N = int(input())\n",
    "ls = []\n",
    "for i in range(N):\n",
    "    ls.append(list(map(int,input().split())))\n",
    "for i in range(N):\n",
    "    cnt = 1\n",
    "    for j in range(N):\n",
    "        if i == j:\n",
    "            continue\n",
    "        if ls[i][0] < ls[j][0] and ls[i][1] < ls[j][1]:\n",
    "            cnt += 1\n",
    "    print(cnt)"
   ]
  },
  {
   "cell_type": "code",
   "execution_count": 7,
   "metadata": {},
   "outputs": [
    {
     "name": "stdout",
     "output_type": "stream",
     "text": [
      "NO\n"
     ]
    }
   ],
   "source": [
    "# 9012 괄호\n",
    "T = int(input())\n",
    "for _ in range(T):\n",
    "    k = input()\n",
    "    stack = []\n",
    "    temp = True\n",
    "    for i in k:\n",
    "        if i == '(':\n",
    "            stack.append(i)\n",
    "        else: # ')'\n",
    "            if stack and stack[-1] == '(':\n",
    "                stack.pop()\n",
    "            else:\n",
    "                temp = False\n",
    "                break\n",
    "    if not stack and temp:\n",
    "        print('YES')\n",
    "    else:\n",
    "        print('NO')\n"
   ]
  },
  {
   "cell_type": "code",
   "execution_count": 11,
   "metadata": {},
   "outputs": [
    {
     "name": "stdout",
     "output_type": "stream",
     "text": [
      "7\n"
     ]
    }
   ],
   "source": [
    "# 10773 제로\n",
    "K = int(input())\n",
    "ls = []\n",
    "for i in range(K):\n",
    "    a = int(input())\n",
    "    if a == 0:\n",
    "        ls.pop()\n",
    "    else:\n",
    "        ls.append(a)\n",
    "print(sum(ls))"
   ]
  },
  {
   "cell_type": "code",
   "execution_count": 13,
   "metadata": {},
   "outputs": [
    {
     "name": "stdout",
     "output_type": "stream",
     "text": [
      "20 asddd\n",
      "21 ddd\n",
      "21 asd\n"
     ]
    }
   ],
   "source": [
    "# 10814\n",
    "T = int(input())\n",
    "ls = []\n",
    "for t in range(T):\n",
    "    # ls.append(list(map(lambda x: x,input().split())))\n",
    "    ls.append(input().split())\n",
    "ls.sort(key=lambda x: int(x[0]))\n",
    "for i in ls:\n",
    "    print(*i)\n"
   ]
  },
  {
   "cell_type": "code",
   "execution_count": 16,
   "metadata": {},
   "outputs": [
    {
     "name": "stdout",
     "output_type": "stream",
     "text": [
      "3 0 0 1 2 0 0 2 "
     ]
    }
   ],
   "source": [
    "#10816 숫자카드2\n",
    "N = int(input())\n",
    "ls = list(map(int,input().split()))\n",
    "dic = {}\n",
    "for i in ls:\n",
    "    if i in dic:\n",
    "        dic[i] += 1\n",
    "    else:\n",
    "        dic[i] = 1\n",
    "M = int(input())\n",
    "lsM = list(map(int,input().split()))\n",
    "for i in lsM:\n",
    "    print(dic.setdefault(i,0), end=' ')"
   ]
  },
  {
   "cell_type": "code",
   "execution_count": 7,
   "metadata": {},
   "outputs": [],
   "source": [
    "# 10845 큐\n",
    "import sys\n",
    "input = sys.stdin.readline\n",
    "\n",
    "N = int(input())\n",
    "q = []\n",
    "for i in range(N):\n",
    "    a = list(input().split())\n",
    "    if a[0] == 'push':\n",
    "        q.append(int(a[1]))\n",
    "    elif a[0] == 'pop':\n",
    "        if q:\n",
    "            print(q[0])\n",
    "            q.pop(0)\n",
    "        else:\n",
    "            print(-1)\n",
    "    elif a[0] == 'size':\n",
    "        print(len(q))\n",
    "    elif a[0] == 'empty':\n",
    "        if q:\n",
    "            print(0)\n",
    "        else:\n",
    "            print(1)\n",
    "    elif a[0] == 'front':\n",
    "        if q:\n",
    "            print(q[0])\n",
    "        else:\n",
    "            print(-1)\n",
    "    else:\n",
    "    # elif a[0] == 'back':\n",
    "        if q:\n",
    "            print(q[-1])\n",
    "        else:\n",
    "            print(-1)\n",
    "    # print(q)\n"
   ]
  },
  {
   "cell_type": "code",
   "execution_count": null,
   "metadata": {},
   "outputs": [],
   "source": [
    "# 10866 덱\n",
    "\n",
    "import sys\n",
    "input = sys.stdin.readline\n",
    "\n",
    "N = int(input())\n",
    "q = []\n",
    "for i in range(N):\n",
    "    a = list(input().split())\n",
    "    if a[0] == 'push_front':\n",
    "        q.insert(0,int(a[1]))\n",
    "    elif a[0] == 'push_back':\n",
    "        q.append(int(a[1]))\n",
    "    elif a[0] == 'pop_front':\n",
    "        if q:\n",
    "            print(q[0])\n",
    "            q.pop(0)\n",
    "        else:\n",
    "            print(-1)\n",
    "    elif a[0] == 'pop_back':\n",
    "        if q:\n",
    "            print(q[-1])\n",
    "            q.pop(-1)\n",
    "        else:\n",
    "            print(-1)\n",
    "    elif a[0] == 'size':\n",
    "        print(len(q))\n",
    "    elif a[0] == 'empty':\n",
    "        if q:\n",
    "            print(0)\n",
    "        else:\n",
    "            print(1)\n",
    "    elif a[0] == 'front':\n",
    "        if q:\n",
    "            print(q[0])\n",
    "        else:\n",
    "            print(-1)\n",
    "    else:\n",
    "    # elif a[0] == 'back':\n",
    "        if q:\n",
    "            print(q[-1])\n",
    "        else:\n",
    "            print(-1)\n",
    "    # print(q)"
   ]
  },
  {
   "cell_type": "code",
   "execution_count": 1,
   "metadata": {},
   "outputs": [
    {
     "name": "stdout",
     "output_type": "stream",
     "text": [
      "7\n",
      "5\n",
      "5\n",
      "4\n",
      "3\n",
      "3\n",
      "2\n",
      "2\n",
      "1\n",
      "1\n"
     ]
    }
   ],
   "source": [
    "# 10989 수 정렬하기3\n",
    "\n",
    "import sys\n",
    "input = sys.stdin.readline\n",
    "\n",
    "ls = []\n",
    "N = int(input())\n",
    "for _ in range(N):\n",
    "    ls.append(int(input()))\n",
    "ls.sort()\n",
    "print(*ls, sep='\\n')"
   ]
  },
  {
   "cell_type": "code",
   "execution_count": null,
   "metadata": {},
   "outputs": [],
   "source": [
    "# 2564 경비원\n",
    "N, M = map(int,input().split())\n",
    "k = int(input())\n",
    "ls = []\n",
    "for _ in range(k+1):\n",
    "    a,b = map(int,input().split())\n",
    "    if a == 1:\n",
    "        ls.append((b,0))\n",
    "    elif a == 2:\n",
    "        ls.append((b,M))\n",
    "    elif a == 3:\n",
    "        ls.append((0,b))\n",
    "    else:\n",
    "        ls.append((N,b))\n",
    "\n",
    "x,y = ls.pop()\n",
    "ls.sort(key=lambda )"
   ]
  }
 ],
 "metadata": {
  "kernelspec": {
   "display_name": "Python 3",
   "language": "python",
   "name": "python3"
  },
  "language_info": {
   "codemirror_mode": {
    "name": "ipython",
    "version": 3
   },
   "file_extension": ".py",
   "mimetype": "text/x-python",
   "name": "python",
   "nbconvert_exporter": "python",
   "pygments_lexer": "ipython3",
   "version": "3.12.1"
  }
 },
 "nbformat": 4,
 "nbformat_minor": 2
}
