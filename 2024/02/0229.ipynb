{
 "cells": [
  {
   "cell_type": "code",
   "execution_count": null,
   "metadata": {},
   "outputs": [],
   "source": [
    "# 오답 !!\n",
    "# 반례 a    a\n",
    "# 정답 A    A\n",
    "# 출력 A A\n",
    "def solution(s):\n",
    "    answer = ''\n",
    "    for i in s.split():\n",
    "        for j,v in enumerate(i):\n",
    "            if j%2:\n",
    "                answer+=v.lower()\n",
    "            else:\n",
    "                answer+=v.upper()\n",
    "        answer+=' '\n",
    "    answer = answer.rstrip()\n",
    "    return answer\n",
    "\n",
    "\n",
    "# 정답\n",
    "def solution(s):\n",
    "    answer = ''\n",
    "    cnt = 0\n",
    "    for i in s:\n",
    "        if i == ' ':\n",
    "            cnt = 0\n",
    "        else:\n",
    "            if cnt%2:\n",
    "                i = i.lower()\n",
    "            else:\n",
    "                i = i.upper()\n",
    "            cnt+=1\n",
    "        answer+=i\n",
    "    return answer"
   ]
  },
  {
   "cell_type": "code",
   "execution_count": 5,
   "metadata": {},
   "outputs": [
    {
     "data": {
      "text/plain": [
       "[[0, 0, 0, 4, 3],\n",
       " [0, 0, 2, 2, 5],\n",
       " [0, 1, 5, 4, 1],\n",
       " [0, 0, 0, 4, 3],\n",
       " [0, 3, 1, 2, 1]]"
      ]
     },
     "execution_count": 5,
     "metadata": {},
     "output_type": "execute_result"
    }
   ],
   "source": [
    "a  = [[0,0,0,0,0],[0,0,1,0,3],[0,2,5,0,1],[4,2,4,4,2],[3,5,1,3,1]]\n",
    "\n",
    "ta = list(map(list,zip(*a)))\n",
    "\n",
    "ta"
   ]
  },
  {
   "cell_type": "code",
   "execution_count": 7,
   "metadata": {},
   "outputs": [
    {
     "data": {
      "text/plain": [
       "4"
      ]
     },
     "execution_count": 7,
     "metadata": {},
     "output_type": "execute_result"
    }
   ],
   "source": [
    "def solution(board, moves):\n",
    "    answer = 0\n",
    "    # transpose\n",
    "    tb = list(map(list,zip(*board)))\n",
    "    st = []\n",
    "\n",
    "    for i in moves:\n",
    "        i -= 1 # index\n",
    "        while True:\n",
    "            if not tb[i]: # empty\n",
    "                break\n",
    "            top = tb[i].pop(0)\n",
    "            if top: # not zero\n",
    "                if st and st[-1]==top: # not empty and same\n",
    "                    st.pop()\n",
    "                    answer += 2\n",
    "                else:\n",
    "                    st.append(top)\n",
    "                break\n",
    "            \n",
    "    return answer\n",
    "\n",
    "board,moves = [[0, 0, 0, 0, 0], [0, 0, 1, 0, 3], [0, 2, 5, 0, 1], [4, 2, 4, 4, 2], [3, 5, 1, 3, 1]], [1, 5, 3, 5, 1, 2, 1, 4]\n",
    "solution(board,moves)"
   ]
  },
  {
   "cell_type": "code",
   "execution_count": 12,
   "metadata": {},
   "outputs": [
    {
     "name": "stdout",
     "output_type": "stream",
     "text": [
      "0 0\n",
      "1 1\n",
      "2 2\n",
      "3 2\n",
      "[2]\n"
     ]
    }
   ],
   "source": [
    "def dfs(idx, cnt):\n",
    "    print(idx,cnt)\n",
    "    if idx==len(reserve):\n",
    "        cand.append(cnt)\n",
    "        return\n",
    "    done = [0] * len(reserve)\n",
    "    if reserve[idx] in lost:\n",
    "        done[idx] = 1\n",
    "        dfs(idx+1, cnt+1)\n",
    "    else:\n",
    "        if reserve[idx]+1 in lost:\n",
    "            done[idx] = 1\n",
    "            lost.remove(reserve[idx]+1)\n",
    "            dfs(idx+1, cnt+1)\n",
    "            lost.append(reserve[idx]+1)\n",
    "        if reserve[idx]-1 in lost:\n",
    "            done[idx] = 1\n",
    "            lost.remove(reserve[idx]-1)\n",
    "            dfs(idx+1, cnt+1)\n",
    "            lost.append(reserve[idx]-1)\n",
    "        if reserve[idx]+1 not in lost and reserve[idx]-1 not in lost:\n",
    "            dfs(idx+1, cnt)\n",
    "n=5 \n",
    "lost = [2,4]\n",
    "reserve = [1,3,5]\n",
    "cand = []\n",
    "dfs(0,0)\n",
    "print(cand)"
   ]
  },
  {
   "cell_type": "code",
   "execution_count": 16,
   "metadata": {},
   "outputs": [
    {
     "data": {
      "text/plain": [
       "2"
      ]
     },
     "execution_count": 16,
     "metadata": {},
     "output_type": "execute_result"
    }
   ],
   "source": [
    "def solution(n, lost, reserve):\n",
    "    answer = 0\n",
    "    \n",
    "    \n",
    "    def dfs(idx, cnt):\n",
    "        if idx==len(reserve):\n",
    "            cand.append(cnt)\n",
    "            return\n",
    "        done = [0] * len(reserve)\n",
    "        if reserve[idx] in lost:\n",
    "            done[idx] = 1\n",
    "            dfs(idx+1, cnt+1)\n",
    "        else:\n",
    "            if reserve[idx]+1 in lost:\n",
    "                done[idx] = 1\n",
    "                lost.remove(reserve[idx]+1)\n",
    "                dfs(idx+1, cnt+1)\n",
    "                lost.append(reserve[idx]+1)\n",
    "            if reserve[idx]-1 in lost:\n",
    "                done[idx] = 1\n",
    "                lost.remove(reserve[idx]-1)\n",
    "                dfs(idx+1, cnt+1)\n",
    "                lost.append(reserve[idx]-1)\n",
    "            if reserve[idx]+1 not in lost and reserve[idx]-1 not in lost:\n",
    "                dfs(idx+1, cnt)\n",
    "    cand = [0]\n",
    "    dfs(0,0)\n",
    "    answer=n-len(lost)+max(cand)\n",
    "    \n",
    "    return answer\n",
    "\n",
    "# solution(5,[2,4],[1,3,5])\n",
    "solution(3,[3],[1])"
   ]
  },
  {
   "cell_type": "code",
   "execution_count": 31,
   "metadata": {},
   "outputs": [
    {
     "data": {
      "text/plain": [
       "5"
      ]
     },
     "execution_count": 31,
     "metadata": {},
     "output_type": "execute_result"
    }
   ],
   "source": [
    "def solution(n, lost, reserve):\n",
    "    newlost = [i for i in lost if i not in reserve]\n",
    "    newreserve = [i for i in reserve if i not in lost]\n",
    "    answer = n - len(newlost)\n",
    "\n",
    "    templost = newlost[:]\n",
    "    tempreserve = newreserve[:]\n",
    "    tempanswer = answer\n",
    "    cand = []\n",
    "\n",
    "    for i in newreserve:\n",
    "        if i+1 in newlost:\n",
    "            answer+=1\n",
    "            newlost.remove(i+1)\n",
    "        elif i-1 in newlost:\n",
    "            answer+=1\n",
    "            newlost.remove(i-1)\n",
    "    cand.append(answer)\n",
    "    for i in tempreserve:\n",
    "        if i-1 in templost:\n",
    "            tempanswer+=1\n",
    "            templost.remove(i-1)\n",
    "        elif i+1 in templost:\n",
    "            tempanswer+=1\n",
    "            templost.remove(i+1)\n",
    "    cand.append(tempanswer)\n",
    "    return max(cand)\n",
    "    \n",
    "\n",
    "# solution(5,[4,2],[5,3])\n",
    "# solution(5,[4,5],[3,4])\n",
    "solution(5,[4,2],[3,5])"
   ]
  },
  {
   "cell_type": "code",
   "execution_count": 42,
   "metadata": {},
   "outputs": [
    {
     "name": "stdout",
     "output_type": "stream",
     "text": [
      "{0.125: [1], 0.42857142857142855: [2], 0.5: [3, 4], 0.0: [5]}\n",
      "{1.0: [1], 0: [2, 3, 4]}\n"
     ]
    },
    {
     "data": {
      "text/plain": [
       "[1, 2, 3, 4]"
      ]
     },
     "execution_count": 42,
     "metadata": {},
     "output_type": "execute_result"
    }
   ],
   "source": [
    "# fail rate\n",
    "def solution(N, stages):\n",
    "    answer = []\n",
    "    cnt = [0] * (N+2)                         # N+1 stage: clear\n",
    "    total = len(stages)\n",
    "    for i in stages:\n",
    "        cnt[i] += 1\n",
    "    d = {}                                    # prob : [stages]\n",
    "    idx = 1                                   # idx for stage\n",
    "    while idx<N+1:\n",
    "        fail = cnt[idx]/total if total else 0 # 4, [1,1,1,1] -> zero div\n",
    "        if d.get(fail):\n",
    "            d[fail].append(idx)\n",
    "        else:\n",
    "            d[fail] = [idx]\n",
    "        total -= cnt[idx]\n",
    "        idx += 1\n",
    "    # print(d)\n",
    "    probs = sorted([i for i in d.keys()],reverse=True)\n",
    "    for j in probs:\n",
    "        answer.extend(sorted(d[j]))\n",
    "    return answer\n",
    "\n",
    "solution(5, [2, 1, 2, 6, 2, 4, 3, 3])\n",
    "solution(4, [1,1,1,1,1])"
   ]
  },
  {
   "cell_type": "code",
   "execution_count": null,
   "metadata": {},
   "outputs": [],
   "source": [
    "# keypad\n",
    "\n",
    "def solution(numbers, hand):\n",
    "    answer = ''\n",
    "    d = {\n",
    "        1:(0,0),\n",
    "        2:(0,1),\n",
    "        3:(0,2),\n",
    "        4:(1,0),\n",
    "        5:(1,1),\n",
    "        6:(1,2),\n",
    "        7:(2,0),\n",
    "        8:(2,1),\n",
    "        9:(2,2),\n",
    "        0:(3,1),\n",
    "    }\n",
    "    # init\n",
    "    l = (3,0)\n",
    "    r = (3,2)\n",
    "\n",
    "    def cal(l,r,num,hand):\n",
    "        lr,lc= l\n",
    "        rr,rc= r\n",
    "        nr,nc=d[num]\n",
    "        ldis = abs(lr-nr) + abs(lc-nc)\n",
    "        rdis = abs(rr-nr) + abs(rc-nc)\n",
    "        res = 0\n",
    "        if ldis<rdis: res='left'\n",
    "        elif rdis<ldis: res='right'\n",
    "        else: res=hand\n",
    "        return res\n",
    "    \n",
    "    for i in numbers:\n",
    "        if i in [1,4,7]:\n",
    "            answer+='L'\n",
    "            l = d[i]\n",
    "        elif i in [3,6,9]:\n",
    "            answer+='R'\n",
    "            r = d[i]\n",
    "        else:\n",
    "            # dis\n",
    "            res = cal(l,r,i,hand)\n",
    "            if res=='right':\n",
    "                answer+='R'\n",
    "                r = d[i]\n",
    "            else:\n",
    "                answer+='L'\n",
    "                l = d[i]\n",
    "    return answer\n",
    "\n"
   ]
  }
 ],
 "metadata": {
  "kernelspec": {
   "display_name": "Python 3",
   "language": "python",
   "name": "python3"
  },
  "language_info": {
   "codemirror_mode": {
    "name": "ipython",
    "version": 3
   },
   "file_extension": ".py",
   "mimetype": "text/x-python",
   "name": "python",
   "nbconvert_exporter": "python",
   "pygments_lexer": "ipython3",
   "version": "3.9.13"
  }
 },
 "nbformat": 4,
 "nbformat_minor": 2
}
