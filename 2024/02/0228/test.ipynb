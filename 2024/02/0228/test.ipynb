{
 "cells": [
  {
   "cell_type": "code",
   "execution_count": 3,
   "metadata": {},
   "outputs": [
    {
     "data": {
      "text/plain": [
       "'ASDASD'"
      ]
     },
     "execution_count": 3,
     "metadata": {},
     "output_type": "execute_result"
    }
   ],
   "source": [
    "a = 'ASDASD'\n",
    "a.lower()\n",
    "\n",
    "a.strip('A')\n",
    "a"
   ]
  },
  {
   "cell_type": "code",
   "execution_count": 4,
   "metadata": {},
   "outputs": [
    {
     "data": {
      "text/plain": [
       "26"
      ]
     },
     "execution_count": 4,
     "metadata": {},
     "output_type": "execute_result"
    }
   ],
   "source": [
    "len('abcdefghijklmnopqrstuwvxyz')"
   ]
  },
  {
   "cell_type": "code",
   "execution_count": 9,
   "metadata": {},
   "outputs": [
    {
     "name": "stdout",
     "output_type": "stream",
     "text": [
      "4\n",
      "6\n",
      "8\n",
      "10\n",
      "9\n"
     ]
    }
   ],
   "source": [
    "n = 10\n",
    "checked = set()\n",
    "for i in range(2,n+1):\n",
    "    for j in range(i*2,n+1,i):\n",
    "        if j not in checked:\n",
    "            checked.add(j)\n",
    "            print(j)"
   ]
  },
  {
   "cell_type": "code",
   "execution_count": 10,
   "metadata": {},
   "outputs": [
    {
     "ename": "IndexError",
     "evalue": "pop from empty list",
     "output_type": "error",
     "traceback": [
      "\u001b[1;31m---------------------------------------------------------------------------\u001b[0m",
      "\u001b[1;31mIndexError\u001b[0m                                Traceback (most recent call last)",
      "Cell \u001b[1;32mIn[10], line 2\u001b[0m\n\u001b[0;32m      1\u001b[0m ls \u001b[38;5;241m=\u001b[39m []\n\u001b[1;32m----> 2\u001b[0m \u001b[43mls\u001b[49m\u001b[38;5;241;43m.\u001b[39;49m\u001b[43mpop\u001b[49m\u001b[43m(\u001b[49m\u001b[43m)\u001b[49m\n",
      "\u001b[1;31mIndexError\u001b[0m: pop from empty list"
     ]
    }
   ],
   "source": [
    "ls = []\n",
    "ls.pop()"
   ]
  },
  {
   "cell_type": "code",
   "execution_count": 14,
   "metadata": {},
   "outputs": [
    {
     "data": {
      "text/plain": [
       "9"
      ]
     },
     "execution_count": 14,
     "metadata": {},
     "output_type": "execute_result"
    }
   ],
   "source": [
    "def solution(dartResult):\n",
    "    answer = 0\n",
    "    score = []\n",
    "    d = {\n",
    "        'S':1,\n",
    "        'D':2,\n",
    "        'T':3,\n",
    "        '*':2,\n",
    "        '#':-1,\n",
    "    }\n",
    "    for i in dartResult:\n",
    "        if i.isdigit():\n",
    "            if i == \"0\" and score and score[-1] == 1:\n",
    "                score.pop()\n",
    "                score.append(10)\n",
    "            else:\n",
    "                score.append(int(i))\n",
    "        elif i in 'SDT':\n",
    "            curr = score.pop()\n",
    "            score.append(curr**d[i])\n",
    "        elif i in '*#':\n",
    "            curr = score.pop()\n",
    "            if score:\n",
    "                prev = score.pop()\n",
    "                if i == '*':\n",
    "                    score.append(prev*d[i])\n",
    "                else:\n",
    "                    score.append(prev)\n",
    "            score.append(curr*d[i])\n",
    "            \n",
    "    answer=sum(score)\n",
    "            \n",
    "            \n",
    "    return answer\n",
    "solution(\"1D2S#10S\")"
   ]
  },
  {
   "cell_type": "code",
   "execution_count": null,
   "metadata": {},
   "outputs": [],
   "source": []
  }
 ],
 "metadata": {
  "kernelspec": {
   "display_name": "Python 3",
   "language": "python",
   "name": "python3"
  },
  "language_info": {
   "codemirror_mode": {
    "name": "ipython",
    "version": 3
   },
   "file_extension": ".py",
   "mimetype": "text/x-python",
   "name": "python",
   "nbconvert_exporter": "python",
   "pygments_lexer": "ipython3",
   "version": "3.9.13"
  }
 },
 "nbformat": 4,
 "nbformat_minor": 2
}
