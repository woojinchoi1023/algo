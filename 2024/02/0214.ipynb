{
 "cells": [
  {
   "cell_type": "code",
   "execution_count": 7,
   "metadata": {},
   "outputs": [
    {
     "name": "stdout",
     "output_type": "stream",
     "text": [
      "0\n",
      "0\n",
      "4\n",
      "8\n",
      "14\n",
      "20\n",
      "26\n",
      "32\n",
      "42\n",
      "15 50\n",
      "14 58\n",
      "13 66\n",
      "12 74\n",
      "11 82\n",
      "10 90\n",
      "9 98\n"
     ]
    }
   ],
   "source": [
    "# 2304 창고 다각형\n",
    "N = int(input())\n",
    "ls = [0] * 1001\n",
    "\n",
    "mx = mxL = 0\n",
    "for n in range(N):\n",
    "    L, H = map(int, input().split())\n",
    "    ls[L] = H\n",
    "    if mx<H:\n",
    "        mx = H\n",
    "        mxL = L\n",
    "c = 0\n",
    "temp = 0\n",
    "for i in range(0, mxL+1):\n",
    "    if ls[i] > temp:\n",
    "        temp = ls[i]\n",
    "    c += temp\n",
    "temp = 0\n",
    "for i in range(1000, mxL, -1):\n",
    "    if ls[i] > temp:\n",
    "        temp = ls[i]\n",
    "    c += temp\n",
    "print(c)"
   ]
  },
  {
   "cell_type": "code",
   "execution_count": null,
   "metadata": {},
   "outputs": [],
   "source": [
    "# 10158 개미\n",
    "w, h = map(int,input().split())\n",
    "p, q = map(int,input().split())\n",
    "t = int(input())\n",
    "\n",
    "dp, dq = t%(2*w), t%(2*h)\n",
    "p ,q  = p + dp, q + dq\n",
    "if 2*w<p:\n",
    "    p -= 2*w\n",
    "elif w<p<=2*w:\n",
    "    p = w-(p-w)\n",
    "if 2*h<q: \n",
    "    q -= 2*h\n",
    "elif h<q:\n",
    "    q = h-(q-h)\n",
    "print(p, q)\n",
    "\n",
    "\n"
   ]
  },
  {
   "cell_type": "code",
   "execution_count": 35,
   "metadata": {},
   "outputs": [
    {
     "name": "stdout",
     "output_type": "stream",
     "text": [
      "4 1\n"
     ]
    }
   ],
   "source": [
    "# 10158 개미\n",
    "w, h = map(int,input().split())\n",
    "p, q = map(int,input().split())\n",
    "t = int(input())\n",
    "\n",
    "dp, dq = t%(2*w), t%(2*h)\n",
    "p ,q  = p + dp, q + dq\n",
    "if p > w:\n",
    "    p = 2 * w - p\n",
    "if p < 0:\n",
    "    p = -p\n",
    "\n",
    "if q > h:\n",
    "    q = 2 * h - q\n",
    "if q < 0:\n",
    "    q = -q\n",
    "\n",
    "print(p, q)\n",
    "\n",
    "\n"
   ]
  },
  {
   "cell_type": "code",
   "execution_count": 53,
   "metadata": {},
   "outputs": [
    {
     "ename": "ValueError",
     "evalue": "not enough values to unpack (expected 2, got 0)",
     "output_type": "error",
     "traceback": [
      "\u001b[1;31m---------------------------------------------------------------------------\u001b[0m",
      "\u001b[1;31mValueError\u001b[0m                                Traceback (most recent call last)",
      "Cell \u001b[1;32mIn[53], line 2\u001b[0m\n\u001b[0;32m      1\u001b[0m \u001b[38;5;66;03m# 2559 수열\u001b[39;00m\n\u001b[1;32m----> 2\u001b[0m N, K \u001b[38;5;241m=\u001b[39m \u001b[38;5;28mmap\u001b[39m(\u001b[38;5;28mint\u001b[39m,\u001b[38;5;28minput\u001b[39m()\u001b[38;5;241m.\u001b[39msplit())\n\u001b[0;32m      3\u001b[0m ls \u001b[38;5;241m=\u001b[39m [\u001b[38;5;241m0\u001b[39m] \u001b[38;5;241m+\u001b[39m \u001b[38;5;28mlist\u001b[39m(\u001b[38;5;28mmap\u001b[39m(\u001b[38;5;28mint\u001b[39m,\u001b[38;5;28minput\u001b[39m()\u001b[38;5;241m.\u001b[39msplit()))\n\u001b[0;32m      4\u001b[0m mx \u001b[38;5;241m=\u001b[39m \u001b[38;5;241m-\u001b[39m\u001b[38;5;241m100\u001b[39m\n",
      "\u001b[1;31mValueError\u001b[0m: not enough values to unpack (expected 2, got 0)"
     ]
    }
   ],
   "source": [
    "# 2559 수열\n",
    "N, K = map(int,input().split())\n",
    "ls = [0] + list(map(int,input().split()))\n",
    "mx = -100 * 100000 # 최소 주의 !!!!\n",
    "for i in range(N+1):\n",
    "    if i == 0:\n",
    "        continue\n",
    "    ls[i] += ls[i-1]\n",
    "    if i>=K:\n",
    "        temp = ls[i] - ls[i-K]\n",
    "        # print(temp)\n",
    "        if temp>mx:\n",
    "            mx = temp\n",
    "    \n",
    "print(mx)"
   ]
  }
 ],
 "metadata": {
  "kernelspec": {
   "display_name": "Python 3",
   "language": "python",
   "name": "python3"
  },
  "language_info": {
   "codemirror_mode": {
    "name": "ipython",
    "version": 3
   },
   "file_extension": ".py",
   "mimetype": "text/x-python",
   "name": "python",
   "nbconvert_exporter": "python",
   "pygments_lexer": "ipython3",
   "version": "3.12.2"
  }
 },
 "nbformat": 4,
 "nbformat_minor": 2
}
