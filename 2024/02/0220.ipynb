{
 "cells": [
  {
   "cell_type": "code",
   "execution_count": 7,
   "metadata": {},
   "outputs": [
    {
     "name": "stdout",
     "output_type": "stream",
     "text": [
      "64 9\n"
     ]
    }
   ],
   "source": [
    "# 10157 자리배정\n",
    "# 시간초과\n",
    "c, r = map(int,input().split())\n",
    "k = int(input())\n",
    "if k > c*r:\n",
    "    print(0)\n",
    "else:\n",
    "    ls = [[0]*c for _ in range(r)]\n",
    "    d = [(1,0), (0,1), (-1,0), (0,-1)] # direction\n",
    "    idx = 0\n",
    "    x, y = 0, 0\n",
    "    ls[x][y] = 1\n",
    "    cnt = 1\n",
    "    done = False\n",
    "    while True:\n",
    "        dr, dc = d[idx]\n",
    "        while -1<x+dr<r and -1<y+dc<c and ls[x+dr][y+dc] == 0:\n",
    "            # print(x,y)\n",
    "            if cnt == k:\n",
    "                done = True\n",
    "                break\n",
    "            x += dr\n",
    "            y += dc\n",
    "            ls[x][y] = 1\n",
    "            cnt += 1\n",
    "        if done:\n",
    "            break\n",
    "        idx += 1\n",
    "        idx %= 4\n",
    "    print(y+1,x+1)\n"
   ]
  },
  {
   "cell_type": "code",
   "execution_count": 1,
   "metadata": {},
   "outputs": [
    {
     "name": "stdout",
     "output_type": "stream",
     "text": [
      "6 6\n"
     ]
    }
   ],
   "source": [
    "# 10157 자리배정\n",
    "C, R = map(int,input().split())\n",
    "K = int(input())\n",
    "if K > C*R:\n",
    "    print(0)\n",
    "else:\n",
    "    d = [(1,0), (0,1), (-1,0), (0,-1)] # direction\n",
    "    if K <= R:\n",
    "        print(1,K)\n",
    "    else:\n",
    "        r, c = R-1, 0\n",
    "        temp = cnt = R\n",
    "        idx = 1\n",
    "        R -= 1 # start\n",
    "        C -= 1\n",
    "        while True:\n",
    "            dr, dc = d[idx]\n",
    "            if idx%2 == 0:\n",
    "                temp += R\n",
    "                if temp >= K:\n",
    "                    r += dr*(K-cnt)\n",
    "                    break\n",
    "                else: r += dr*R\n",
    "                cnt += R\n",
    "                R -= 1 \n",
    "            else:\n",
    "                temp += C\n",
    "                if temp >= K:\n",
    "                    c += dc*(K-cnt)\n",
    "                    break\n",
    "                else: c = c+dc*C\n",
    "                cnt += C\n",
    "                C -= 1\n",
    "            idx += 1\n",
    "            idx %= 4\n",
    "        print(c+1, r+1)"
   ]
  },
  {
   "cell_type": "code",
   "execution_count": 16,
   "metadata": {},
   "outputs": [
    {
     "name": "stdout",
     "output_type": "stream",
     "text": [
      "6\n"
     ]
    }
   ],
   "source": [
    "# 2491 수열\n",
    "# 틀림 맨 마지막 고려해야함\n",
    "N = int(input())\n",
    "ls = list(map(int,input().split()))\n",
    "mx = 1\n",
    "inc = 1\n",
    "dec = 1\n",
    "for i in range(N-1):\n",
    "    if ls[i] < ls[i+1]:\n",
    "        inc +=1\n",
    "        if dec > mx:\n",
    "            mx = dec\n",
    "        dec = 1\n",
    "    elif ls[i] > ls[i+1]:\n",
    "        dec += 1\n",
    "        if inc > mx:\n",
    "            mx = inc\n",
    "        inc = 0\n",
    "    elif ls[i] == ls[i+1]:\n",
    "        inc +=1\n",
    "        dec +=1\n",
    "if dec > mx:\n",
    "    mx = dec\n",
    "if inc > mx:\n",
    "    mx = inc\n",
    "print(mx)\n",
    "        "
   ]
  },
  {
   "cell_type": "code",
   "execution_count": null,
   "metadata": {},
   "outputs": [],
   "source": []
  }
 ],
 "metadata": {
  "kernelspec": {
   "display_name": "Python 3",
   "language": "python",
   "name": "python3"
  },
  "language_info": {
   "codemirror_mode": {
    "name": "ipython",
    "version": 3
   },
   "file_extension": ".py",
   "mimetype": "text/x-python",
   "name": "python",
   "nbconvert_exporter": "python",
   "pygments_lexer": "ipython3",
   "version": "3.12.2"
  }
 },
 "nbformat": 4,
 "nbformat_minor": 2
}
