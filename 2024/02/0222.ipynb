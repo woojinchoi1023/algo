{
 "cells": [
  {
   "cell_type": "code",
   "execution_count": 5,
   "metadata": {},
   "outputs": [
    {
     "name": "stdout",
     "output_type": "stream",
     "text": [
      "3\n"
     ]
    }
   ],
   "source": [
    "# 2491 수열\n",
    "\n",
    "N = int(input())\n",
    "ls = list(map(int,input().split()))\n",
    "mx = 1\n",
    "cnt = 1\n",
    "for i in range(1,N):\n",
    "    if ls[i] >= ls[i-1]:\n",
    "        cnt +=1\n",
    "    else:\n",
    "        if mx<cnt:\n",
    "            mx = cnt\n",
    "        cnt = 1\n",
    "if mx<cnt:\n",
    "    mx = cnt\n",
    "    cnt = 1\n",
    "for i in range(N-1,0,-1):\n",
    "    if ls[i] <= ls[i-1]:\n",
    "        cnt +=1\n",
    "    else:\n",
    "        if mx<cnt:\n",
    "            mx = cnt\n",
    "        cnt = 1\n",
    "if mx<cnt:\n",
    "    mx = cnt\n",
    "    cnt = 1\n",
    "print(mx)"
   ]
  },
  {
   "cell_type": "code",
   "execution_count": null,
   "metadata": {},
   "outputs": [],
   "source": [
    "# 2527 직사각형\n",
    "# 직사각형 a\n",
    "# 선분 b\n",
    "# 점 c\n",
    "# 없음 d\n",
    "\n",
    "def check():\n",
    "    x1,y1,x2,y2,x3,y3,x4,y4 = ls\n",
    "    # # 작은게 앞으로\n",
    "    # sq1 = (x2-x1)*(y2-y1)\n",
    "    # sq2 = (x4-x3)*(y4-y3)\n",
    "    # if sq1>sq2:\n",
    "    #     x1,y1,x2,y2,x3,y3,x4,y4 = x3,y3,x4,y4,x1,y1,x2,y2\n",
    "    # coord = [(x1,y1),(x1,y2),(x2,y1),(x2,y2),] # 작은 사각형 좌표\n",
    "    # for x,y in coord:\n",
    "    #     if x3<=x<=x4 and y3<=y<=y4:\n",
    "    #         if x3<x<x4 and y3<y<y4:\n",
    "    #             return 'a'\n",
    "    #         break\n",
    "    # else:\n",
    "    #     return 'd'\n",
    "\n",
    "    # if x1>x3:  # x1<=x3 보장\n",
    "    #     x1,y1,x2,y2,x3,y3,x4,y4 = x3,y3,x4,y4,x1,y1,x2,y2\n",
    "    # if x1 == x3:\n",
    "    #     if y1>y3:\n",
    "    #         y1,y2,y3,y4=y3,y4,y1,y2\n",
    "    #         if y2<y3:\n",
    "    #             return 'd'\n",
    "    #         elif y2==y3:\n",
    "    #             return 'b'\n",
    "    #         else:\n",
    "    #             return 'a'\n",
    "    # else: # x1<x3\n",
    "    #     if x3<x2<x4 and y3<y2<y4 or x3<x2 and \n",
    "\n",
    "    if x1>x3:  # x1<=x3 보장\n",
    "        x1,y1,x2,y2,x3,y3,x4,y4 = x3,y3,x4,y4,x1,y1,x2,y2\n",
    "    cnt = 0\n",
    "    for x in range(x1,x3+1):\n",
    "        for y in range(y1,y3+1):\n",
    "            cnt+=1\n",
    "    return cnt\n",
    "\n",
    "for i in range(4):\n",
    "    ls = list(map(int,input().split()))\n",
    "    check()\n"
   ]
  },
  {
   "cell_type": "code",
   "execution_count": 6,
   "metadata": {},
   "outputs": [
    {
     "name": "stdout",
     "output_type": "stream",
     "text": [
      "0\n"
     ]
    }
   ],
   "source": [
    "for i in range(0,1):\n",
    "    print(i)"
   ]
  },
  {
   "cell_type": "code",
   "execution_count": 10,
   "metadata": {},
   "outputs": [
    {
     "name": "stdout",
     "output_type": "stream",
     "text": [
      "yes\n"
     ]
    }
   ],
   "source": [
    "x1,y1,x2,y2,x3,y3,x4,y4 = map(int,input().split())\n",
    "sq1X = set(i for i in range(x1,x2+1))\n",
    "sq2X = set(i for i in range(x3,x4+1))\n",
    "sq1Y = set(i for i in range(y1,y2+1))\n",
    "sq2Y = set(i for i in range(y3,y4+1))\n",
    "if sq1X & sq2X and sq1Y & sq2Y:\n",
    "    print('yes')\n",
    "else: print('no')"
   ]
  }
 ],
 "metadata": {
  "kernelspec": {
   "display_name": "Python 3",
   "language": "python",
   "name": "python3"
  },
  "language_info": {
   "codemirror_mode": {
    "name": "ipython",
    "version": 3
   },
   "file_extension": ".py",
   "mimetype": "text/x-python",
   "name": "python",
   "nbconvert_exporter": "python",
   "pygments_lexer": "ipython3",
   "version": "3.12.2"
  }
 },
 "nbformat": 4,
 "nbformat_minor": 2
}
