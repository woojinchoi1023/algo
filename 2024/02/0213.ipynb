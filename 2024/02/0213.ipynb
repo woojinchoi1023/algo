{
 "cells": [
  {
   "cell_type": "code",
   "execution_count": 15,
   "metadata": {},
   "outputs": [
    {
     "name": "stdout",
     "output_type": "stream",
     "text": [
      "250 35\n",
      "{838: 0, 814: 1, 790: 2, 769: 3, 748: 4, 727: 5, 706: 6, 685: 7, 664: 8, 643: 9, 622: 10, 601: 11, 580: 12, 559: 13, 538: 14, 517: 15, 496: 16, 478: 17, 460: 18, 442: 19, 424: 20, 406: 21, 388: 22, 373: 23, 358: 24, 343: 25, 331: 26, 319: 27, 307: 28, 295: 29, 286: 30, 277: 31, 268: 32, 262: 33, 256: 34, 250: 35}\n"
     ]
    }
   ],
   "source": [
    "# 18111 마인크래프트\n",
    "\n",
    "import sys\n",
    "input= sys.stdin.readline\n",
    "\n",
    "N,M,B = map(int,input().split())\n",
    "ls = []\n",
    "for _ in range(N):\n",
    "    ls += list(map(int,input().split()))\n",
    "\n",
    "cand = {}\n",
    "s = sum(ls)\n",
    "maxV = (s + B)//(N*M)\n",
    "temp = 10000000000000000000\n",
    "prev = 10000000000000000000\n",
    "for i in range(maxV+1):\n",
    "    if s + B - i * N * M < 0:\n",
    "        continue\n",
    "    tm = sum([2*(j-i) if j-i>0 else i-j for j in ls])\n",
    "    if prev < tm:\n",
    "        break\n",
    "    prev = tm\n",
    "    if tm < temp:\n",
    "        temp = tm\n",
    "    cand[tm] = i\n",
    "\n",
    "if temp == 10000000000000000000:\n",
    "    print(0,0)\n",
    "else:\n",
    "    print(temp, cand[temp])\n",
    "\n",
    "# print(cand)\n",
    "# if cand:\n",
    "#     print(*cand[0])\n",
    "# else:\n",
    "#     print(0,0)\n"
   ]
  },
  {
   "cell_type": "code",
   "execution_count": 1,
   "metadata": {},
   "outputs": [
    {
     "name": "stdout",
     "output_type": "stream",
     "text": [
      "#1 17\n"
     ]
    }
   ],
   "source": [
    "# 5432. 쇠막대기 자르기\n",
    "for t in range(int(input())):\n",
    "    s = input()\n",
    "    s = s.replace('()','l',-1) # l(((ll)(l)l))(l)\n",
    "    c = 0\n",
    "    st = []\n",
    "    for i in s:\n",
    "        if i == '(':\n",
    "            st.append(i)\n",
    "        elif i == 'l':\n",
    "            c += len(st)\n",
    "        elif i == ')':\n",
    "            c += 1\n",
    "            st.pop()\n",
    "    print(f'#{t+1}', c)\n",
    "\n"
   ]
  },
  {
   "cell_type": "code",
   "execution_count": 20,
   "metadata": {},
   "outputs": [
    {
     "name": "stdout",
     "output_type": "stream",
     "text": [
      "608\n"
     ]
    }
   ],
   "source": [
    "# 1016 제곱 ㄴㄴ 수\n",
    "# import sys\n",
    "# input = sys.stdin.readline\n",
    "\n",
    "N, M = map(int, input().split())\n",
    "is_blacklist = [False] * (M - N + 1)\n",
    "cnt = M-N+1\n",
    "for i in range(2, int(M**0.5) + 1):\n",
    "    if N<=i<=M and is_blacklist[i-N]:\n",
    "        continue\n",
    "\n",
    "    for j in range(i**2, M + 1, i**2):\n",
    "        # print(j-N)\n",
    "        if N<=j<=M and not is_blacklist[j-N]:\n",
    "            is_blacklist[j-N] = True\n",
    "            cnt -= 1\n",
    "        # if is_blacklist[j]:\n",
    "        #     continue\n",
    "        # else:\n",
    "        #     is_blacklist[j] = True\n",
    "        # if N<=j<=M:\n",
    "        #     cnt -= 1\n",
    "\n",
    "# for i in range(N, M + 1):\n",
    "#     if not is_blacklist[i]:\n",
    "#         cnt += 1\n",
    "# print(is_blacklist)\n",
    "print(cnt)"
   ]
  },
  {
   "cell_type": "code",
   "execution_count": 26,
   "metadata": {},
   "outputs": [
    {
     "name": "stdout",
     "output_type": "stream",
     "text": [
      "608\n"
     ]
    }
   ],
   "source": [
    "# 1016 제곱 ㄴㄴ 수\n",
    "# import sys\n",
    "# input = sys.stdin.readline\n",
    "\n",
    "# import time\n",
    "# start = time.time()\n",
    "# N, M = 1, 1000\n",
    "\n",
    "N, M = map(int, input().split())\n",
    "is_blacklist = set()\n",
    "cnt = M-N+1\n",
    "for i in range(2, int(M**0.5) + 1):\n",
    "    if i in is_blacklist:\n",
    "        continue\n",
    "\n",
    "    for j in range((N+1)//(i**2), M + 1, i**2):\n",
    "        # print(j-N)\n",
    "        # if N<=j<=M and not is_blacklist[j-N]:\n",
    "        #     is_blacklist[j-N] = True\n",
    "        #     cnt -= 1\n",
    "        if j in is_blacklist:\n",
    "            continue\n",
    "        else:\n",
    "            is_blacklist.add(j)\n",
    "        if N<=j<=M:\n",
    "            cnt -= 1\n",
    "\n",
    "# for i in range(N, M + 1):\n",
    "#     if not is_blacklist[i]:\n",
    "#         cnt += 1\n",
    "# print(is_blacklist)\n",
    "print(cnt)\n",
    "\n",
    "# print(time.time()-start)"
   ]
  },
  {
   "cell_type": "code",
   "execution_count": 45,
   "metadata": {},
   "outputs": [
    {
     "name": "stdout",
     "output_type": "stream",
     "text": [
      "608\n",
      "0.0004439353942871094\n"
     ]
    }
   ],
   "source": [
    "# 1016 제곱 ㄴㄴ 수\n",
    "# import sys\n",
    "# input = sys.stdin.readline\n",
    "# import time\n",
    "# start = time.time()\n",
    "# N, M = 1,1000\n",
    "N, M = map(int, input().split())\n",
    "is_blacklist = [False] * (M - N + 1)\n",
    "cnt = M-N+1\n",
    "for i in range(2, int(M**0.5) + 1):\n",
    "    # if N<=i<=M and is_blacklist[i-N]:\n",
    "    #     continue\n",
    "\n",
    "    for j in range((N-1)//(i**2), M + 1, i**2):\n",
    "        # print(j-N)\n",
    "        if not is_blacklist[j-N]:\n",
    "            is_blacklist[j-N] = True\n",
    "            cnt -= 1\n",
    "        # if is_blacklist[j]:\n",
    "        #     continue\n",
    "        # else:\n",
    "        #     is_blacklist[j] = True\n",
    "        # if N<=j<=M:\n",
    "        #     cnt -= 1\n",
    "\n",
    "# for i in range(N, M + 1):\n",
    "#     if not is_blacklist[i]:\n",
    "#         cnt += 1\n",
    "# print(is_blacklist)\n",
    "\n",
    "print(cnt)\n",
    "# print(time.time()-start)"
   ]
  },
  {
   "cell_type": "code",
   "execution_count": 48,
   "metadata": {},
   "outputs": [
    {
     "name": "stdout",
     "output_type": "stream",
     "text": [
      "608\n",
      "0.0010609626770019531\n"
     ]
    }
   ],
   "source": [
    "import time\n",
    "start = time.time()\n",
    "min, max = map(int, input().split())\n",
    "min,max = 1,1000\n",
    "answer = max - min + 1\n",
    "divisibleByTheSquare = [False] * (max-min+1)\n",
    "\n",
    "for i in range(2, int(max**0.5+1)): #9 12.. 9 10 11 12 ... 8//4 3*4 = 12\n",
    "    square = i**2\n",
    "    for j in range((((min-1)//square)+1)*square, max+1, square):\n",
    "        if not divisibleByTheSquare[j-min] :\n",
    "            divisibleByTheSquare[j-min] = True\n",
    "            answer -= 1\n",
    "print(answer)\n",
    "print(time.time()-start)"
   ]
  }
 ],
 "metadata": {
  "kernelspec": {
   "display_name": "Python 3",
   "language": "python",
   "name": "python3"
  },
  "language_info": {
   "codemirror_mode": {
    "name": "ipython",
    "version": 3
   },
   "file_extension": ".py",
   "mimetype": "text/x-python",
   "name": "python",
   "nbconvert_exporter": "python",
   "pygments_lexer": "ipython3",
   "version": "3.12.2"
  }
 },
 "nbformat": 4,
 "nbformat_minor": 2
}
