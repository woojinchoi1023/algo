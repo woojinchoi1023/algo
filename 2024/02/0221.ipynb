{
 "cells": [
  {
   "cell_type": "code",
   "execution_count": 33,
   "metadata": {},
   "outputs": [
    {
     "name": "stdout",
     "output_type": "stream",
     "text": [
      "mirkovniz\n"
     ]
    }
   ],
   "source": [
    "# 9935 문자열 폭발\n",
    "\n",
    "s = input()\n",
    "bomb = input()\n",
    "# s='12ab112ab2ab'\n",
    "# bomb='12ab'\n",
    "N = len(bomb)\n",
    "st = ''\n",
    "cnt = 0\n",
    "last = bomb[-1]\n",
    "\n",
    "for i in s:\n",
    "    # print(i, st)\n",
    "    st+=i\n",
    "    cnt+=1\n",
    "    if cnt >= N and i == last:\n",
    "        if st[-N:] == bomb:\n",
    "            st = st[:-N] # 시간 복잡도 : O(len(st)-N) > O(N)\n",
    "\n",
    "if st: print(st)\n",
    "else: print('FRULA')"
   ]
  },
  {
   "cell_type": "code",
   "execution_count": 38,
   "metadata": {},
   "outputs": [
    {
     "name": "stdout",
     "output_type": "stream",
     "text": [
      "mirkovniz\n"
     ]
    }
   ],
   "source": [
    "# 9935 문자열 폭발\n",
    "\n",
    "s = input()\n",
    "bomb = input()\n",
    "\n",
    "\n",
    "# s = 'mirkovC4nizCC44'\n",
    "# bomb = 'C4'\n",
    "bomb = list(bomb)\n",
    "N = len(bomb)\n",
    "st = []\n",
    "\n",
    "for i in s:\n",
    "    st.append(i)\n",
    "    if st[-N:] == bomb:\n",
    "        # for i in range(N):\n",
    "        #     st.pop()\n",
    "        del st[-N:]\n",
    "\n",
    "\n",
    "if st: print(*st,sep='')\n",
    "else: print('FRULA')"
   ]
  },
  {
   "cell_type": "code",
   "execution_count": 15,
   "metadata": {},
   "outputs": [
    {
     "name": "stdout",
     "output_type": "stream",
     "text": [
      "mirkovniz\n"
     ]
    }
   ],
   "source": [
    "s = input()\n",
    "bomb = input()\n",
    "while bomb in s:\n",
    "    s = ''.join(s.split(bomb))\n",
    "if s: print(s)\n",
    "else: print('FRULA')"
   ]
  },
  {
   "cell_type": "code",
   "execution_count": 27,
   "metadata": {},
   "outputs": [
    {
     "name": "stdout",
     "output_type": "stream",
     "text": [
      "FRULA\n"
     ]
    }
   ],
   "source": [
    "\n",
    "s = 'mirkovC4nizCC44'\n",
    "bomb = 'C4'\n",
    "\n",
    "s='12ab112ab2ab'\n",
    "bomb='12ab'\n",
    "\n",
    "st = ''\n",
    "\n",
    "for i in s:\n",
    "    st+=i\n",
    "    if i == bomb[-1]:\n",
    "        if st[-len(bomb):] == bomb:\n",
    "            st = st[:-len(bomb)]\n",
    "\n",
    "if st: print(st)\n",
    "else: print('FRULA')"
   ]
  },
  {
   "cell_type": "code",
   "execution_count": 14,
   "metadata": {},
   "outputs": [
    {
     "data": {
      "text/plain": [
       "'mirkovniz'"
      ]
     },
     "execution_count": 14,
     "metadata": {},
     "output_type": "execute_result"
    }
   ],
   "source": [
    "# s = input()\n",
    "# bomb = input()\n",
    "s = 'mirkovC4nizCC44'\n",
    "bomb = 'C4'\n",
    "while bomb in s:\n",
    "    s = ''.join(s.split(bomb))\n",
    "if s: print(s)\n",
    "else: print('FRULA')"
   ]
  },
  {
   "cell_type": "code",
   "execution_count": 40,
   "metadata": {},
   "outputs": [
    {
     "ename": "ValueError",
     "evalue": "not enough values to unpack (expected 3, got 0)",
     "output_type": "error",
     "traceback": [
      "\u001b[1;31m---------------------------------------------------------------------------\u001b[0m",
      "\u001b[1;31mValueError\u001b[0m                                Traceback (most recent call last)",
      "Cell \u001b[1;32mIn[40], line 22\u001b[0m\n\u001b[0;32m     16\u001b[0m             \u001b[38;5;28;01mif\u001b[39;00m st:\n\u001b[0;32m     17\u001b[0m                 V \u001b[38;5;241m=\u001b[39m st\u001b[38;5;241m.\u001b[39mpop()\n\u001b[1;32m---> 22\u001b[0m N,M,V \u001b[38;5;241m=\u001b[39m \u001b[38;5;28mmap\u001b[39m(\u001b[38;5;28mint\u001b[39m,\u001b[38;5;28minput\u001b[39m()\u001b[38;5;241m.\u001b[39msplit())\n\u001b[0;32m     23\u001b[0m ls \u001b[38;5;241m=\u001b[39m [[] \u001b[38;5;28;01mfor\u001b[39;00m _ \u001b[38;5;129;01min\u001b[39;00m \u001b[38;5;28mrange\u001b[39m(N\u001b[38;5;241m+\u001b[39m\u001b[38;5;241m1\u001b[39m)]    \n\u001b[0;32m     24\u001b[0m \u001b[38;5;28;01mfor\u001b[39;00m _ \u001b[38;5;129;01min\u001b[39;00m \u001b[38;5;28mrange\u001b[39m(M):\n",
      "\u001b[1;31mValueError\u001b[0m: not enough values to unpack (expected 3, got 0)"
     ]
    }
   ],
   "source": [
    "# 1260 DFS와 BFS\n",
    "def dfs(ls,N,V):\n",
    "    visited=[0]*(N+1)\n",
    "    visited[V] = 1\n",
    "    st = []\n",
    "    st.append(V)\n",
    "    while st:\n",
    "        for i in ls[V]:\n",
    "            if not visited[i]:\n",
    "                st.append(i)\n",
    "                ans.append(i)\n",
    "                visited[i] = 1\n",
    "                V = i\n",
    "                break\n",
    "        else:\n",
    "            if st:\n",
    "                V = st.pop()\n",
    "\n",
    "            \n",
    "    \n",
    "\n",
    "N,M,V = map(int,input().split())\n",
    "ls = [[] for _ in range(N+1)]    \n",
    "for _ in range(M):\n",
    "    a,b = map(int,input().split())\n",
    "    if b not in ls[a]:\n",
    "        ls[a].append(b)\n",
    "ans = []\n",
    "dfs(ls,N,V)\n",
    "print(*ans)\n"
   ]
  },
  {
   "cell_type": "code",
   "execution_count": 1,
   "metadata": {},
   "outputs": [
    {
     "ename": "KeyboardInterrupt",
     "evalue": "",
     "output_type": "error",
     "traceback": [
      "\u001b[1;31m---------------------------------------------------------------------------\u001b[0m",
      "\u001b[1;31mKeyboardInterrupt\u001b[0m                         Traceback (most recent call last)",
      "Cell \u001b[1;32mIn[1], line 10\u001b[0m\n\u001b[0;32m      8\u001b[0m s\u001b[38;5;241m=\u001b[39m\u001b[38;5;241m1\u001b[39m\n\u001b[0;32m      9\u001b[0m e\u001b[38;5;241m=\u001b[39m\u001b[38;5;241m100000000\u001b[39m\n\u001b[1;32m---> 10\u001b[0m \u001b[38;5;28;01mwhile\u001b[39;00m s\u001b[38;5;241m<\u001b[39me:\n\u001b[0;32m     11\u001b[0m     m \u001b[38;5;241m=\u001b[39m (s\u001b[38;5;241m+\u001b[39me)\u001b[38;5;241m/\u001b[39m\u001b[38;5;241m/\u001b[39m\u001b[38;5;241m2\u001b[39m\n\u001b[0;32m     13\u001b[0m \u001b[38;5;28;01mfor\u001b[39;00m i \u001b[38;5;129;01min\u001b[39;00m \u001b[38;5;28mrange\u001b[39m(\u001b[38;5;241m0\u001b[39m,\u001b[38;5;241m1\u001b[39m):\n",
      "\u001b[1;31mKeyboardInterrupt\u001b[0m: "
     ]
    }
   ],
   "source": [
    "# 11687 팩토리얼 0의 개수\n",
    "import math\n",
    "def a(N):\n",
    "    return max(int(math.log(N,5))-1,0) + N//5\n",
    "\n",
    "tar = int(input())\n",
    "\n",
    "s=1\n",
    "e=100000000\n",
    "while s<e:\n",
    "    m = (s+e)//2"
   ]
  }
 ],
 "metadata": {
  "kernelspec": {
   "display_name": "Python 3",
   "language": "python",
   "name": "python3"
  },
  "language_info": {
   "codemirror_mode": {
    "name": "ipython",
    "version": 3
   },
   "file_extension": ".py",
   "mimetype": "text/x-python",
   "name": "python",
   "nbconvert_exporter": "python",
   "pygments_lexer": "ipython3",
   "version": "3.12.2"
  }
 },
 "nbformat": 4,
 "nbformat_minor": 2
}
